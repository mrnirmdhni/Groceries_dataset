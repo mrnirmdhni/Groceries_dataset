{
 "cells": [
  {
   "cell_type": "markdown",
   "metadata": {},
   "source": [
    "### 1. Mengimpor Library yang Diperlukan"
   ]
  },
  {
   "cell_type": "code",
   "execution_count": 30,
   "metadata": {},
   "outputs": [],
   "source": [
    "import pandas as pd\n",
    "from mlxtend.frequent_patterns import apriori, association_rules"
   ]
  },
  {
   "cell_type": "markdown",
   "metadata": {},
   "source": [
    "### 2. Mengimpor Data"
   ]
  },
  {
   "cell_type": "code",
   "execution_count": 31,
   "metadata": {},
   "outputs": [],
   "source": [
    "# Mengimpor dataset dari file CSV\n",
    "data = pd.read_csv(r'C:\\Users\\User\\Documents\\Modul Data Mining\\Asosiasi_Apriori\\Groceries_dataset.csv')"
   ]
  },
  {
   "cell_type": "code",
   "execution_count": 32,
   "metadata": {},
   "outputs": [
    {
     "data": {
      "text/html": [
       "<div>\n",
       "<style scoped>\n",
       "    .dataframe tbody tr th:only-of-type {\n",
       "        vertical-align: middle;\n",
       "    }\n",
       "\n",
       "    .dataframe tbody tr th {\n",
       "        vertical-align: top;\n",
       "    }\n",
       "\n",
       "    .dataframe thead th {\n",
       "        text-align: right;\n",
       "    }\n",
       "</style>\n",
       "<table border=\"1\" class=\"dataframe\">\n",
       "  <thead>\n",
       "    <tr style=\"text-align: right;\">\n",
       "      <th></th>\n",
       "      <th>Member_number</th>\n",
       "      <th>Date</th>\n",
       "      <th>itemDescription</th>\n",
       "    </tr>\n",
       "  </thead>\n",
       "  <tbody>\n",
       "    <tr>\n",
       "      <th>0</th>\n",
       "      <td>1808</td>\n",
       "      <td>21-07-2015</td>\n",
       "      <td>tropical fruit</td>\n",
       "    </tr>\n",
       "    <tr>\n",
       "      <th>1</th>\n",
       "      <td>2552</td>\n",
       "      <td>05-01-2015</td>\n",
       "      <td>whole milk</td>\n",
       "    </tr>\n",
       "    <tr>\n",
       "      <th>2</th>\n",
       "      <td>2300</td>\n",
       "      <td>19-09-2015</td>\n",
       "      <td>pip fruit</td>\n",
       "    </tr>\n",
       "    <tr>\n",
       "      <th>3</th>\n",
       "      <td>1187</td>\n",
       "      <td>12-12-2015</td>\n",
       "      <td>other vegetables</td>\n",
       "    </tr>\n",
       "    <tr>\n",
       "      <th>4</th>\n",
       "      <td>3037</td>\n",
       "      <td>01-02-2015</td>\n",
       "      <td>whole milk</td>\n",
       "    </tr>\n",
       "  </tbody>\n",
       "</table>\n",
       "</div>"
      ],
      "text/plain": [
       "   Member_number        Date   itemDescription\n",
       "0           1808  21-07-2015    tropical fruit\n",
       "1           2552  05-01-2015        whole milk\n",
       "2           2300  19-09-2015         pip fruit\n",
       "3           1187  12-12-2015  other vegetables\n",
       "4           3037  01-02-2015        whole milk"
      ]
     },
     "execution_count": 32,
     "metadata": {},
     "output_type": "execute_result"
    }
   ],
   "source": [
    "data.head()"
   ]
  },
  {
   "cell_type": "code",
   "execution_count": 33,
   "metadata": {},
   "outputs": [],
   "source": [
    "df = data"
   ]
  },
  {
   "cell_type": "markdown",
   "metadata": {},
   "source": [
    "### 3. Membersihkan dan Menyiapkan Data"
   ]
  },
  {
   "cell_type": "code",
   "execution_count": 34,
   "metadata": {},
   "outputs": [
    {
     "name": "stdout",
     "output_type": "stream",
     "text": [
      "  Member_number       Date   itemDescription\n",
      "0          1808 2015-07-21    tropical fruit\n",
      "1          2552 2015-01-05        whole milk\n",
      "2          2300 2015-09-19         pip fruit\n",
      "3          1187 2015-12-12  other vegetables\n",
      "4          3037 2015-02-01        whole milk\n"
     ]
    }
   ],
   "source": [
    "# Menghapus spasi ekstra pada kolom 'itemDescription'\n",
    "data['itemDescription'] = data['itemDescription'].str.strip()\n",
    "\n",
    "# Menghapus baris yang tidak memiliki 'Member_number' atau 'itemDescription'\n",
    "data.dropna(axis=0, subset=['Member_number', 'itemDescription'], inplace=True)\n",
    "\n",
    "# Mengubah 'Member_number' menjadi tipe data string\n",
    "data['Member_number'] = data['Member_number'].astype('str')\n",
    "\n",
    "# Menyaring transaksi hanya untuk tahun tertentu jika diperlukan (misalnya 2015)\n",
    "data['Date'] = pd.to_datetime(data['Date'], format='%d-%m-%Y')\n",
    "data_2015 = data[data['Date'].dt.year == 2015]\n",
    "\n",
    "# Menampilkan data yang telah disaring\n",
    "print(data_2015.head())"
   ]
  },
  {
   "cell_type": "markdown",
   "metadata": {},
   "source": [
    "### 4. Menerapkan Algoritma Apriori"
   ]
  },
  {
   "cell_type": "code",
   "execution_count": 35,
   "metadata": {},
   "outputs": [
    {
     "name": "stdout",
     "output_type": "stream",
     "text": [
      "      tropical fruit  whole milk  pip fruit  other vegetables  rolls/buns  \\\n",
      "1808               0           0          0                 0           0   \n",
      "2552               0           0          0                 0           0   \n",
      "2300               0           0          0                 0           0   \n",
      "1187               0           0          0                 0           0   \n",
      "3037               0           0          0                 0           0   \n",
      "\n",
      "      pot plants  citrus fruit  beef  frankfurter  chicken  \n",
      "1808           0             0     0            0        0  \n",
      "2552           0             0     0            1        0  \n",
      "2300           0             0     0            0        0  \n",
      "1187           0             0     0            0        0  \n",
      "3037           0             0     0            0        0  \n"
     ]
    }
   ],
   "source": [
    "import numpy as np\n",
    "\n",
    "# Membuat pivot tabel untuk transaksi dalam bentuk one-hot encoding\n",
    "basket = (data_2015.groupby(['Member_number', 'itemDescription'])['itemDescription']\n",
    "        .count().unstack().reset_index().fillna(0).set_index('Member_number'))\n",
    "\n",
    "# Mengonversi data Quantity menjadi one-hot encoding (1 jika dibeli, 0 jika tidak)\n",
    "basket = np.where(basket > 0, 1, 0)\n",
    "basket = pd.DataFrame(basket, index=data_2015['Member_number'].unique(), columns=data_2015['itemDescription'].unique())\n",
    "\n",
    "# Menampilkan beberapa kolom pertama untuk memeriksa hasil\n",
    "print(basket.iloc[:, :10].head())  # Hanya menampilkan 10 kolom pertama"
   ]
  },
  {
   "cell_type": "markdown",
   "metadata": {},
   "source": [
    "### 5. Menjalankan Algoritma Apriori"
   ]
  },
  {
   "cell_type": "code",
   "execution_count": 36,
   "metadata": {},
   "outputs": [
    {
     "name": "stdout",
     "output_type": "stream",
     "text": [
      "    support        itemsets\n",
      "0  0.047978    (whole milk)\n",
      "1  0.016596  (citrus fruit)\n",
      "2  0.097465   (frankfurter)\n",
      "3  0.058238       (chicken)\n",
      "4  0.041340        (butter)\n"
     ]
    }
   ],
   "source": [
    "# Mengonversi data menjadi tipe boolean\n",
    "basket_bool = basket.astype(bool)\n",
    "\n",
    "# Menjalankan algoritma Apriori untuk menemukan itemset yang sering muncul\n",
    "frequent_itemsets = apriori(basket_bool, min_support=0.01, use_colnames=True)\n",
    "print(frequent_itemsets.head())"
   ]
  },
  {
   "cell_type": "markdown",
   "metadata": {},
   "source": [
    "### 6. Menyusun Aturan Asosiasi"
   ]
  },
  {
   "cell_type": "code",
   "execution_count": 37,
   "metadata": {},
   "outputs": [
    {
     "name": "stdout",
     "output_type": "stream",
     "text": [
      "       antecedents      consequents  antecedent support  consequent support  \\\n",
      "0     (whole milk)       (cookware)            0.047978            0.262824   \n",
      "1       (cookware)     (whole milk)            0.262824            0.047978   \n",
      "2     (whole milk)  (sweet spreads)            0.047978            0.226916   \n",
      "3  (sweet spreads)     (whole milk)            0.226916            0.047978   \n",
      "4     (whole milk)     (mayonnaise)            0.047978            0.197043   \n",
      "\n",
      "    support  confidence      lift  representativity  leverage  conviction  \\\n",
      "0  0.014484    0.301887  1.148626               1.0  0.001874    1.055954   \n",
      "1  0.014484    0.055109  1.148626               1.0  0.001874    1.007547   \n",
      "2  0.012372    0.257862  1.136374               1.0  0.001485    1.041698   \n",
      "3  0.012372    0.054521  1.136374               1.0  0.001485    1.006920   \n",
      "4  0.011467    0.238994  1.212902               1.0  0.002013    1.055126   \n",
      "\n",
      "   zhangs_metric   jaccard  certainty  kulczynski  \n",
      "0       0.135915  0.048880   0.052989    0.178498  \n",
      "1       0.175527  0.048880   0.007490    0.178498  \n",
      "2       0.126056  0.047126   0.040029    0.156191  \n",
      "3       0.155233  0.047126   0.006873    0.156191  \n",
      "4       0.184377  0.049096   0.052245    0.148593  \n"
     ]
    }
   ],
   "source": [
    "from mlxtend.frequent_patterns import association_rules\n",
    "\n",
    "# Menyusun aturan asosiasi dengan menambahkan num_itemsets\n",
    "rules = association_rules(frequent_itemsets, metric=\"lift\", min_threshold=1, num_itemsets=1)\n",
    "\n",
    "# Menampilkan hasilnya\n",
    "print(rules.head())\n"
   ]
  },
  {
   "cell_type": "markdown",
   "metadata": {},
   "source": [
    "### 7. Menyaring Aturan Berdasarkan Confidence dan Lift"
   ]
  },
  {
   "cell_type": "code",
   "execution_count": 38,
   "metadata": {},
   "outputs": [],
   "source": [
    "# Menyaring aturan dengan lift > 1 dan confidence > 0.7\n",
    "rules_lift = rules[rules['lift'] > 1]\n",
    "rules_confidence = rules[rules['confidence'] > 0.7]"
   ]
  },
  {
   "cell_type": "code",
   "execution_count": 39,
   "metadata": {},
   "outputs": [
    {
     "data": {
      "text/html": [
       "<div>\n",
       "<style scoped>\n",
       "    .dataframe tbody tr th:only-of-type {\n",
       "        vertical-align: middle;\n",
       "    }\n",
       "\n",
       "    .dataframe tbody tr th {\n",
       "        vertical-align: top;\n",
       "    }\n",
       "\n",
       "    .dataframe thead th {\n",
       "        text-align: right;\n",
       "    }\n",
       "</style>\n",
       "<table border=\"1\" class=\"dataframe\">\n",
       "  <thead>\n",
       "    <tr style=\"text-align: right;\">\n",
       "      <th></th>\n",
       "      <th>antecedents</th>\n",
       "      <th>consequents</th>\n",
       "      <th>antecedent support</th>\n",
       "      <th>consequent support</th>\n",
       "      <th>support</th>\n",
       "      <th>confidence</th>\n",
       "      <th>lift</th>\n",
       "      <th>representativity</th>\n",
       "      <th>leverage</th>\n",
       "      <th>conviction</th>\n",
       "      <th>zhangs_metric</th>\n",
       "      <th>jaccard</th>\n",
       "      <th>certainty</th>\n",
       "      <th>kulczynski</th>\n",
       "    </tr>\n",
       "  </thead>\n",
       "  <tbody>\n",
       "    <tr>\n",
       "      <th>0</th>\n",
       "      <td>(whole milk)</td>\n",
       "      <td>(cookware)</td>\n",
       "      <td>0.047978</td>\n",
       "      <td>0.262824</td>\n",
       "      <td>0.014484</td>\n",
       "      <td>0.301887</td>\n",
       "      <td>1.148626</td>\n",
       "      <td>1.0</td>\n",
       "      <td>0.001874</td>\n",
       "      <td>1.055954</td>\n",
       "      <td>0.135915</td>\n",
       "      <td>0.048880</td>\n",
       "      <td>0.052989</td>\n",
       "      <td>0.178498</td>\n",
       "    </tr>\n",
       "    <tr>\n",
       "      <th>1</th>\n",
       "      <td>(cookware)</td>\n",
       "      <td>(whole milk)</td>\n",
       "      <td>0.262824</td>\n",
       "      <td>0.047978</td>\n",
       "      <td>0.014484</td>\n",
       "      <td>0.055109</td>\n",
       "      <td>1.148626</td>\n",
       "      <td>1.0</td>\n",
       "      <td>0.001874</td>\n",
       "      <td>1.007547</td>\n",
       "      <td>0.175527</td>\n",
       "      <td>0.048880</td>\n",
       "      <td>0.007490</td>\n",
       "      <td>0.178498</td>\n",
       "    </tr>\n",
       "    <tr>\n",
       "      <th>2</th>\n",
       "      <td>(whole milk)</td>\n",
       "      <td>(sweet spreads)</td>\n",
       "      <td>0.047978</td>\n",
       "      <td>0.226916</td>\n",
       "      <td>0.012372</td>\n",
       "      <td>0.257862</td>\n",
       "      <td>1.136374</td>\n",
       "      <td>1.0</td>\n",
       "      <td>0.001485</td>\n",
       "      <td>1.041698</td>\n",
       "      <td>0.126056</td>\n",
       "      <td>0.047126</td>\n",
       "      <td>0.040029</td>\n",
       "      <td>0.156191</td>\n",
       "    </tr>\n",
       "    <tr>\n",
       "      <th>3</th>\n",
       "      <td>(sweet spreads)</td>\n",
       "      <td>(whole milk)</td>\n",
       "      <td>0.226916</td>\n",
       "      <td>0.047978</td>\n",
       "      <td>0.012372</td>\n",
       "      <td>0.054521</td>\n",
       "      <td>1.136374</td>\n",
       "      <td>1.0</td>\n",
       "      <td>0.001485</td>\n",
       "      <td>1.006920</td>\n",
       "      <td>0.155233</td>\n",
       "      <td>0.047126</td>\n",
       "      <td>0.006873</td>\n",
       "      <td>0.156191</td>\n",
       "    </tr>\n",
       "    <tr>\n",
       "      <th>4</th>\n",
       "      <td>(whole milk)</td>\n",
       "      <td>(mayonnaise)</td>\n",
       "      <td>0.047978</td>\n",
       "      <td>0.197043</td>\n",
       "      <td>0.011467</td>\n",
       "      <td>0.238994</td>\n",
       "      <td>1.212902</td>\n",
       "      <td>1.0</td>\n",
       "      <td>0.002013</td>\n",
       "      <td>1.055126</td>\n",
       "      <td>0.184377</td>\n",
       "      <td>0.049096</td>\n",
       "      <td>0.052245</td>\n",
       "      <td>0.148593</td>\n",
       "    </tr>\n",
       "    <tr>\n",
       "      <th>...</th>\n",
       "      <td>...</td>\n",
       "      <td>...</td>\n",
       "      <td>...</td>\n",
       "      <td>...</td>\n",
       "      <td>...</td>\n",
       "      <td>...</td>\n",
       "      <td>...</td>\n",
       "      <td>...</td>\n",
       "      <td>...</td>\n",
       "      <td>...</td>\n",
       "      <td>...</td>\n",
       "      <td>...</td>\n",
       "      <td>...</td>\n",
       "      <td>...</td>\n",
       "    </tr>\n",
       "    <tr>\n",
       "      <th>1661</th>\n",
       "      <td>(make up remover, mayonnaise)</td>\n",
       "      <td>(ready soups, sweet spreads)</td>\n",
       "      <td>0.047978</td>\n",
       "      <td>0.094750</td>\n",
       "      <td>0.010260</td>\n",
       "      <td>0.213836</td>\n",
       "      <td>2.256860</td>\n",
       "      <td>1.0</td>\n",
       "      <td>0.005714</td>\n",
       "      <td>1.151479</td>\n",
       "      <td>0.584972</td>\n",
       "      <td>0.077449</td>\n",
       "      <td>0.131551</td>\n",
       "      <td>0.161058</td>\n",
       "    </tr>\n",
       "    <tr>\n",
       "      <th>1662</th>\n",
       "      <td>(ready soups)</td>\n",
       "      <td>(sweet spreads, make up remover, mayonnaise)</td>\n",
       "      <td>0.352746</td>\n",
       "      <td>0.014484</td>\n",
       "      <td>0.010260</td>\n",
       "      <td>0.029085</td>\n",
       "      <td>2.008055</td>\n",
       "      <td>1.0</td>\n",
       "      <td>0.005150</td>\n",
       "      <td>1.015038</td>\n",
       "      <td>0.775593</td>\n",
       "      <td>0.028740</td>\n",
       "      <td>0.014815</td>\n",
       "      <td>0.368709</td>\n",
       "    </tr>\n",
       "    <tr>\n",
       "      <th>1663</th>\n",
       "      <td>(sweet spreads)</td>\n",
       "      <td>(ready soups, make up remover, mayonnaise)</td>\n",
       "      <td>0.226916</td>\n",
       "      <td>0.025347</td>\n",
       "      <td>0.010260</td>\n",
       "      <td>0.045213</td>\n",
       "      <td>1.783751</td>\n",
       "      <td>1.0</td>\n",
       "      <td>0.004508</td>\n",
       "      <td>1.020806</td>\n",
       "      <td>0.568352</td>\n",
       "      <td>0.042394</td>\n",
       "      <td>0.020382</td>\n",
       "      <td>0.224987</td>\n",
       "    </tr>\n",
       "    <tr>\n",
       "      <th>1664</th>\n",
       "      <td>(make up remover)</td>\n",
       "      <td>(ready soups, sweet spreads, mayonnaise)</td>\n",
       "      <td>0.185878</td>\n",
       "      <td>0.026252</td>\n",
       "      <td>0.010260</td>\n",
       "      <td>0.055195</td>\n",
       "      <td>2.102478</td>\n",
       "      <td>1.0</td>\n",
       "      <td>0.005380</td>\n",
       "      <td>1.030633</td>\n",
       "      <td>0.644094</td>\n",
       "      <td>0.050822</td>\n",
       "      <td>0.029723</td>\n",
       "      <td>0.223000</td>\n",
       "    </tr>\n",
       "    <tr>\n",
       "      <th>1665</th>\n",
       "      <td>(mayonnaise)</td>\n",
       "      <td>(ready soups, sweet spreads, make up remover)</td>\n",
       "      <td>0.197043</td>\n",
       "      <td>0.028063</td>\n",
       "      <td>0.010260</td>\n",
       "      <td>0.052067</td>\n",
       "      <td>1.855390</td>\n",
       "      <td>1.0</td>\n",
       "      <td>0.004730</td>\n",
       "      <td>1.025323</td>\n",
       "      <td>0.574165</td>\n",
       "      <td>0.047753</td>\n",
       "      <td>0.024698</td>\n",
       "      <td>0.208829</td>\n",
       "    </tr>\n",
       "  </tbody>\n",
       "</table>\n",
       "<p>1666 rows × 14 columns</p>\n",
       "</div>"
      ],
      "text/plain": [
       "                        antecedents  \\\n",
       "0                      (whole milk)   \n",
       "1                        (cookware)   \n",
       "2                      (whole milk)   \n",
       "3                   (sweet spreads)   \n",
       "4                      (whole milk)   \n",
       "...                             ...   \n",
       "1661  (make up remover, mayonnaise)   \n",
       "1662                  (ready soups)   \n",
       "1663                (sweet spreads)   \n",
       "1664              (make up remover)   \n",
       "1665                   (mayonnaise)   \n",
       "\n",
       "                                        consequents  antecedent support  \\\n",
       "0                                        (cookware)            0.047978   \n",
       "1                                      (whole milk)            0.262824   \n",
       "2                                   (sweet spreads)            0.047978   \n",
       "3                                      (whole milk)            0.226916   \n",
       "4                                      (mayonnaise)            0.047978   \n",
       "...                                             ...                 ...   \n",
       "1661                   (ready soups, sweet spreads)            0.047978   \n",
       "1662   (sweet spreads, make up remover, mayonnaise)            0.352746   \n",
       "1663     (ready soups, make up remover, mayonnaise)            0.226916   \n",
       "1664       (ready soups, sweet spreads, mayonnaise)            0.185878   \n",
       "1665  (ready soups, sweet spreads, make up remover)            0.197043   \n",
       "\n",
       "      consequent support   support  confidence      lift  representativity  \\\n",
       "0               0.262824  0.014484    0.301887  1.148626               1.0   \n",
       "1               0.047978  0.014484    0.055109  1.148626               1.0   \n",
       "2               0.226916  0.012372    0.257862  1.136374               1.0   \n",
       "3               0.047978  0.012372    0.054521  1.136374               1.0   \n",
       "4               0.197043  0.011467    0.238994  1.212902               1.0   \n",
       "...                  ...       ...         ...       ...               ...   \n",
       "1661            0.094750  0.010260    0.213836  2.256860               1.0   \n",
       "1662            0.014484  0.010260    0.029085  2.008055               1.0   \n",
       "1663            0.025347  0.010260    0.045213  1.783751               1.0   \n",
       "1664            0.026252  0.010260    0.055195  2.102478               1.0   \n",
       "1665            0.028063  0.010260    0.052067  1.855390               1.0   \n",
       "\n",
       "      leverage  conviction  zhangs_metric   jaccard  certainty  kulczynski  \n",
       "0     0.001874    1.055954       0.135915  0.048880   0.052989    0.178498  \n",
       "1     0.001874    1.007547       0.175527  0.048880   0.007490    0.178498  \n",
       "2     0.001485    1.041698       0.126056  0.047126   0.040029    0.156191  \n",
       "3     0.001485    1.006920       0.155233  0.047126   0.006873    0.156191  \n",
       "4     0.002013    1.055126       0.184377  0.049096   0.052245    0.148593  \n",
       "...        ...         ...            ...       ...        ...         ...  \n",
       "1661  0.005714    1.151479       0.584972  0.077449   0.131551    0.161058  \n",
       "1662  0.005150    1.015038       0.775593  0.028740   0.014815    0.368709  \n",
       "1663  0.004508    1.020806       0.568352  0.042394   0.020382    0.224987  \n",
       "1664  0.005380    1.030633       0.644094  0.050822   0.029723    0.223000  \n",
       "1665  0.004730    1.025323       0.574165  0.047753   0.024698    0.208829  \n",
       "\n",
       "[1666 rows x 14 columns]"
      ]
     },
     "metadata": {},
     "output_type": "display_data"
    },
    {
     "data": {
      "text/html": [
       "<div>\n",
       "<style scoped>\n",
       "    .dataframe tbody tr th:only-of-type {\n",
       "        vertical-align: middle;\n",
       "    }\n",
       "\n",
       "    .dataframe tbody tr th {\n",
       "        vertical-align: top;\n",
       "    }\n",
       "\n",
       "    .dataframe thead th {\n",
       "        text-align: right;\n",
       "    }\n",
       "</style>\n",
       "<table border=\"1\" class=\"dataframe\">\n",
       "  <thead>\n",
       "    <tr style=\"text-align: right;\">\n",
       "      <th></th>\n",
       "      <th>antecedents</th>\n",
       "      <th>consequents</th>\n",
       "      <th>antecedent support</th>\n",
       "      <th>consequent support</th>\n",
       "      <th>support</th>\n",
       "      <th>confidence</th>\n",
       "      <th>lift</th>\n",
       "      <th>representativity</th>\n",
       "      <th>leverage</th>\n",
       "      <th>conviction</th>\n",
       "      <th>zhangs_metric</th>\n",
       "      <th>jaccard</th>\n",
       "      <th>certainty</th>\n",
       "      <th>kulczynski</th>\n",
       "    </tr>\n",
       "  </thead>\n",
       "  <tbody>\n",
       "    <tr>\n",
       "      <th>1655</th>\n",
       "      <td>(sweet spreads, make up remover, mayonnaise)</td>\n",
       "      <td>(ready soups)</td>\n",
       "      <td>0.014484</td>\n",
       "      <td>0.352746</td>\n",
       "      <td>0.01026</td>\n",
       "      <td>0.708333</td>\n",
       "      <td>2.008055</td>\n",
       "      <td>1.0</td>\n",
       "      <td>0.00515</td>\n",
       "      <td>2.219157</td>\n",
       "      <td>0.509384</td>\n",
       "      <td>0.02874</td>\n",
       "      <td>0.549378</td>\n",
       "      <td>0.368709</td>\n",
       "    </tr>\n",
       "  </tbody>\n",
       "</table>\n",
       "</div>"
      ],
      "text/plain": [
       "                                       antecedents    consequents  \\\n",
       "1655  (sweet spreads, make up remover, mayonnaise)  (ready soups)   \n",
       "\n",
       "      antecedent support  consequent support  support  confidence      lift  \\\n",
       "1655            0.014484            0.352746  0.01026    0.708333  2.008055   \n",
       "\n",
       "      representativity  leverage  conviction  zhangs_metric  jaccard  \\\n",
       "1655               1.0   0.00515    2.219157       0.509384  0.02874   \n",
       "\n",
       "      certainty  kulczynski  \n",
       "1655   0.549378    0.368709  "
      ]
     },
     "metadata": {},
     "output_type": "display_data"
    }
   ],
   "source": [
    "# Menampilkan tabel pertama untuk aturan dengan lift > 1\n",
    "display(rules_lift)\n",
    "\n",
    "# Menampilkan tabel kedua untuk aturan dengan confidence > 0.7\n",
    "display(rules_confidence)"
   ]
  },
  {
   "cell_type": "markdown",
   "metadata": {},
   "source": [
    "### 8. Visualisasi Hasil "
   ]
  },
  {
   "cell_type": "code",
   "execution_count": 40,
   "metadata": {},
   "outputs": [
    {
     "data": {
      "application/vnd.plotly.v1+json": {
       "config": {
        "plotlyServerURL": "https://plot.ly"
       },
       "data": [
        {
         "customdata": [
          [
           0.014785757392878697,
           "ready soups, hamburger meat"
          ],
          [
           0.018406759203379603,
           "ready soups, cookware"
          ],
          [
           0.020820760410380206,
           "canned fruit"
          ],
          [
           0.07815328907664454,
           "ready soups"
          ],
          [
           0.01056125528062764,
           "cake bar, make up remover"
          ],
          [
           0.027459263729631866,
           "cake bar"
          ],
          [
           0.010259505129752565,
           "curd cheese, cookware"
          ],
          [
           0.010863005431502716,
           "fruit/vegetable juice"
          ],
          [
           0.012673506336753168,
           "meat"
          ],
          [
           0.010863005431502716,
           "curd cheese"
          ],
          [
           0.011164755582377792,
           "make up remover"
          ],
          [
           0.015992757996378996,
           "cake bar, mayonnaise"
          ],
          [
           0.015691007845503924,
           "cookware"
          ],
          [
           0.012070006035003017,
           "hamburger meat"
          ],
          [
           0.021424260712130355,
           "sweet spreads"
          ],
          [
           0.011768255884127943,
           "cake bar"
          ],
          [
           0.010863005431502716,
           "cake bar"
          ],
          [
           0.01780325890162945,
           "butter milk"
          ],
          [
           0.012673506336753168,
           "cake bar"
          ],
          [
           0.01056125528062764,
           "cake bar, ready soups"
          ],
          [
           0.012070006035003017,
           "ready soups, rice"
          ],
          [
           0.013277006638503319,
           "sweet spreads"
          ],
          [
           0.011164755582377792,
           "ready soups"
          ],
          [
           0.012371756185878094,
           "cake bar, ready soups"
          ],
          [
           0.011466505733252867,
           "butter milk"
          ],
          [
           0.01056125528062764,
           "sweet spreads, mayonnaise, cookware"
          ],
          [
           0.013578756789378395,
           "packaged fruit/vegetables"
          ],
          [
           0.012673506336753168,
           "coffee"
          ],
          [
           0.016898008449004225,
           "cookware"
          ],
          [
           0.015087507543753771,
           "ready soups, soups"
          ],
          [
           0.019915509957754977,
           "hamburger meat"
          ],
          [
           0.02172601086300543,
           "frozen fish"
          ],
          [
           0.011466505733252867,
           "ready soups"
          ],
          [
           0.011466505733252867,
           "rice"
          ],
          [
           0.010259505129752565,
           "domestic eggs"
          ],
          [
           0.011768255884127943,
           "salad dressing"
          ],
          [
           0.013277006638503319,
           "ham"
          ],
          [
           0.01448400724200362,
           "ready soups, meat"
          ],
          [
           0.01388050694025347,
           "canned fruit"
          ],
          [
           0.02383826191913096,
           "make up remover"
          ],
          [
           0.011768255884127943,
           "cookware"
          ],
          [
           0.012673506336753168,
           "ready soups, make up remover"
          ],
          [
           0.010863005431502716,
           "frozen fish"
          ],
          [
           0.013578756789378395,
           "grapes"
          ],
          [
           0.011466505733252867,
           "cake bar, cookware"
          ],
          [
           0.01056125528062764,
           "curd cheese, mayonnaise"
          ],
          [
           0.010863005431502716,
           "cake bar"
          ],
          [
           0.013578756789378395,
           "meat"
          ],
          [
           0.011164755582377792,
           "cake bar, curd cheese"
          ],
          [
           0.010259505129752565,
           "ready soups, soups"
          ],
          [
           0.010863005431502716,
           "ready soups, meat"
          ],
          [
           0.016898008449004225,
           "make up remover, mayonnaise"
          ],
          [
           0.010863005431502716,
           "sweet spreads"
          ],
          [
           0.011164755582377792,
           "pickled vegetables"
          ],
          [
           0.01388050694025347,
           "mayonnaise"
          ],
          [
           0.028062764031382016,
           "ready soups"
          ],
          [
           0.015389257694628847,
           "fruit/vegetable juice"
          ],
          [
           0.010259505129752565,
           "male cosmetics"
          ],
          [
           0.020217260108630054,
           "male cosmetics"
          ],
          [
           0.02323476161738081,
           "ready soups"
          ],
          [
           0.013277006638503319,
           "ready soups"
          ],
          [
           0.010259505129752565,
           "ready soups, sweet spreads"
          ],
          [
           0.012070006035003017,
           "ready soups"
          ],
          [
           0.012371756185878094,
           "brandy"
          ],
          [
           0.016898008449004225,
           "bathroom cleaner"
          ],
          [
           0.01780325890162945,
           "frankfurter"
          ],
          [
           0.011768255884127943,
           "cookware"
          ],
          [
           0.010259505129752565,
           "curd cheese, male cosmetics"
          ],
          [
           0.010259505129752565,
           "soups"
          ],
          [
           0.010259505129752565,
           "soups, meat"
          ],
          [
           0.011768255884127943,
           "sweet spreads"
          ],
          [
           0.015992757996378996,
           "make up remover"
          ],
          [
           0.047978273989136996,
           "male cosmetics"
          ],
          [
           0.012371756185878094,
           "mayonnaise"
          ],
          [
           0.026554013277006638,
           "cookware"
          ],
          [
           0.011466505733252867,
           "canned fruit"
          ],
          [
           0.013578756789378395,
           "cake bar, sweet spreads"
          ],
          [
           0.010259505129752565,
           "cake bar, mayonnaise"
          ],
          [
           0.06970428485214243,
           "cake bar"
          ],
          [
           0.011466505733252867,
           "male cosmetics, cookware"
          ],
          [
           0.010259505129752565,
           "frozen vegetables"
          ],
          [
           0.02323476161738081,
           "packaged fruit/vegetables"
          ],
          [
           0.014785757392878697,
           "soups"
          ],
          [
           0.01448400724200362,
           "frozen vegetables"
          ],
          [
           0.01931200965600483,
           "sweet spreads, cookware"
          ],
          [
           0.018105009052504527,
           "ready soups, cookware"
          ],
          [
           0.011768255884127943,
           "frankfurter"
          ],
          [
           0.012371756185878094,
           "ready soups, soups"
          ],
          [
           0.013578756789378395,
           "cookware"
          ],
          [
           0.02595051297525649,
           "male cosmetics"
          ],
          [
           0.015691007845503924,
           "fruit/vegetable juice"
          ],
          [
           0.020217260108630054,
           "canned fruit"
          ],
          [
           0.011164755582377792,
           "sweet spreads"
          ],
          [
           0.015691007845503924,
           "ready soups, cookware"
          ],
          [
           0.010259505129752565,
           "sweet spreads"
          ],
          [
           0.014785757392878697,
           "canned fruit"
          ],
          [
           0.012371756185878094,
           "frozen fish"
          ],
          [
           0.01388050694025347,
           "meat"
          ],
          [
           0.015087507543753771,
           "brandy, sweet spreads"
          ],
          [
           0.01448400724200362,
           "ready soups, sweet spreads"
          ],
          [
           0.011164755582377792,
           "cake bar, packaged fruit/vegetables"
          ],
          [
           0.014785757392878697,
           "male cosmetics, mayonnaise"
          ],
          [
           0.011164755582377792,
           "photo/film"
          ],
          [
           0.015087507543753771,
           "fruit/vegetable juice"
          ],
          [
           0.011768255884127943,
           "sweet spreads, butter milk"
          ],
          [
           0.016898008449004225,
           "fruit/vegetable juice"
          ],
          [
           0.018708509354254676,
           "hamburger meat"
          ],
          [
           0.011768255884127943,
           "canned fruit, cookware"
          ],
          [
           0.015087507543753771,
           "ready soups"
          ],
          [
           0.012371756185878094,
           "canned fruit"
          ],
          [
           0.013277006638503319,
           "bottled beer"
          ],
          [
           0.013578756789378395,
           "male cosmetics"
          ],
          [
           0.013277006638503319,
           "ready soups, packaged fruit/vegetables"
          ],
          [
           0.011466505733252867,
           "shopping bags"
          ],
          [
           0.0503922751961376,
           "make up remover"
          ],
          [
           0.011768255884127943,
           "canned fruit, sweet spreads"
          ],
          [
           0.010259505129752565,
           "ready soups, cookware"
          ],
          [
           0.011164755582377792,
           "cake bar"
          ],
          [
           0.016294508147254073,
           "frozen fish"
          ],
          [
           0.011164755582377792,
           "photo/film"
          ],
          [
           0.015389257694628847,
           "fruit/vegetable juice"
          ],
          [
           0.010863005431502716,
           "ready soups, frozen fish"
          ],
          [
           0.013277006638503319,
           "packaged fruit/vegetables, male cosmetics"
          ],
          [
           0.016294508147254073,
           "male cosmetics"
          ],
          [
           0.011768255884127943,
           "sweet spreads"
          ],
          [
           0.011164755582377792,
           "mayonnaise"
          ],
          [
           0.010863005431502716,
           "ready soups"
          ],
          [
           0.015691007845503924,
           "cake bar"
          ],
          [
           0.01056125528062764,
           "make up remover"
          ],
          [
           0.015389257694628847,
           "ready soups, cookware"
          ],
          [
           0.015691007845503924,
           "cookware"
          ],
          [
           0.018406759203379603,
           "curd cheese"
          ],
          [
           0.014785757392878697,
           "butter milk"
          ],
          [
           0.012070006035003017,
           "curd cheese"
          ],
          [
           0.015992757996378996,
           "kitchen towels"
          ],
          [
           0.012371756185878094,
           "ready soups, brandy"
          ],
          [
           0.01448400724200362,
           "mayonnaise"
          ],
          [
           0.019010259505129752,
           "rice"
          ],
          [
           0.029571514785757393,
           "packaged fruit/vegetables"
          ],
          [
           0.01056125528062764,
           "decalcifier"
          ],
          [
           0.019613759806879905,
           "misc. beverages"
          ],
          [
           0.06155703077851539,
           "mayonnaise"
          ],
          [
           0.010259505129752565,
           "cookware"
          ],
          [
           0.03108026554013277,
           "meat"
          ],
          [
           0.047978273989136996,
           "mayonnaise"
          ],
          [
           0.03198551599275799,
           "butter milk"
          ],
          [
           0.012371756185878094,
           "cookware"
          ],
          [
           0.018105009052504527,
           "meat"
          ],
          [
           0.018406759203379603,
           "cookware"
          ],
          [
           0.04767652383826192,
           "male cosmetics"
          ],
          [
           0.010259505129752565,
           "cake bar"
          ],
          [
           0.013277006638503319,
           "specialty bar"
          ],
          [
           0.0171997585998793,
           "cookware"
          ],
          [
           0.030175015087507542,
           "make up remover"
          ],
          [
           0.047978273989136996,
           "make up remover"
          ],
          [
           0.01659625829812915,
           "cake bar"
          ],
          [
           0.010259505129752565,
           "male cosmetics"
          ],
          [
           0.015691007845503924,
           "candy"
          ],
          [
           0.01448400724200362,
           "ready soups, meat"
          ],
          [
           0.018406759203379603,
           "fruit/vegetable juice"
          ],
          [
           0.011164755582377792,
           "sugar"
          ],
          [
           0.010259505129752565,
           "ham"
          ],
          [
           0.012371756185878094,
           "make up remover, cookware"
          ],
          [
           0.024743512371756187,
           "sweet spreads"
          ],
          [
           0.05190102595051298,
           "ready soups"
          ],
          [
           0.015691007845503924,
           "cake bar, cookware"
          ],
          [
           0.01388050694025347,
           "sweet spreads, meat"
          ],
          [
           0.010863005431502716,
           "sweet spreads, frozen fish"
          ],
          [
           0.0171997585998793,
           "cake bar, ready soups"
          ],
          [
           0.013277006638503319,
           "chicken"
          ],
          [
           0.027459263729631866,
           "male cosmetics, cookware"
          ],
          [
           0.013277006638503319,
           "bathroom cleaner"
          ],
          [
           0.011768255884127943,
           "hamburger meat"
          ],
          [
           0.012371756185878094,
           "rice"
          ],
          [
           0.022933011466505733,
           "ready soups, cookware"
          ],
          [
           0.012070006035003017,
           "ready soups"
          ],
          [
           0.024743512371756187,
           "house keeping products"
          ],
          [
           0.011164755582377792,
           "bottled beer"
          ],
          [
           0.016898008449004225,
           "canned fruit"
          ],
          [
           0.024140012070006035,
           "misc. beverages"
          ],
          [
           0.028364514182257092,
           "cake bar"
          ],
          [
           0.012371756185878094,
           "sweet spreads"
          ],
          [
           0.01056125528062764,
           "mayonnaise, cookware"
          ],
          [
           0.014182257091128546,
           "candy"
          ],
          [
           0.014785757392878697,
           "ready soups"
          ],
          [
           0.014182257091128546,
           "decalcifier"
          ],
          [
           0.019010259505129752,
           "ready soups"
          ],
          [
           0.011164755582377792,
           "frankfurter"
          ],
          [
           0.012673506336753168,
           "bottled beer"
          ],
          [
           0.026554013277006638,
           "ready soups"
          ],
          [
           0.025347012673506336,
           "make up remover"
          ],
          [
           0.010259505129752565,
           "mayonnaise"
          ],
          [
           0.024743512371756187,
           "processed cheese"
          ],
          [
           0.012975256487628244,
           "soups, packaged fruit/vegetables"
          ],
          [
           0.011768255884127943,
           "fruit/vegetable juice"
          ],
          [
           0.018105009052504527,
           "ready soups, hamburger meat"
          ],
          [
           0.023536511768255886,
           "hamburger meat"
          ],
          [
           0.025648762824381412,
           "packaged fruit/vegetables"
          ],
          [
           0.015992757996378996,
           "hamburger meat"
          ],
          [
           0.010863005431502716,
           "hamburger meat"
          ],
          [
           0.011164755582377792,
           "soups"
          ],
          [
           0.011466505733252867,
           "make up remover"
          ],
          [
           0.010863005431502716,
           "light bulbs"
          ],
          [
           0.03138201569100785,
           "cake bar"
          ],
          [
           0.012070006035003017,
           "ready soups, UHT-milk"
          ],
          [
           0.04828002414001207,
           "brandy"
          ],
          [
           0.03198551599275799,
           "ready soups, cookware"
          ],
          [
           0.018406759203379603,
           "ready soups, curd cheese"
          ],
          [
           0.015389257694628847,
           "cookware"
          ],
          [
           0.01448400724200362,
           "packaged fruit/vegetables"
          ],
          [
           0.011466505733252867,
           "sweet spreads"
          ],
          [
           0.01780325890162945,
           "male cosmetics"
          ],
          [
           0.011466505733252867,
           "ready soups"
          ],
          [
           0.015691007845503924,
           "sweet spreads"
          ],
          [
           0.02625226312613156,
           "sweet spreads"
          ],
          [
           0.010863005431502716,
           "sweet spreads, cookware"
          ],
          [
           0.012070006035003017,
           "soups"
          ],
          [
           0.013578756789378395,
           "mayonnaise"
          ],
          [
           0.010259505129752565,
           "sweet spreads, meat"
          ],
          [
           0.01056125528062764,
           "ready soups, cookware"
          ],
          [
           0.014182257091128546,
           "rubbing alcohol"
          ],
          [
           0.01659625829812915,
           "bottled beer"
          ],
          [
           0.01056125528062764,
           "cookware"
          ],
          [
           0.014785757392878697,
           "sweet spreads"
          ],
          [
           0.012975256487628244,
           "curd"
          ],
          [
           0.057332528666264336,
           "make up remover"
          ],
          [
           0.016898008449004225,
           "make up remover"
          ],
          [
           0.010259505129752565,
           "mayonnaise, male cosmetics"
          ],
          [
           0.011164755582377792,
           "frankfurter, cookware"
          ],
          [
           0.010863005431502716,
           "sweet spreads"
          ],
          [
           0.01056125528062764,
           "cookware"
          ],
          [
           0.012975256487628244,
           "male cosmetics"
          ],
          [
           0.026554013277006638,
           "UHT-milk"
          ],
          [
           0.011164755582377792,
           "cookware"
          ],
          [
           0.010259505129752565,
           "male cosmetics"
          ],
          [
           0.01448400724200362,
           "ready soups, mayonnaise"
          ],
          [
           0.01056125528062764,
           "packaged fruit/vegetables"
          ],
          [
           0.014785757392878697,
           "sweet spreads"
          ],
          [
           0.01659625829812915,
           "mayonnaise"
          ],
          [
           0.012371756185878094,
           "curd cheese"
          ],
          [
           0.05823777911888956,
           "cookware"
          ],
          [
           0.030778515389257695,
           "soups"
          ],
          [
           0.02987326493663247,
           "bathroom cleaner"
          ],
          [
           0.016898008449004225,
           "cake bar"
          ],
          [
           0.02112251056125528,
           "cake bar"
          ],
          [
           0.010259505129752565,
           "male cosmetics"
          ],
          [
           0.026554013277006638,
           "meat"
          ],
          [
           0.010259505129752565,
           "misc. beverages"
          ],
          [
           0.010259505129752565,
           "meat"
          ],
          [
           0.0356065178032589,
           "curd cheese"
          ],
          [
           0.012673506336753168,
           "bathroom cleaner"
          ],
          [
           0.013578756789378395,
           "mayonnaise"
          ],
          [
           0.014182257091128546,
           "ready soups"
          ],
          [
           0.014182257091128546,
           "mayonnaise"
          ],
          [
           0.015691007845503924,
           "sweet spreads"
          ],
          [
           0.015992757996378996,
           "sweet spreads"
          ],
          [
           0.043753771876885936,
           "sweet spreads"
          ],
          [
           0.028062764031382016,
           "meat"
          ],
          [
           0.011164755582377792,
           "hamburger meat, cookware"
          ],
          [
           0.018708509354254676,
           "ready soups, cookware"
          ],
          [
           0.01056125528062764,
           "abrasive cleaner"
          ],
          [
           0.015992757996378996,
           "ready soups"
          ],
          [
           0.015389257694628847,
           "butter milk"
          ],
          [
           0.01388050694025347,
           "brandy"
          ],
          [
           0.010259505129752565,
           "ready soups"
          ],
          [
           0.01780325890162945,
           "processed cheese"
          ],
          [
           0.015087507543753771,
           "ready soups, soups"
          ],
          [
           0.015087507543753771,
           "soups, mayonnaise"
          ],
          [
           0.011164755582377792,
           "brown bread"
          ],
          [
           0.018708509354254676,
           "curd cheese"
          ],
          [
           0.013277006638503319,
           "ready soups"
          ],
          [
           0.06155703077851539,
           "cookware"
          ],
          [
           0.04767652383826192,
           "mayonnaise"
          ],
          [
           0.01448400724200362,
           "make up remover"
          ],
          [
           0.012070006035003017,
           "canned fruit"
          ],
          [
           0.022933011466505733,
           "mayonnaise"
          ],
          [
           0.02112251056125528,
           "male cosmetics"
          ],
          [
           0.03409776704888352,
           "male cosmetics"
          ],
          [
           0.011164755582377792,
           "ready soups"
          ],
          [
           0.02595051297525649,
           "bathroom cleaner"
          ],
          [
           0.012070006035003017,
           "soups, curd cheese"
          ],
          [
           0.01659625829812915,
           "male cosmetics, cookware"
          ],
          [
           0.011164755582377792,
           "curd cheese"
          ],
          [
           0.01388050694025347,
           "domestic eggs"
          ],
          [
           0.010259505129752565,
           "meat"
          ],
          [
           0.012070006035003017,
           "cookware"
          ],
          [
           0.07905853952926976,
           "ready soups"
          ],
          [
           0.012975256487628244,
           "male cosmetics"
          ],
          [
           0.01931200965600483,
           "decalcifier"
          ],
          [
           0.01056125528062764,
           "soups"
          ],
          [
           0.012975256487628244,
           "packaged fruit/vegetables"
          ],
          [
           0.013277006638503319,
           "make up remover"
          ],
          [
           0.012070006035003017,
           "UHT-milk"
          ],
          [
           0.012975256487628244,
           "butter milk"
          ],
          [
           0.01659625829812915,
           "male cosmetics"
          ],
          [
           0.022631261315630657,
           "curd cheese"
          ],
          [
           0.010863005431502716,
           "onions"
          ],
          [
           0.012371756185878094,
           "ready soups, make up remover"
          ],
          [
           0.02112251056125528,
           "make up remover, male cosmetics"
          ],
          [
           0.012371756185878094,
           "frankfurter"
          ],
          [
           0.011164755582377792,
           "ready soups, kitchen towels"
          ],
          [
           0.012371756185878094,
           "frankfurter"
          ],
          [
           0.023536511768255886,
           "cake bar"
          ],
          [
           0.019010259505129752,
           "ready soups, packaged fruit/vegetables"
          ],
          [
           0.013578756789378395,
           "make up remover"
          ],
          [
           0.027459263729631866,
           "mayonnaise"
          ],
          [
           0.012975256487628244,
           "mayonnaise"
          ],
          [
           0.012673506336753168,
           "ready soups, cookware"
          ],
          [
           0.012070006035003017,
           "male cosmetics"
          ],
          [
           0.010863005431502716,
           "cookware"
          ],
          [
           0.012070006035003017,
           "bottled beer"
          ],
          [
           0.010259505129752565,
           "ready soups"
          ],
          [
           0.01448400724200362,
           "potato products"
          ],
          [
           0.018708509354254676,
           "domestic eggs"
          ],
          [
           0.012371756185878094,
           "house keeping products"
          ],
          [
           0.010259505129752565,
           "ready soups, canned fruit"
          ],
          [
           0.014785757392878697,
           "mayonnaise"
          ],
          [
           0.012673506336753168,
           "mayonnaise"
          ],
          [
           0.04888352444176222,
           "mayonnaise"
          ],
          [
           0.013277006638503319,
           "hamburger meat"
          ],
          [
           0.04073627036813519,
           "canned fruit"
          ],
          [
           0.029269764634882317,
           "meat"
          ],
          [
           0.016898008449004225,
           "ready soups, bathroom cleaner"
          ],
          [
           0.012673506336753168,
           "ready soups, rice"
          ],
          [
           0.011164755582377792,
           "cake bar"
          ],
          [
           0.022933011466505733,
           "processed cheese"
          ],
          [
           0.012371756185878094,
           "ready soups, cookware"
          ],
          [
           0.026554013277006638,
           "hamburger meat"
          ],
          [
           0.01448400724200362,
           "hamburger meat"
          ],
          [
           0.02776101388050694,
           "canned fruit"
          ],
          [
           0.010259505129752565,
           "cake bar, ready soups"
          ],
          [
           0.03892576946288473,
           "cake bar"
          ],
          [
           0.013277006638503319,
           "cake bar"
          ],
          [
           0.013578756789378395,
           "cookware"
          ],
          [
           0.02112251056125528,
           "ready soups, cookware"
          ],
          [
           0.015992757996378996,
           "sweet spreads"
          ],
          [
           0.02504526252263126,
           "cookware"
          ],
          [
           0.014785757392878697,
           "UHT-milk"
          ],
          [
           0.014182257091128546,
           "ready soups, mayonnaise"
          ],
          [
           0.015389257694628847,
           "ready soups"
          ],
          [
           0.026554013277006638,
           "cookware"
          ],
          [
           0.036210018105009054,
           "make up remover"
          ],
          [
           0.011466505733252867,
           "cookware"
          ],
          [
           0.012673506336753168,
           "sugar"
          ],
          [
           0.014785757392878697,
           "cookware"
          ],
          [
           0.011164755582377792,
           "fruit/vegetable juice"
          ],
          [
           0.010863005431502716,
           "sweet spreads, packaged fruit/vegetables"
          ],
          [
           0.010259505129752565,
           "sweet spreads, mayonnaise"
          ],
          [
           0.02112251056125528,
           "meat"
          ],
          [
           0.01056125528062764,
           "cookware"
          ],
          [
           0.0171997585998793,
           "male cosmetics"
          ],
          [
           0.01056125528062764,
           "mayonnaise"
          ],
          [
           0.010259505129752565,
           "brandy"
          ],
          [
           0.012975256487628244,
           "packaged fruit/vegetables"
          ],
          [
           0.019613759806879905,
           "ready soups, soups"
          ],
          [
           0.01931200965600483,
           "bathroom cleaner"
          ],
          [
           0.011164755582377792,
           "ready soups, frankfurter"
          ],
          [
           0.012070006035003017,
           "curd cheese"
          ],
          [
           0.0171997585998793,
           "photo/film"
          ],
          [
           0.027459263729631866,
           "ready soups"
          ],
          [
           0.014785757392878697,
           "sweet spreads"
          ],
          [
           0.01659625829812915,
           "mayonnaise"
          ],
          [
           0.02595051297525649,
           "ready soups"
          ],
          [
           0.018708509354254676,
           "cookware"
          ],
          [
           0.028062764031382016,
           "cookware"
          ],
          [
           0.01448400724200362,
           "fruit/vegetable juice"
          ],
          [
           0.012070006035003017,
           "cookware"
          ],
          [
           0.012070006035003017,
           "cake bar"
          ],
          [
           0.02112251056125528,
           "make up remover"
          ],
          [
           0.018708509354254676,
           "canned fruit"
          ],
          [
           0.015087507543753771,
           "ready soups"
          ],
          [
           0.011768255884127943,
           "sweet spreads, cookware"
          ],
          [
           0.012070006035003017,
           "frozen fish"
          ],
          [
           0.010259505129752565,
           "soups"
          ],
          [
           0.06125528062764032,
           "ready soups"
          ],
          [
           0.012673506336753168,
           "ready soups"
          ],
          [
           0.03108026554013277,
           "male cosmetics"
          ],
          [
           0.013277006638503319,
           "ready soups, male cosmetics"
          ],
          [
           0.012070006035003017,
           "cookware"
          ],
          [
           0.018708509354254676,
           "rice"
          ],
          [
           0.03047676523838262,
           "frozen fish"
          ],
          [
           0.012673506336753168,
           "hamburger meat"
          ],
          [
           0.013277006638503319,
           "make up remover"
          ],
          [
           0.015691007845503924,
           "sweet spreads, cookware"
          ],
          [
           0.011164755582377792,
           "sugar"
          ],
          [
           0.018105009052504527,
           "cookware"
          ],
          [
           0.015087507543753771,
           "ready soups, mayonnaise"
          ],
          [
           0.012371756185878094,
           "mayonnaise"
          ],
          [
           0.010863005431502716,
           "sweet spreads"
          ],
          [
           0.05190102595051298,
           "hamburger meat"
          ],
          [
           0.019613759806879905,
           "kitchen towels"
          ],
          [
           0.012070006035003017,
           "bathroom cleaner"
          ],
          [
           0.0171997585998793,
           "cake bar, male cosmetics"
          ],
          [
           0.019010259505129752,
           "ready soups, sweet spreads"
          ],
          [
           0.01056125528062764,
           "ready soups"
          ],
          [
           0.015389257694628847,
           "ready soups, brandy"
          ],
          [
           0.020217260108630054,
           "meat"
          ],
          [
           0.018406759203379603,
           "ready soups, sweet spreads"
          ],
          [
           0.027459263729631866,
           "cookware"
          ],
          [
           0.012673506336753168,
           "mayonnaise"
          ],
          [
           0.015087507543753771,
           "packaged fruit/vegetables"
          ],
          [
           0.015691007845503924,
           "mayonnaise"
          ],
          [
           0.01448400724200362,
           "canned fruit, sweet spreads"
          ],
          [
           0.01448400724200362,
           "mayonnaise"
          ],
          [
           0.01448400724200362,
           "ready soups, packaged fruit/vegetables"
          ],
          [
           0.026554013277006638,
           "mayonnaise, cookware"
          ],
          [
           0.016898008449004225,
           "curd"
          ],
          [
           0.011768255884127943,
           "vinegar"
          ],
          [
           0.0171997585998793,
           "male cosmetics"
          ],
          [
           0.012371756185878094,
           "make up remover"
          ],
          [
           0.01056125528062764,
           "ready soups, mayonnaise, cookware"
          ],
          [
           0.02112251056125528,
           "sweet spreads"
          ],
          [
           0.02625226312613156,
           "sweet spreads, mayonnaise"
          ],
          [
           0.010259505129752565,
           "cake bar"
          ],
          [
           0.04284852142426071,
           "cookware"
          ],
          [
           0.010259505129752565,
           "sweet spreads, make up remover"
          ],
          [
           0.012975256487628244,
           "cookware"
          ],
          [
           0.010863005431502716,
           "canned vegetables"
          ],
          [
           0.019010259505129752,
           "mayonnaise"
          ],
          [
           0.014785757392878697,
           "sweet spreads, packaged fruit/vegetables"
          ],
          [
           0.02987326493663247,
           "cookware"
          ],
          [
           0.02595051297525649,
           "hamburger meat"
          ],
          [
           0.04073627036813519,
           "cookware"
          ],
          [
           0.012070006035003017,
           "male cosmetics"
          ],
          [
           0.014785757392878697,
           "ready soups"
          ],
          [
           0.015691007845503924,
           "fruit/vegetable juice, sweet spreads"
          ],
          [
           0.011768255884127943,
           "domestic eggs"
          ],
          [
           0.011164755582377792,
           "ready soups"
          ],
          [
           0.014182257091128546,
           "brandy"
          ],
          [
           0.022933011466505733,
           "mayonnaise"
          ],
          [
           0.018105009052504527,
           "sweet spreads"
          ],
          [
           0.012975256487628244,
           "soups"
          ],
          [
           0.01388050694025347,
           "ready soups, brandy"
          ],
          [
           0.012070006035003017,
           "soups"
          ],
          [
           0.010259505129752565,
           "processed cheese"
          ],
          [
           0.012371756185878094,
           "ready soups"
          ],
          [
           0.012673506336753168,
           "ready soups"
          ],
          [
           0.010863005431502716,
           "mayonnaise"
          ],
          [
           0.011466505733252867,
           "decalcifier"
          ],
          [
           0.01448400724200362,
           "ready soups"
          ],
          [
           0.011164755582377792,
           "cake bar, ready soups"
          ],
          [
           0.011164755582377792,
           "frankfurter"
          ],
          [
           0.011768255884127943,
           "bathroom cleaner, sweet spreads"
          ],
          [
           0.018105009052504527,
           "cookware"
          ],
          [
           0.010259505129752565,
           "roll products"
          ],
          [
           0.012975256487628244,
           "meat, male cosmetics"
          ],
          [
           0.01388050694025347,
           "soups, sweet spreads"
          ],
          [
           0.010259505129752565,
           "sugar"
          ],
          [
           0.01931200965600483,
           "make up remover, cookware"
          ],
          [
           0.02172601086300543,
           "canned vegetables"
          ],
          [
           0.015389257694628847,
           "brandy"
          ],
          [
           0.0171997585998793,
           "bathroom cleaner"
          ],
          [
           0.025347012673506336,
           "ready soups, mayonnaise"
          ],
          [
           0.010259505129752565,
           "mayonnaise"
          ],
          [
           0.012070006035003017,
           "ready soups, mayonnaise"
          ],
          [
           0.015389257694628847,
           "ready soups"
          ],
          [
           0.02715751357875679,
           "male cosmetics"
          ],
          [
           0.012673506336753168,
           "domestic eggs"
          ],
          [
           0.011164755582377792,
           "male cosmetics, kitchen towels"
          ],
          [
           0.016898008449004225,
           "cookware"
          ],
          [
           0.02444176222088111,
           "mayonnaise"
          ],
          [
           0.012371756185878094,
           "ready soups, make up remover"
          ],
          [
           0.012070006035003017,
           "ready soups, cookware"
          ],
          [
           0.02625226312613156,
           "mayonnaise"
          ],
          [
           0.01056125528062764,
           "ready soups, meat"
          ],
          [
           0.02112251056125528,
           "cookware"
          ],
          [
           0.015992757996378996,
           "grapes"
          ],
          [
           0.02504526252263126,
           "misc. beverages"
          ],
          [
           0.011164755582377792,
           "cake bar, male cosmetics"
          ],
          [
           0.026855763427881714,
           "sugar"
          ],
          [
           0.013578756789378395,
           "brandy"
          ],
          [
           0.02172601086300543,
           "cookware"
          ],
          [
           0.022329511164755584,
           "kitchen towels"
          ],
          [
           0.01448400724200362,
           "ready soups"
          ],
          [
           0.010259505129752565,
           "ready soups"
          ],
          [
           0.016898008449004225,
           "ready soups"
          ],
          [
           0.022631261315630657,
           "butter milk"
          ],
          [
           0.012070006035003017,
           "ready soups, mayonnaise"
          ],
          [
           0.01056125528062764,
           "ready soups, cookware"
          ],
          [
           0.012371756185878094,
           "meat, cookware"
          ],
          [
           0.027459263729631866,
           "mayonnaise"
          ],
          [
           0.012673506336753168,
           "ready soups, specialty bar"
          ],
          [
           0.01056125528062764,
           "frozen fish"
          ],
          [
           0.013277006638503319,
           "mayonnaise"
          ],
          [
           0.014182257091128546,
           "sweet spreads"
          ],
          [
           0.010259505129752565,
           "make up remover, mayonnaise"
          ],
          [
           0.012673506336753168,
           "ready soups, hamburger meat"
          ],
          [
           0.01448400724200362,
           "ham"
          ],
          [
           0.012070006035003017,
           "candy"
          ],
          [
           0.012371756185878094,
           "sweet spreads, make up remover, cookware"
          ],
          [
           0.03409776704888352,
           "ready soups"
          ],
          [
           0.011768255884127943,
           "mayonnaise"
          ],
          [
           0.015992757996378996,
           "canned fruit"
          ],
          [
           0.019010259505129752,
           "mayonnaise, cookware"
          ],
          [
           0.014182257091128546,
           "cake bar, cookware"
          ],
          [
           0.022027761013880508,
           "ready soups, make up remover"
          ],
          [
           0.04888352444176222,
           "sweet spreads"
          ],
          [
           0.015992757996378996,
           "ready soups"
          ],
          [
           0.011768255884127943,
           "sweet spreads"
          ],
          [
           0.018708509354254676,
           "canned fruit"
          ],
          [
           0.011466505733252867,
           "bottled beer"
          ],
          [
           0.03138201569100785,
           "soups"
          ],
          [
           0.024743512371756187,
           "ready soups"
          ],
          [
           0.015992757996378996,
           "ready soups, curd cheese"
          ],
          [
           0.011466505733252867,
           "mayonnaise"
          ],
          [
           0.024140012070006035,
           "ready soups"
          ],
          [
           0.015389257694628847,
           "meat"
          ],
          [
           0.021424260712130355,
           "frozen fish"
          ],
          [
           0.011164755582377792,
           "ready soups"
          ],
          [
           0.01448400724200362,
           "fruit/vegetable juice, mayonnaise"
          ],
          [
           0.01659625829812915,
           "mayonnaise, male cosmetics"
          ],
          [
           0.02987326493663247,
           "frankfurter"
          ],
          [
           0.013578756789378395,
           "pickled vegetables"
          ],
          [
           0.012371756185878094,
           "meat, make up remover"
          ],
          [
           0.011768255884127943,
           "UHT-milk"
          ],
          [
           0.016898008449004225,
           "make up remover"
          ],
          [
           0.014182257091128546,
           "pickled vegetables"
          ],
          [
           0.010259505129752565,
           "make up remover"
          ],
          [
           0.01056125528062764,
           "potato products"
          ],
          [
           0.01780325890162945,
           "cake bar"
          ],
          [
           0.011768255884127943,
           "ready soups, butter milk"
          ],
          [
           0.011466505733252867,
           "sweet spreads, curd cheese"
          ],
          [
           0.012673506336753168,
           "frozen fish"
          ],
          [
           0.01056125528062764,
           "ready soups"
          ],
          [
           0.015992757996378996,
           "cookware"
          ],
          [
           0.012975256487628244,
           "soups"
          ],
          [
           0.01056125528062764,
           "soups"
          ],
          [
           0.011164755582377792,
           "cookware"
          ],
          [
           0.010863005431502716,
           "grapes"
          ],
          [
           0.01388050694025347,
           "meat"
          ],
          [
           0.01780325890162945,
           "make up remover"
          ],
          [
           0.030778515389257695,
           "fruit/vegetable juice"
          ],
          [
           0.012673506336753168,
           "chicken"
          ],
          [
           0.018105009052504527,
           "onions"
          ],
          [
           0.012070006035003017,
           "brandy"
          ],
          [
           0.028062764031382016,
           "ready soups, cookware"
          ],
          [
           0.012070006035003017,
           "UHT-milk, cookware"
          ],
          [
           0.012371756185878094,
           "cookware"
          ],
          [
           0.015992757996378996,
           "cake bar, make up remover"
          ],
          [
           0.012975256487628244,
           "cookware"
          ],
          [
           0.02172601086300543,
           "butter milk"
          ],
          [
           0.08056729028364513,
           "make up remover"
          ],
          [
           0.016898008449004225,
           "mayonnaise"
          ],
          [
           0.02383826191913096,
           "mayonnaise"
          ],
          [
           0.012371756185878094,
           "make up remover"
          ],
          [
           0.01388050694025347,
           "canned fruit"
          ],
          [
           0.015087507543753771,
           "soups, make up remover"
          ],
          [
           0.01056125528062764,
           "sweet spreads, cookware"
          ],
          [
           0.013578756789378395,
           "make up remover, male cosmetics"
          ],
          [
           0.028062764031382016,
           "sweet spreads, make up remover"
          ],
          [
           0.07815328907664454,
           "mayonnaise"
          ],
          [
           0.0171997585998793,
           "cake bar"
          ],
          [
           0.015992757996378996,
           "curd cheese"
          ],
          [
           0.012070006035003017,
           "make up remover, cookware"
          ],
          [
           0.011164755582377792,
           "sugar"
          ],
          [
           0.012070006035003017,
           "UHT-milk"
          ],
          [
           0.015992757996378996,
           "cake bar, ready soups"
          ],
          [
           0.012371756185878094,
           "canned fruit, cookware"
          ],
          [
           0.012673506336753168,
           "meat"
          ],
          [
           0.022933011466505733,
           "cookware"
          ],
          [
           0.012673506336753168,
           "meat"
          ],
          [
           0.017501508750754374,
           "ready soups, make up remover"
          ],
          [
           0.013578756789378395,
           "soups"
          ],
          [
           0.057332528666264336,
           "cookware"
          ],
          [
           0.02172601086300543,
           "ready soups"
          ],
          [
           0.011768255884127943,
           "cookware"
          ],
          [
           0.028062764031382016,
           "ready soups, make up remover"
          ],
          [
           0.0356065178032589,
           "sweet spreads"
          ],
          [
           0.030778515389257695,
           "make up remover"
          ],
          [
           0.012371756185878094,
           "onions"
          ],
          [
           0.015087507543753771,
           "make up remover"
          ],
          [
           0.019010259505129752,
           "packaged fruit/vegetables, cookware"
          ],
          [
           0.010259505129752565,
           "brandy"
          ],
          [
           0.01056125528062764,
           "ready soups, frozen fish"
          ],
          [
           0.02383826191913096,
           "packaged fruit/vegetables"
          ],
          [
           0.01448400724200362,
           "ready soups, make up remover"
          ],
          [
           0.018406759203379603,
           "ready soups"
          ],
          [
           0.0171997585998793,
           "processed cheese"
          ],
          [
           0.022933011466505733,
           "cookware"
          ],
          [
           0.020217260108630054,
           "hamburger meat"
          ],
          [
           0.025648762824381412,
           "make up remover"
          ],
          [
           0.013578756789378395,
           "bathroom cleaner"
          ],
          [
           0.012371756185878094,
           "make up remover"
          ],
          [
           0.012975256487628244,
           "cookware"
          ],
          [
           0.026554013277006638,
           "mayonnaise"
          ],
          [
           0.01056125528062764,
           "cake bar, male cosmetics"
          ],
          [
           0.013578756789378395,
           "brandy, mayonnaise"
          ],
          [
           0.026554013277006638,
           "ready soups, cookware"
          ],
          [
           0.012070006035003017,
           "make up remover"
          ],
          [
           0.011768255884127943,
           "flower (seeds)"
          ],
          [
           0.010863005431502716,
           "frankfurter"
          ],
          [
           0.01388050694025347,
           "cookware"
          ],
          [
           0.02383826191913096,
           "meat"
          ],
          [
           0.010863005431502716,
           "curd cheese"
          ],
          [
           0.014785757392878697,
           "ready soups, soups"
          ],
          [
           0.02987326493663247,
           "rice"
          ],
          [
           0.027459263729631866,
           "packaged fruit/vegetables"
          ],
          [
           0.026855763427881714,
           "ready soups"
          ],
          [
           0.02112251056125528,
           "ready soups, male cosmetics"
          ],
          [
           0.02625226312613156,
           "kitchen towels"
          ],
          [
           0.010259505129752565,
           "cake bar, canned fruit"
          ],
          [
           0.10259505129752565,
           "ready soups"
          ],
          [
           0.015389257694628847,
           "brandy, cookware"
          ],
          [
           0.015087507543753771,
           "soups"
          ],
          [
           0.03530476765238383,
           "rice"
          ],
          [
           0.01780325890162945,
           "specialty bar"
          ],
          [
           0.011164755582377792,
           "hamburger meat"
          ],
          [
           0.018406759203379603,
           "cookware"
          ],
          [
           0.012673506336753168,
           "rice"
          ],
          [
           0.014785757392878697,
           "organic sausage"
          ],
          [
           0.011466505733252867,
           "bottled water"
          ],
          [
           0.010863005431502716,
           "cake bar, sweet spreads"
          ],
          [
           0.0171997585998793,
           "canned fruit"
          ],
          [
           0.028062764031382016,
           "mayonnaise"
          ],
          [
           0.025347012673506336,
           "make up remover"
          ],
          [
           0.010259505129752565,
           "ready soups, mayonnaise"
          ],
          [
           0.017501508750754374,
           "curd cheese"
          ],
          [
           0.019010259505129752,
           "specialty bar"
          ],
          [
           0.057030778515389256,
           "ready soups"
          ],
          [
           0.015691007845503924,
           "frankfurter"
          ],
          [
           0.013277006638503319,
           "photo/film"
          ],
          [
           0.07905853952926976,
           "male cosmetics"
          ],
          [
           0.012975256487628244,
           "curd cheese"
          ],
          [
           0.01388050694025347,
           "cookware"
          ],
          [
           0.02051901025950513,
           "candy"
          ],
          [
           0.010863005431502716,
           "salad dressing"
          ],
          [
           0.02172601086300543,
           "sweet spreads"
          ],
          [
           0.012371756185878094,
           "meat"
          ],
          [
           0.01448400724200362,
           "sweet spreads"
          ],
          [
           0.01388050694025347,
           "ready soups"
          ],
          [
           0.015691007845503924,
           "ready soups"
          ],
          [
           0.010259505129752565,
           "cake bar"
          ],
          [
           0.013578756789378395,
           "cake bar"
          ],
          [
           0.012371756185878094,
           "canned fruit, mayonnaise"
          ],
          [
           0.013277006638503319,
           "make up remover, mayonnaise"
          ],
          [
           0.01448400724200362,
           "meat"
          ],
          [
           0.015087507543753771,
           "specialty bar"
          ],
          [
           0.015691007845503924,
           "cake bar, sweet spreads"
          ],
          [
           0.012070006035003017,
           "bathroom cleaner"
          ],
          [
           0.011164755582377792,
           "sweet spreads, cookware"
          ],
          [
           0.020217260108630054,
           "brandy"
          ],
          [
           0.014182257091128546,
           "cake bar"
          ],
          [
           0.016898008449004225,
           "salad dressing"
          ],
          [
           0.01780325890162945,
           "bathroom cleaner"
          ],
          [
           0.012070006035003017,
           "mayonnaise"
          ],
          [
           0.013277006638503319,
           "cake bar"
          ],
          [
           0.011768255884127943,
           "kitchen towels"
          ],
          [
           0.01448400724200362,
           "chicken"
          ],
          [
           0.01056125528062764,
           "male cosmetics"
          ],
          [
           0.011466505733252867,
           "packaged fruit/vegetables"
          ],
          [
           0.03892576946288473,
           "mayonnaise"
          ],
          [
           0.06125528062764032,
           "soups"
          ],
          [
           0.014785757392878697,
           "ready soups"
          ],
          [
           0.015389257694628847,
           "ready soups, soups"
          ],
          [
           0.018105009052504527,
           "hamburger meat, cookware"
          ],
          [
           0.029571514785757393,
           "specialty bar"
          ],
          [
           0.010863005431502716,
           "domestic eggs"
          ],
          [
           0.015992757996378996,
           "ready soups, mayonnaise"
          ],
          [
           0.01448400724200362,
           "meat, make up remover"
          ],
          [
           0.012975256487628244,
           "brandy"
          ],
          [
           0.03047676523838262,
           "ready soups"
          ],
          [
           0.03711526855763428,
           "mayonnaise"
          ],
          [
           0.013277006638503319,
           "male cosmetics"
          ],
          [
           0.010259505129752565,
           "packaged fruit/vegetables, cookware"
          ],
          [
           0.01448400724200362,
           "meat"
          ],
          [
           0.010259505129752565,
           "ready soups, make up remover"
          ],
          [
           0.036511768255884126,
           "kitchen towels"
          ],
          [
           0.01448400724200362,
           "make up remover"
          ],
          [
           0.012673506336753168,
           "bottled beer"
          ],
          [
           0.012371756185878094,
           "grapes"
          ],
          [
           0.011466505733252867,
           "ready soups"
          ],
          [
           0.010259505129752565,
           "soups"
          ],
          [
           0.011466505733252867,
           "cookware"
          ],
          [
           0.01056125528062764,
           "meat, cookware"
          ],
          [
           0.011164755582377792,
           "kitchen towels"
          ],
          [
           0.012371756185878094,
           "ready soups"
          ],
          [
           0.0503922751961376,
           "sweet spreads"
          ],
          [
           0.011164755582377792,
           "sweet spreads"
          ],
          [
           0.01659625829812915,
           "rice"
          ],
          [
           0.01659625829812915,
           "male cosmetics"
          ],
          [
           0.013277006638503319,
           "mayonnaise, male cosmetics"
          ],
          [
           0.018105009052504527,
           "soups"
          ],
          [
           0.011466505733252867,
           "brandy"
          ],
          [
           0.013578756789378395,
           "make up remover"
          ],
          [
           0.010259505129752565,
           "frankfurter"
          ],
          [
           0.010259505129752565,
           "butter milk"
          ],
          [
           0.026554013277006638,
           "cake bar"
          ],
          [
           0.016898008449004225,
           "misc. beverages"
          ],
          [
           0.012070006035003017,
           "ready soups, curd cheese"
          ],
          [
           0.026855763427881714,
           "make up remover"
          ],
          [
           0.019613759806879905,
           "male cosmetics"
          ],
          [
           0.015992757996378996,
           "ready soups, make up remover"
          ],
          [
           0.05069402534701267,
           "packaged fruit/vegetables"
          ],
          [
           0.011164755582377792,
           "potato products"
          ],
          [
           0.02112251056125528,
           "ready soups, make up remover"
          ],
          [
           0.01931200965600483,
           "sweet spreads"
          ],
          [
           0.011164755582377792,
           "curd cheese"
          ],
          [
           0.013578756789378395,
           "sweet spreads"
          ],
          [
           0.011466505733252867,
           "frozen fish"
          ],
          [
           0.05069402534701267,
           "ready soups"
          ],
          [
           0.011466505733252867,
           "ready soups, brandy"
          ],
          [
           0.01931200965600483,
           "cookware"
          ],
          [
           0.03379601689800845,
           "sweet spreads"
          ],
          [
           0.010259505129752565,
           "soups"
          ],
          [
           0.026554013277006638,
           "soups"
          ],
          [
           0.016898008449004225,
           "sugar"
          ],
          [
           0.010259505129752565,
           "male cosmetics, cookware"
          ],
          [
           0.015992757996378996,
           "curd cheese"
          ],
          [
           0.022933011466505733,
           "cake bar"
          ],
          [
           0.011768255884127943,
           "ready soups, sweet spreads"
          ],
          [
           0.012673506336753168,
           "ready soups"
          ],
          [
           0.012371756185878094,
           "cake bar"
          ],
          [
           0.011466505733252867,
           "bottled water"
          ],
          [
           0.013277006638503319,
           "make up remover"
          ],
          [
           0.01659625829812915,
           "make up remover"
          ],
          [
           0.010863005431502716,
           "margarine"
          ],
          [
           0.01056125528062764,
           "seasonal products"
          ],
          [
           0.014785757392878697,
           "soups, hamburger meat"
          ],
          [
           0.012070006035003017,
           "sweet spreads"
          ],
          [
           0.012371756185878094,
           "whole milk"
          ],
          [
           0.01056125528062764,
           "curd cheese, make up remover"
          ],
          [
           0.010259505129752565,
           "onions"
          ],
          [
           0.015691007845503924,
           "cake bar"
          ],
          [
           0.011466505733252867,
           "whole milk"
          ],
          [
           0.0171997585998793,
           "hamburger meat"
          ],
          [
           0.013277006638503319,
           "ready soups"
          ],
          [
           0.018105009052504527,
           "ready soups, cookware"
          ],
          [
           0.020217260108630054,
           "chicken"
          ],
          [
           0.02323476161738081,
           "decalcifier"
          ],
          [
           0.015992757996378996,
           "misc. beverages"
          ],
          [
           0.010863005431502716,
           "packaged fruit/vegetables"
          ],
          [
           0.019613759806879905,
           "ready soups, sweet spreads"
          ],
          [
           0.01056125528062764,
           "rice, mayonnaise"
          ],
          [
           0.013578756789378395,
           "male cosmetics, cookware"
          ],
          [
           0.01056125528062764,
           "mayonnaise, cookware"
          ],
          [
           0.012975256487628244,
           "make up remover"
          ],
          [
           0.010863005431502716,
           "ready soups, sweet spreads"
          ],
          [
           0.014182257091128546,
           "mayonnaise, cookware"
          ],
          [
           0.012371756185878094,
           "sweet spreads, make up remover"
          ],
          [
           0.012371756185878094,
           "canned vegetables"
          ],
          [
           0.010259505129752565,
           "soups, sweet spreads"
          ],
          [
           0.010259505129752565,
           "sweet spreads, make up remover"
          ],
          [
           0.02444176222088111,
           "brandy"
          ],
          [
           0.017501508750754374,
           "ready soups, curd cheese"
          ],
          [
           0.012371756185878094,
           "soups"
          ],
          [
           0.010259505129752565,
           "bottled beer"
          ],
          [
           0.012070006035003017,
           "canned fruit, cookware"
          ],
          [
           0.012070006035003017,
           "sugar"
          ],
          [
           0.0171997585998793,
           "cookware"
          ],
          [
           0.01056125528062764,
           "mayonnaise"
          ],
          [
           0.01659625829812915,
           "sugar"
          ],
          [
           0.012975256487628244,
           "curd cheese, make up remover"
          ],
          [
           0.012070006035003017,
           "ready soups, kitchen towels"
          ],
          [
           0.010259505129752565,
           "meat, mayonnaise"
          ],
          [
           0.019010259505129752,
           "sweet spreads, mayonnaise"
          ],
          [
           0.011768255884127943,
           "pickled vegetables"
          ],
          [
           0.01448400724200362,
           "ready soups"
          ],
          [
           0.0700060350030175,
           "cookware"
          ],
          [
           0.01056125528062764,
           "ready soups, mayonnaise"
          ],
          [
           0.017501508750754374,
           "curd"
          ],
          [
           0.012070006035003017,
           "make up remover, male cosmetics"
          ],
          [
           0.013277006638503319,
           "male cosmetics"
          ],
          [
           0.013578756789378395,
           "make up remover, cookware"
          ],
          [
           0.03530476765238383,
           "ready soups"
          ],
          [
           0.026554013277006638,
           "soups"
          ],
          [
           0.014182257091128546,
           "packaged fruit/vegetables, mayonnaise"
          ],
          [
           0.018406759203379603,
           "ready soups, curd cheese"
          ],
          [
           0.011466505733252867,
           "cake bar, brandy"
          ],
          [
           0.010259505129752565,
           "packaged fruit/vegetables"
          ],
          [
           0.011768255884127943,
           "misc. beverages"
          ],
          [
           0.01056125528062764,
           "candy"
          ],
          [
           0.01448400724200362,
           "canned vegetables"
          ],
          [
           0.022933011466505733,
           "frankfurter"
          ],
          [
           0.012070006035003017,
           "UHT-milk"
          ],
          [
           0.012975256487628244,
           "soups, mayonnaise"
          ],
          [
           0.012673506336753168,
           "hamburger meat, make up remover"
          ],
          [
           0.01056125528062764,
           "decalcifier"
          ],
          [
           0.012371756185878094,
           "ready soups, sweet spreads"
          ],
          [
           0.014785757392878697,
           "ready soups, cookware"
          ],
          [
           0.017501508750754374,
           "soups"
          ],
          [
           0.011164755582377792,
           "cake bar, sweet spreads"
          ],
          [
           0.022631261315630657,
           "ham"
          ],
          [
           0.01388050694025347,
           "ready soups, male cosmetics"
          ],
          [
           0.010259505129752565,
           "cookware"
          ],
          [
           0.014785757392878697,
           "fruit/vegetable juice, cookware"
          ],
          [
           0.01056125528062764,
           "sweet spreads"
          ],
          [
           0.023536511768255886,
           "bathroom cleaner"
          ],
          [
           0.012673506336753168,
           "ready soups"
          ],
          [
           0.010259505129752565,
           "male cosmetics"
          ],
          [
           0.01056125528062764,
           "mayonnaise"
          ],
          [
           0.013277006638503319,
           "ready soups"
          ],
          [
           0.022631261315630657,
           "ready soups"
          ],
          [
           0.010259505129752565,
           "ready soups, sugar"
          ],
          [
           0.012975256487628244,
           "cookware"
          ],
          [
           0.016898008449004225,
           "cookware"
          ],
          [
           0.013578756789378395,
           "make up remover"
          ],
          [
           0.03047676523838262,
           "bathroom cleaner"
          ],
          [
           0.012371756185878094,
           "sweet spreads"
          ],
          [
           0.01056125528062764,
           "whole milk"
          ],
          [
           0.018105009052504527,
           "sugar"
          ],
          [
           0.019010259505129752,
           "ready soups, meat"
          ],
          [
           0.014785757392878697,
           "ready soups, fruit/vegetable juice"
          ],
          [
           0.02715751357875679,
           "brandy"
          ],
          [
           0.014182257091128546,
           "curd"
          ],
          [
           0.012371756185878094,
           "ready soups"
          ],
          [
           0.012673506336753168,
           "hamburger meat"
          ],
          [
           0.010259505129752565,
           "packaged fruit/vegetables, male cosmetics"
          ],
          [
           0.018708509354254676,
           "soups"
          ],
          [
           0.013578756789378395,
           "cookware"
          ],
          [
           0.012975256487628244,
           "house keeping products"
          ],
          [
           0.012371756185878094,
           "cake bar, soups"
          ],
          [
           0.012975256487628244,
           "soups, cookware"
          ],
          [
           0.03168376584188292,
           "sweet spreads"
          ],
          [
           0.010259505129752565,
           "sweet spreads"
          ],
          [
           0.013578756789378395,
           "mayonnaise"
          ],
          [
           0.09474954737477369,
           "ready soups"
          ],
          [
           0.011466505733252867,
           "cookware"
          ],
          [
           0.017501508750754374,
           "bathroom cleaner"
          ],
          [
           0.01056125528062764,
           "cake bar"
          ],
          [
           0.01931200965600483,
           "mayonnaise"
          ],
          [
           0.011164755582377792,
           "ready soups, make up remover"
          ],
          [
           0.022933011466505733,
           "sweet spreads"
          ],
          [
           0.01056125528062764,
           "grapes"
          ],
          [
           0.01659625829812915,
           "frozen fish"
          ],
          [
           0.014182257091128546,
           "chicken"
          ],
          [
           0.022631261315630657,
           "packaged fruit/vegetables"
          ],
          [
           0.012975256487628244,
           "processed cheese"
          ],
          [
           0.011768255884127943,
           "butter"
          ],
          [
           0.018406759203379603,
           "sweet spreads, curd cheese"
          ],
          [
           0.011768255884127943,
           "house keeping products"
          ],
          [
           0.019010259505129752,
           "packaged fruit/vegetables"
          ],
          [
           0.010259505129752565,
           "ready soups"
          ],
          [
           0.011768255884127943,
           "butter milk"
          ],
          [
           0.012371756185878094,
           "male cosmetics"
          ],
          [
           0.018406759203379603,
           "meat"
          ],
          [
           0.015691007845503924,
           "ready soups"
          ],
          [
           0.012371756185878094,
           "sweet spreads, cookware"
          ],
          [
           0.018105009052504527,
           "ready soups, soups"
          ],
          [
           0.011164755582377792,
           "ready soups, make up remover"
          ],
          [
           0.013578756789378395,
           "chicken"
          ],
          [
           0.012371756185878094,
           "ready soups, sweet spreads, make up remover"
          ],
          [
           0.012673506336753168,
           "house keeping products"
          ],
          [
           0.02595051297525649,
           "male cosmetics"
          ],
          [
           0.01056125528062764,
           "mayonnaise, cookware"
          ],
          [
           0.01388050694025347,
           "soups, cookware"
          ],
          [
           0.0171997585998793,
           "male cosmetics, cookware"
          ],
          [
           0.011164755582377792,
           "male cosmetics, cookware"
          ],
          [
           0.014182257091128546,
           "sweet spreads"
          ],
          [
           0.011768255884127943,
           "canned fruit"
          ],
          [
           0.012070006035003017,
           "ready soups, bathroom cleaner"
          ],
          [
           0.05823777911888956,
           "male cosmetics"
          ],
          [
           0.010259505129752565,
           "onions"
          ],
          [
           0.011466505733252867,
           "curd cheese, make up remover"
          ],
          [
           0.012371756185878094,
           "ready soups"
          ],
          [
           0.014785757392878697,
           "ready soups, canned fruit"
          ],
          [
           0.013578756789378395,
           "ready soups, bathroom cleaner"
          ],
          [
           0.01388050694025347,
           "meat, cookware"
          ],
          [
           0.010259505129752565,
           "specialty bar"
          ],
          [
           0.012070006035003017,
           "ready soups, cookware"
          ],
          [
           0.022329511164755584,
           "fruit/vegetable juice"
          ],
          [
           0.02383826191913096,
           "brandy"
          ],
          [
           0.01056125528062764,
           "curd cheese, cookware"
          ],
          [
           0.011466505733252867,
           "sweet spreads"
          ],
          [
           0.011466505733252867,
           "curd cheese"
          ],
          [
           0.03711526855763428,
           "soups"
          ],
          [
           0.03409776704888352,
           "processed cheese"
          ],
          [
           0.018105009052504527,
           "house keeping products"
          ],
          [
           0.011466505733252867,
           "sweet spreads"
          ],
          [
           0.012673506336753168,
           "ready soups, mayonnaise"
          ],
          [
           0.011768255884127943,
           "packaged fruit/vegetables"
          ],
          [
           0.018406759203379603,
           "mayonnaise"
          ],
          [
           0.010259505129752565,
           "mayonnaise"
          ],
          [
           0.01448400724200362,
           "male cosmetics"
          ],
          [
           0.010259505129752565,
           "packaged fruit/vegetables"
          ],
          [
           0.010259505129752565,
           "processed cheese"
          ],
          [
           0.01056125528062764,
           "chicken"
          ],
          [
           0.04254677127338564,
           "male cosmetics"
          ],
          [
           0.029571514785757393,
           "sweet spreads"
          ],
          [
           0.012371756185878094,
           "hamburger meat"
          ],
          [
           0.013578756789378395,
           "ready soups, cookware"
          ],
          [
           0.01448400724200362,
           "cookware"
          ],
          [
           0.016898008449004225,
           "make up remover, cookware"
          ],
          [
           0.011768255884127943,
           "sweet spreads"
          ],
          [
           0.016898008449004225,
           "curd cheese"
          ],
          [
           0.012371756185878094,
           "brandy, make up remover"
          ],
          [
           0.011466505733252867,
           "ready soups"
          ],
          [
           0.018105009052504527,
           "ready soups"
          ],
          [
           0.011164755582377792,
           "grapes"
          ],
          [
           0.018406759203379603,
           "curd cheese, cookware"
          ],
          [
           0.018406759203379603,
           "butter milk"
          ],
          [
           0.010863005431502716,
           "rice"
          ],
          [
           0.012371756185878094,
           "ready soups, frankfurter"
          ],
          [
           0.028062764031382016,
           "male cosmetics"
          ],
          [
           0.014182257091128546,
           "fruit/vegetable juice"
          ],
          [
           0.027459263729631866,
           "ready soups, male cosmetics"
          ],
          [
           0.012070006035003017,
           "packaged fruit/vegetables"
          ],
          [
           0.011164755582377792,
           "male cosmetics, cookware"
          ],
          [
           0.010863005431502716,
           "cake bar"
          ],
          [
           0.010863005431502716,
           "meat"
          ],
          [
           0.02595051297525649,
           "photo/film"
          ],
          [
           0.029571514785757393,
           "ready soups"
          ],
          [
           0.012070006035003017,
           "misc. beverages"
          ],
          [
           0.036210018105009054,
           "curd cheese"
          ],
          [
           0.02051901025950513,
           "sweet spreads"
          ],
          [
           0.011164755582377792,
           "hamburger meat, sweet spreads"
          ],
          [
           0.014785757392878697,
           "packaged fruit/vegetables"
          ],
          [
           0.011768255884127943,
           "male cosmetics"
          ],
          [
           0.025347012673506336,
           "ready soups, make up remover"
          ],
          [
           0.011768255884127943,
           "packaged fruit/vegetables, cookware"
          ],
          [
           0.025347012673506336,
           "fruit/vegetable juice"
          ],
          [
           0.014785757392878697,
           "hamburger meat"
          ],
          [
           0.012371756185878094,
           "make up remover, cookware"
          ],
          [
           0.010259505129752565,
           "rubbing alcohol"
          ],
          [
           0.010259505129752565,
           "make up remover"
          ],
          [
           0.011466505733252867,
           "male cosmetics"
          ],
          [
           0.029269764634882317,
           "make up remover"
          ],
          [
           0.018105009052504527,
           "packaged fruit/vegetables"
          ],
          [
           0.012070006035003017,
           "soups"
          ],
          [
           0.028062764031382016,
           "cookware"
          ],
          [
           0.01448400724200362,
           "sweet spreads"
          ],
          [
           0.010863005431502716,
           "hamburger meat, meat"
          ],
          [
           0.018406759203379603,
           "sweet spreads"
          ],
          [
           0.027459263729631866,
           "mayonnaise"
          ],
          [
           0.012070006035003017,
           "sweet spreads, make up remover"
          ],
          [
           0.018105009052504527,
           "cookware"
          ],
          [
           0.028364514182257092,
           "curd cheese"
          ],
          [
           0.02323476161738081,
           "male cosmetics"
          ],
          [
           0.011164755582377792,
           "ready soups, bathroom cleaner"
          ],
          [
           0.022933011466505733,
           "cake bar, cookware"
          ],
          [
           0.013277006638503319,
           "ready soups"
          ],
          [
           0.013277006638503319,
           "flower (seeds)"
          ],
          [
           0.015992757996378996,
           "make up remover"
          ],
          [
           0.03108026554013277,
           "bottled beer"
          ],
          [
           0.012371756185878094,
           "rice"
          ],
          [
           0.016898008449004225,
           "ready soups, sweet spreads"
          ],
          [
           0.015992757996378996,
           "ham"
          ],
          [
           0.05974652987326494,
           "ready soups"
          ],
          [
           0.02112251056125528,
           "ready soups, meat"
          ],
          [
           0.011164755582377792,
           "cake bar, ready soups"
          ],
          [
           0.011164755582377792,
           "packaged fruit/vegetables"
          ],
          [
           0.027459263729631866,
           "ready soups, cookware"
          ],
          [
           0.026855763427881714,
           "brandy"
          ],
          [
           0.012070006035003017,
           "bathroom cleaner"
          ],
          [
           0.012371756185878094,
           "mayonnaise"
          ],
          [
           0.011768255884127943,
           "bathroom cleaner, cookware"
          ],
          [
           0.010863005431502716,
           "bottled beer"
          ],
          [
           0.045262522631261314,
           "fruit/vegetable juice"
          ],
          [
           0.03198551599275799,
           "ready soups, sweet spreads"
          ],
          [
           0.011768255884127943,
           "rice"
          ],
          [
           0.011164755582377792,
           "make up remover"
          ],
          [
           0.011466505733252867,
           "canned fruit, cookware"
          ],
          [
           0.011164755582377792,
           "bathroom cleaner, make up remover"
          ],
          [
           0.013277006638503319,
           "candy"
          ],
          [
           0.01056125528062764,
           "canned fruit"
          ],
          [
           0.01056125528062764,
           "ready soups"
          ],
          [
           0.02444176222088111,
           "mayonnaise"
          ],
          [
           0.012070006035003017,
           "processed cheese, cookware"
          ],
          [
           0.02323476161738081,
           "ready soups, sweet spreads"
          ],
          [
           0.01448400724200362,
           "cookware"
          ],
          [
           0.012673506336753168,
           "ready soups, cookware"
          ],
          [
           0.012673506336753168,
           "ready soups, mayonnaise"
          ],
          [
           0.013277006638503319,
           "fruit/vegetable juice"
          ],
          [
           0.017501508750754374,
           "fruit/vegetable juice"
          ],
          [
           0.015992757996378996,
           "specialty bar"
          ],
          [
           0.030778515389257695,
           "sweet spreads"
          ],
          [
           0.026554013277006638,
           "ready soups"
          ],
          [
           0.011164755582377792,
           "male cosmetics"
          ],
          [
           0.011466505733252867,
           "organic sausage"
          ],
          [
           0.0171997585998793,
           "male cosmetics"
          ],
          [
           0.011768255884127943,
           "bathroom cleaner"
          ],
          [
           0.01659625829812915,
           "mayonnaise"
          ],
          [
           0.01056125528062764,
           "pudding powder"
          ],
          [
           0.012975256487628244,
           "ready soups, soups"
          ],
          [
           0.012371756185878094,
           "kitchen towels"
          ],
          [
           0.014785757392878697,
           "ready soups, packaged fruit/vegetables"
          ],
          [
           0.012070006035003017,
           "ready soups"
          ],
          [
           0.012070006035003017,
           "kitchen towels"
          ],
          [
           0.016898008449004225,
           "cookware"
          ],
          [
           0.010259505129752565,
           "make up remover, cookware"
          ],
          [
           0.020820760410380206,
           "meat"
          ],
          [
           0.01388050694025347,
           "brandy, male cosmetics"
          ],
          [
           0.013277006638503319,
           "ready soups, bottled beer"
          ],
          [
           0.026554013277006638,
           "ready soups, mayonnaise"
          ],
          [
           0.012070006035003017,
           "misc. beverages"
          ],
          [
           0.047978273989136996,
           "cake bar"
          ],
          [
           0.015992757996378996,
           "curd cheese, male cosmetics"
          ],
          [
           0.015992757996378996,
           "ready soups"
          ],
          [
           0.015992757996378996,
           "sweet spreads"
          ],
          [
           0.01388050694025347,
           "sweet spreads, cookware"
          ],
          [
           0.013277006638503319,
           "ready soups, make up remover"
          ],
          [
           0.03198551599275799,
           "sweet spreads"
          ],
          [
           0.01056125528062764,
           "mayonnaise, cookware"
          ],
          [
           0.011164755582377792,
           "butter milk"
          ],
          [
           0.011466505733252867,
           "bottled beer"
          ],
          [
           0.019010259505129752,
           "cookware"
          ],
          [
           0.011164755582377792,
           "sweet spreads, frankfurter"
          ],
          [
           0.012673506336753168,
           "mayonnaise"
          ],
          [
           0.023536511768255886,
           "make up remover"
          ],
          [
           0.0171997585998793,
           "brandy"
          ],
          [
           0.015992757996378996,
           "curd cheese"
          ]
         ],
         "hovertemplate": "<b>%{hovertext}</b><br><br>Lift=%{marker.color}<br>Confidence=%{y}<br>Support=%{customdata[0]}<br>consequents=%{customdata[1]}<extra></extra>",
         "hovertext": [
          "soups",
          "curd cheese",
          "meat",
          "mayonnaise",
          "male cosmetics",
          "packaged fruit/vegetables",
          "sweet spreads",
          "bottled beer",
          "processed cheese",
          "photo/film",
          "photo/film",
          "ready soups",
          "ready soups, frankfurter",
          "UHT-milk",
          "frozen fish",
          "domestic eggs",
          "canned vegetables",
          "male cosmetics",
          "chicken",
          "meat",
          "mayonnaise",
          "ready soups, bottled beer",
          "cake bar, curd cheese",
          "soups",
          "hamburger meat",
          "ready soups",
          "specialty bar",
          "ready soups",
          "canned vegetables",
          "mayonnaise",
          "curd cheese",
          "cookware",
          "cake bar, brandy",
          "canned fruit",
          "meat",
          "male cosmetics",
          "make up remover",
          "make up remover",
          "frankfurter",
          "bathroom cleaner",
          "flower (seeds)",
          "hamburger meat",
          "ready soups, sweet spreads",
          "soups",
          "male cosmetics",
          "make up remover",
          "salad dressing",
          "kitchen towels",
          "ready soups",
          "frozen fish",
          "hamburger meat",
          "cookware",
          "ready soups, frozen fish",
          "mayonnaise",
          "sugar",
          "make up remover, cookware",
          "hamburger meat",
          "rubbing alcohol",
          "frankfurter",
          "decalcifier",
          "bottled beer, sweet spreads",
          "make up remover, mayonnaise",
          "bathroom cleaner, male cosmetics",
          "rice",
          "ready soups, sweet spreads",
          "cake bar",
          "canned fruit, sweet spreads",
          "make up remover",
          "ready soups, frozen fish",
          "sweet spreads",
          "pickled vegetables",
          "ready soups, canned fruit",
          "sweet spreads",
          "grapes",
          "processed cheese",
          "rice",
          "make up remover",
          "male cosmetics",
          "ready soups",
          "cake bar",
          "mayonnaise",
          "meat",
          "ready soups, hamburger meat",
          "ready soups",
          "make up remover",
          "soups",
          "rice",
          "cake bar",
          "make up remover, male cosmetics",
          "bathroom cleaner",
          "ready soups, sweet spreads",
          "brandy",
          "cake bar, male cosmetics",
          "frankfurter",
          "ready soups, make up remover, mayonnaise",
          "misc. beverages",
          "misc. beverages",
          "sweet spreads, cookware",
          "ready soups",
          "canned fruit",
          "ready soups",
          "sweet spreads",
          "make up remover",
          "packaged fruit/vegetables",
          "ready soups",
          "curd cheese",
          "canned fruit",
          "sweet spreads",
          "soups, mayonnaise",
          "mayonnaise, cookware",
          "ready soups, sweet spreads",
          "make up remover, cookware",
          "male cosmetics",
          "ready soups",
          "sweet spreads",
          "cookware",
          "sugar",
          "sweet spreads, male cosmetics",
          "male cosmetics",
          "cake bar",
          "canned fruit",
          "sweet spreads",
          "ready soups",
          "frozen fish",
          "bathroom cleaner, cookware",
          "pickled vegetables",
          "sweet spreads, frozen fish",
          "sweet spreads, cookware",
          "cake bar, male cosmetics",
          "brandy",
          "cake bar, sweet spreads",
          "ready soups, cookware",
          "curd cheese",
          "ready soups, soups",
          "curd cheese",
          "make up remover",
          "ready soups, fruit/vegetable juice",
          "male cosmetics",
          "sweet spreads",
          "soups",
          "male cosmetics",
          "cookware",
          "brandy, make up remover",
          "male cosmetics",
          "make up remover",
          "ready soups",
          "meat, make up remover",
          "rice",
          "ready soups, curd cheese",
          "mayonnaise",
          "ham",
          "cake bar",
          "sweet spreads, male cosmetics",
          "canned fruit",
          "mayonnaise",
          "rice",
          "meat, mayonnaise",
          "mayonnaise",
          "male cosmetics",
          "meat",
          "packaged fruit/vegetables",
          "cake bar",
          "meat",
          "processed cheese",
          "hamburger meat",
          "sweet spreads",
          "cookware",
          "ready soups",
          "male cosmetics",
          "make up remover",
          "ready soups",
          "fruit/vegetable juice",
          "house keeping products",
          "brandy",
          "cake bar",
          "kitchen towels, cookware",
          "ready soups",
          "ready soups, cookware",
          "packaged fruit/vegetables",
          "cookware",
          "curd cheese",
          "ready soups, frankfurter",
          "rice",
          "male cosmetics",
          "soups, hamburger meat",
          "sweet spreads",
          "grapes",
          "sweet spreads, cookware",
          "meat",
          "UHT-milk",
          "ready soups, mayonnaise",
          "onions",
          "sweet spreads",
          "ready soups",
          "misc. beverages",
          "cookware",
          "make up remover",
          "make up remover",
          "ready soups, sweet spreads",
          "ready soups, meat",
          "male cosmetics, cookware",
          "sweet spreads, curd cheese",
          "cookware",
          "soups",
          "cookware",
          "ready soups",
          "sweet spreads",
          "cookware",
          "ready soups, brandy",
          "ready soups, make up remover",
          "organic sausage",
          "butter milk",
          "soups, meat",
          "ready soups, fruit/vegetable juice",
          "ready soups, mayonnaise",
          "packaged fruit/vegetables",
          "ready soups, curd cheese",
          "ready soups, brandy",
          "soups",
          "frozen fish",
          "ready soups",
          "mayonnaise",
          "ready soups, frozen fish",
          "UHT-milk",
          "mayonnaise",
          "cookware",
          "sugar",
          "cake bar",
          "sweet spreads",
          "packaged fruit/vegetables, cookware",
          "meat, mayonnaise",
          "meat, cookware",
          "ready soups",
          "potato products",
          "packaged fruit/vegetables, cookware",
          "fruit/vegetable juice",
          "ready soups, meat",
          "ready soups, packaged fruit/vegetables",
          "bottled beer",
          "ready soups, mayonnaise",
          "male cosmetics",
          "make up remover",
          "cookware",
          "misc. beverages",
          "ready soups, sweet spreads",
          "curd cheese, make up remover",
          "soups",
          "butter milk",
          "male cosmetics, mayonnaise",
          "sweet spreads",
          "bottled beer",
          "chicken",
          "pickled vegetables",
          "cake bar, cookware",
          "cake bar, cookware",
          "ready soups, hamburger meat",
          "soups",
          "mayonnaise",
          "sweet spreads",
          "canned fruit",
          "cookware",
          "hamburger meat, sweet spreads",
          "meat",
          "ready soups, male cosmetics",
          "soups, frozen fish",
          "make up remover",
          "make up remover",
          "ready soups",
          "ready soups",
          "frankfurter",
          "hamburger meat, male cosmetics",
          "mayonnaise",
          "male cosmetics",
          "ready soups, packaged fruit/vegetables",
          "ready soups, mayonnaise",
          "processed cheese",
          "ready soups, make up remover",
          "curd cheese",
          "brown bread",
          "male cosmetics",
          "ready soups",
          "mayonnaise",
          "male cosmetics, cookware",
          "sweet spreads",
          "soups, sweet spreads",
          "processed cheese, ready soups",
          "male cosmetics",
          "butter",
          "cookware",
          "chicken",
          "butter milk",
          "ham",
          "ready soups, cookware",
          "packaged fruit/vegetables",
          "mayonnaise, cookware",
          "packaged fruit/vegetables",
          "sweet spreads",
          "brandy",
          "ready soups",
          "ready soups, sweet spreads",
          "male cosmetics",
          "ready soups, male cosmetics",
          "bathroom cleaner",
          "cookware",
          "cake bar, sweet spreads",
          "packaged fruit/vegetables",
          "curd",
          "specialty bar",
          "sweet spreads, make up remover",
          "sweet spreads, packaged fruit/vegetables",
          "soups",
          "processed cheese, make up remover",
          "ready soups",
          "cookware",
          "make up remover",
          "cake bar",
          "sweet spreads, male cosmetics",
          "ready soups, hamburger meat",
          "sweet spreads",
          "ready soups, male cosmetics",
          "cookware",
          "make up remover",
          "sweet spreads",
          "cookware",
          "photo/film",
          "mayonnaise",
          "sweet spreads, make up remover",
          "soups",
          "kitchen towels",
          "mayonnaise",
          "canned fruit",
          "mayonnaise",
          "specialty bar",
          "pickled vegetables",
          "meat",
          "ham",
          "specialty bar",
          "sweet spreads",
          "packaged fruit/vegetables",
          "soups, male cosmetics",
          "ready soups, mayonnaise",
          "curd cheese",
          "bottled water",
          "meat",
          "organic sausage",
          "butter milk",
          "cookware",
          "ready soups, make up remover",
          "ready soups, cookware",
          "ready soups, sweet spreads, mayonnaise",
          "sweet spreads, cookware",
          "curd cheese, make up remover",
          "make up remover, cookware",
          "ready soups, soups",
          "sweet spreads",
          "hamburger meat",
          "make up remover",
          "candy",
          "cookware",
          "male cosmetics, cookware",
          "male cosmetics, mayonnaise",
          "male cosmetics, cookware",
          "photo/film",
          "ready soups, canned fruit",
          "ready soups, make up remover",
          "ready soups, mayonnaise",
          "ready soups, kitchen towels",
          "ready soups, bathroom cleaner",
          "ready soups, male cosmetics",
          "ready soups, cookware",
          "soups, make up remover",
          "bathroom cleaner",
          "meat",
          "hamburger meat, sweet spreads",
          "soups",
          "hamburger meat, mayonnaise",
          "meat",
          "hamburger meat",
          "canned fruit, make up remover",
          "make up remover",
          "ready soups",
          "ready soups, mayonnaise",
          "mayonnaise, male cosmetics",
          "cake bar",
          "curd cheese",
          "ready soups, soups",
          "soups",
          "domestic eggs",
          "cake bar, mayonnaise",
          "ready soups",
          "male cosmetics",
          "cake bar, ready soups",
          "ready soups",
          "meat",
          "cake bar, meat",
          "cookware",
          "hamburger meat",
          "curd cheese",
          "ready soups, male cosmetics",
          "house keeping products",
          "fruit/vegetable juice",
          "candy",
          "ready soups",
          "sweet spreads, make up remover",
          "make up remover",
          "ready soups",
          "cookware",
          "sweet spreads",
          "processed cheese",
          "ready soups, brandy",
          "sweet spreads",
          "cake bar, ready soups",
          "ready soups",
          "mayonnaise, male cosmetics",
          "curd cheese",
          "soups",
          "soups, mayonnaise",
          "cake bar",
          "sweet spreads, cookware",
          "ready soups",
          "bathroom cleaner",
          "male cosmetics",
          "canned fruit",
          "ready soups, bathroom cleaner",
          "bottled water",
          "ready soups",
          "cake bar",
          "bathroom cleaner, make up remover",
          "fruit/vegetable juice",
          "ready soups, male cosmetics",
          "house keeping products",
          "mayonnaise, cookware",
          "male cosmetics",
          "bottled beer",
          "packaged fruit/vegetables",
          "brandy, make up remover",
          "hamburger meat, make up remover",
          "cake bar, sweet spreads",
          "male cosmetics",
          "canned fruit, sweet spreads",
          "packaged fruit/vegetables",
          "ready soups, make up remover",
          "cookware",
          "sugar",
          "ready soups",
          "cookware",
          "cookware",
          "ready soups, cookware",
          "sweet spreads",
          "ready soups",
          "ready soups, cookware",
          "canned fruit",
          "make up remover",
          "ready soups, sweet spreads, make up remover",
          "rice",
          "brandy, cookware",
          "brandy",
          "male cosmetics",
          "ready soups",
          "salad dressing",
          "brandy",
          "sweet spreads, cookware",
          "kitchen towels",
          "ready soups, sweet spreads",
          "packaged fruit/vegetables",
          "ready soups, meat",
          "cookware",
          "sweet spreads",
          "sweet spreads",
          "ready soups",
          "ready soups, mayonnaise",
          "frozen fish",
          "sweet spreads",
          "fruit/vegetable juice, mayonnaise",
          "cake bar, canned fruit",
          "sweet spreads, bathroom cleaner",
          "cookware",
          "canned fruit",
          "sweet spreads, mayonnaise",
          "make up remover",
          "fruit/vegetable juice",
          "cookware",
          "ready soups, cookware",
          "cake bar, make up remover",
          "curd",
          "ready soups, sweet spreads",
          "make up remover",
          "cookware",
          "curd cheese",
          "ready soups",
          "processed cheese",
          "butter",
          "ready soups, make up remover",
          "sweet spreads",
          "mayonnaise",
          "cake bar",
          "mayonnaise",
          "canned fruit, make up remover",
          "ready soups, butter milk",
          "hamburger meat",
          "packaged fruit/vegetables",
          "cake bar",
          "house keeping products",
          "male cosmetics",
          "rubbing alcohol",
          "domestic eggs",
          "butter milk",
          "sweet spreads",
          "bottled beer, cookware",
          "ready soups",
          "cookware",
          "cookware",
          "cookware",
          "cookware",
          "curd cheese",
          "mayonnaise, cookware",
          "ready soups",
          "soups, sweet spreads",
          "sweet spreads",
          "frankfurter",
          "sweet spreads",
          "make up remover",
          "hamburger meat",
          "frozen fish, cookware",
          "grapes",
          "ready soups, packaged fruit/vegetables",
          "decalcifier",
          "curd cheese, male cosmetics",
          "make up remover",
          "specialty bar",
          "processed cheese",
          "sweet spreads",
          "cake bar",
          "ready soups",
          "specialty bar",
          "make up remover",
          "ready soups",
          "canned fruit, mayonnaise",
          "cookware",
          "margarine",
          "sweet spreads",
          "ready soups",
          "make up remover, cookware",
          "bathroom cleaner",
          "house keeping products",
          "processed cheese",
          "ready soups",
          "ready soups, mayonnaise",
          "cookware",
          "ready soups",
          "ready soups",
          "ready soups, male cosmetics",
          "misc. beverages",
          "canned fruit",
          "canned fruit",
          "soups",
          "mayonnaise",
          "mayonnaise",
          "sugar",
          "UHT-milk",
          "bottled beer",
          "curd cheese",
          "butter milk",
          "make up remover",
          "canned vegetables",
          "cake bar, packaged fruit/vegetables",
          "sweet spreads",
          "curd cheese",
          "soups",
          "cookware",
          "ready soups, soups",
          "ready soups",
          "bottled beer",
          "cookware",
          "soups",
          "packaged fruit/vegetables",
          "curd cheese, cookware",
          "male cosmetics",
          "cake bar, ready soups",
          "meat",
          "packaged fruit/vegetables",
          "ready soups, cookware",
          "meat, cookware",
          "curd cheese, make up remover",
          "ready soups, cookware",
          "make up remover",
          "ready soups",
          "mayonnaise",
          "canned fruit, cookware",
          "cookware",
          "specialty bar",
          "soups, sweet spreads",
          "curd cheese",
          "domestic eggs",
          "hamburger meat",
          "cookware",
          "mayonnaise",
          "sugar",
          "make up remover",
          "cookware",
          "ready soups",
          "cookware",
          "ready soups",
          "ready soups, make up remover",
          "ready soups",
          "mayonnaise",
          "sweet spreads, cookware",
          "house keeping products",
          "ready soups, cookware",
          "cookware",
          "sweet spreads",
          "mayonnaise",
          "bathroom cleaner",
          "meat",
          "fruit/vegetable juice",
          "sweet spreads, make up remover",
          "ready soups, make up remover",
          "sweet spreads",
          "meat",
          "ready soups, cookware",
          "male cosmetics",
          "ready soups",
          "make up remover, cookware",
          "sweet spreads, meat",
          "sweet spreads",
          "cake bar",
          "butter milk",
          "UHT-milk",
          "canned vegetables",
          "brandy, male cosmetics",
          "frankfurter, cookware",
          "ready soups, canned fruit",
          "sweet spreads, make up remover",
          "cookware",
          "cake bar",
          "ready soups, make up remover",
          "hamburger meat",
          "cookware",
          "ready soups, male cosmetics",
          "hamburger meat",
          "canned fruit",
          "mayonnaise, cookware",
          "cookware",
          "curd cheese",
          "ready soups, canned fruit",
          "make up remover, mayonnaise",
          "fruit/vegetable juice",
          "sweet spreads",
          "cake bar, make up remover",
          "kitchen towels",
          "cake bar",
          "ready soups",
          "fruit/vegetable juice, cookware",
          "male cosmetics",
          "ready soups",
          "ready soups",
          "curd cheese",
          "cake bar",
          "ready soups",
          "processed cheese",
          "frozen fish",
          "soups",
          "make up remover, mayonnaise",
          "male cosmetics",
          "ready soups, male cosmetics",
          "sweet spreads, mayonnaise",
          "ready soups",
          "candy",
          "bathroom cleaner",
          "mayonnaise",
          "processed cheese, sweet spreads",
          "sweet spreads, make up remover",
          "canned fruit, male cosmetics",
          "mayonnaise",
          "ready soups, male cosmetics",
          "cake bar, soups",
          "make up remover",
          "grapes",
          "cake bar",
          "sugar",
          "make up remover",
          "ready soups, cookware",
          "cake bar, ready soups",
          "specialty bar",
          "butter milk",
          "misc. beverages",
          "canned fruit",
          "cake bar",
          "soups",
          "brandy",
          "misc. beverages",
          "canned fruit",
          "ready soups",
          "cookware",
          "male cosmetics",
          "make up remover, cookware",
          "cake bar, ready soups",
          "cake bar, make up remover",
          "canned fruit",
          "packaged fruit/vegetables",
          "cake bar",
          "decalcifier",
          "hamburger meat",
          "sweet spreads, meat",
          "meat",
          "make up remover",
          "packaged fruit/vegetables",
          "kitchen towels",
          "ready soups, cookware",
          "butter milk",
          "rice, cookware",
          "ready soups, soups",
          "cookware",
          "UHT-milk",
          "frozen fish",
          "sweet spreads",
          "cookware",
          "ready soups",
          "make up remover, male cosmetics",
          "sweet spreads",
          "mayonnaise",
          "male cosmetics",
          "sugar",
          "mayonnaise",
          "brandy",
          "vinegar",
          "hamburger meat",
          "cookware",
          "ready soups",
          "curd cheese",
          "rice",
          "soups",
          "cookware",
          "make up remover",
          "meat",
          "curd cheese, cookware",
          "frozen fish",
          "cake bar",
          "ready soups, cookware",
          "male cosmetics",
          "make up remover",
          "ready soups, mayonnaise",
          "mayonnaise",
          "make up remover",
          "cake bar, ready soups",
          "brandy",
          "make up remover",
          "soups",
          "candy",
          "meat, cookware",
          "male cosmetics",
          "cookware",
          "cookware",
          "male cosmetics",
          "cookware",
          "sweet spreads",
          "potato products",
          "sweet spreads",
          "sweet spreads, cookware",
          "ready soups",
          "sweet spreads",
          "ready soups, hamburger meat",
          "male cosmetics",
          "rice",
          "hamburger meat",
          "ready soups",
          "sweet spreads",
          "ready soups",
          "male cosmetics, cookware",
          "fruit/vegetable juice",
          "meat",
          "sweet spreads",
          "sweet spreads",
          "hamburger meat",
          "cookware",
          "ready soups",
          "mayonnaise",
          "make up remover, cookware",
          "fruit/vegetable juice",
          "fruit/vegetable juice",
          "male cosmetics",
          "ready soups",
          "brandy",
          "sweet spreads, curd cheese",
          "ready soups",
          "ready soups, mayonnaise, cookware",
          "cake bar",
          "meat, mayonnaise",
          "cake bar, mayonnaise",
          "rice, cookware",
          "margarine",
          "ham",
          "cookware",
          "meat, male cosmetics",
          "curd",
          "male cosmetics, cookware",
          "sweet spreads",
          "whole milk",
          "cake bar",
          "cookware",
          "sweet spreads",
          "cookware",
          "male cosmetics",
          "sweet spreads",
          "sweet spreads, make up remover, cookware",
          "frozen fish",
          "cookware",
          "frankfurter",
          "ready soups, bathroom cleaner",
          "male cosmetics",
          "ready soups",
          "mayonnaise",
          "canned fruit",
          "soups, hamburger meat",
          "salad dressing",
          "sweet spreads",
          "cake bar, male cosmetics",
          "soups",
          "whole milk",
          "misc. beverages",
          "frankfurter",
          "frankfurter",
          "cake bar",
          "make up remover",
          "male cosmetics",
          "curd cheese",
          "brandy",
          "mayonnaise",
          "ready soups",
          "hamburger meat",
          "bathroom cleaner",
          "sugar, cookware",
          "ready soups, sweet spreads",
          "ready soups, frankfurter",
          "fruit/vegetable juice",
          "fruit/vegetable juice, sweet spreads",
          "ready soups, make up remover",
          "cookware",
          "bathroom cleaner",
          "mayonnaise",
          "cookware",
          "mayonnaise",
          "hamburger meat",
          "curd cheese",
          "sweet spreads",
          "sweet spreads",
          "curd cheese",
          "decalcifier",
          "sweet spreads, cookware",
          "male cosmetics",
          "cookware",
          "mayonnaise",
          "sweet spreads",
          "sweet spreads, frankfurter",
          "male cosmetics",
          "cookware",
          "sweet spreads",
          "fruit/vegetable juice",
          "processed cheese",
          "cake bar",
          "cake bar",
          "mayonnaise",
          "bottled water",
          "bottled beer",
          "mayonnaise",
          "ready soups",
          "sweet spreads",
          "curd cheese, make up remover",
          "hamburger meat",
          "cake bar, cookware",
          "butter milk",
          "meat, male cosmetics",
          "ready soups, meat",
          "processed cheese",
          "ready soups, make up remover",
          "soups",
          "make up remover",
          "packaged fruit/vegetables",
          "processed cheese",
          "bathroom cleaner",
          "butter",
          "mayonnaise",
          "vinegar",
          "fruit/vegetable juice",
          "ready soups",
          "shopping bags",
          "soups, cookware",
          "sweet spreads",
          "ready soups",
          "mayonnaise",
          "packaged fruit/vegetables",
          "male cosmetics",
          "packaged fruit/vegetables",
          "brandy",
          "cookware",
          "misc. beverages",
          "soups",
          "decalcifier",
          "ready soups, hamburger meat",
          "ready soups",
          "specialty bar",
          "bathroom cleaner",
          "make up remover",
          "candy",
          "cookware",
          "ready soups, sweet spreads",
          "grapes",
          "mayonnaise",
          "cake bar",
          "make up remover",
          "ready soups, soups",
          "ready soups, sweet spreads",
          "male cosmetics",
          "ready soups, sweet spreads, mayonnaise",
          "canned fruit, cookware",
          "meat",
          "hamburger meat",
          "UHT-milk",
          "fruit/vegetable juice",
          "make up remover, mayonnaise",
          "ready soups",
          "ready soups, curd cheese",
          "hamburger meat",
          "male cosmetics",
          "ready soups, hamburger meat",
          "cake bar",
          "ready soups, sweet spreads",
          "make up remover",
          "ready soups",
          "fruit/vegetable juice, make up remover",
          "ready soups",
          "kitchen towels",
          "ready soups",
          "hamburger meat",
          "bathroom cleaner",
          "sweet spreads",
          "curd cheese",
          "cookware",
          "curd cheese",
          "frozen fish",
          "male cosmetics",
          "make up remover",
          "misc. beverages",
          "canned fruit, cookware",
          "sweet spreads",
          "fruit/vegetable juice",
          "ready soups",
          "cookware",
          "frankfurter",
          "ready soups, frankfurter",
          "male cosmetics",
          "ready soups",
          "soups",
          "candy",
          "pudding powder",
          "rice",
          "ready soups",
          "male cosmetics",
          "whole milk",
          "rice",
          "meat",
          "bathroom cleaner",
          "soups",
          "curd cheese",
          "fruit/vegetable juice",
          "candy",
          "ready soups, kitchen towels",
          "sweet spreads",
          "cake bar, ready soups",
          "sweet spreads, cookware",
          "UHT-milk",
          "ready soups",
          "packaged fruit/vegetables",
          "canned fruit",
          "sweet spreads",
          "cake bar, bathroom cleaner",
          "ready soups, cookware",
          "make up remover, mayonnaise",
          "brandy",
          "canned fruit",
          "ready soups",
          "sweet spreads",
          "cookware",
          "packaged fruit/vegetables",
          "cookware",
          "ready soups",
          "curd cheese, male cosmetics",
          "salad dressing",
          "meat",
          "fruit/vegetable juice",
          "ready soups, cookware",
          "ready soups, sweet spreads",
          "fruit/vegetable juice",
          "curd cheese",
          "ready soups, packaged fruit/vegetables",
          "cookware",
          "ready soups, meat",
          "hamburger meat",
          "hamburger meat",
          "specialty bar"
         ],
         "legendgroup": "",
         "marker": {
          "color": [
           1.741890500300352,
           1.1915242249204292,
           1.1708448540706606,
           1.124409679874554,
           1.2507548309178742,
           1.2513392060613857,
           1.0551768055139348,
           1.48410210479176,
           1.1381332025021462,
           1.335676940473125,
           1.1120401944424292,
           1.1647270243566024,
           1.4441660311580782,
           1.6218861645377574,
           1.3037123226950353,
           1.131850424730712,
           1.1408571920362616,
           1.239231841805045,
           1.1999689636443578,
           1.0798305637015313,
           1.7350558238766507,
           1.882565585622805,
           1.115865533370948,
           1.0852382549799524,
           1.2326334850486957,
           1.5749453474004371,
           1.5691783200227278,
           1.4174508126603935,
           1.2245404278343035,
           1.2500094297633504,
           1.0511382477184583,
           1.141446613088404,
           1.3636235666099987,
           1.0483849483849483,
           1.2753367289190718,
           1.3746064834510336,
           1.4794642857142857,
           1.3663162234590807,
           1.1237210673743183,
           1.203993598469519,
           1.3248933901918976,
           1.2501279874976423,
           1.5831210191082803,
           1.7196725092250922,
           1.2298527286222116,
           1.9411902530459229,
           1.3596517220158184,
           1.1577966693839525,
           1.115865533370948,
           2.3127257799671592,
           1.5137604202352402,
           1.3400631097054638,
           1.5707815462397303,
           1.444433973377312,
           1.0375633826782373,
           1.3876097429201746,
           1.1646820474654758,
           1.6200253048079134,
           1.0674288021844893,
           1.2840436773511799,
           1.7324398821404807,
           2.256860153026479,
           1.3185588954980403,
           1.199706858797768,
           1.674311181682034,
           1.0072273764571946,
           1.4132196162046908,
           1.618721985978623,
           2.0583098900295935,
           1.7026716634429402,
           1.3220744680851062,
           1.717669378813957,
           1.0880426523060658,
           1.3004785604900462,
           1.2730963491987268,
           1.0483849483849483,
           1.6032725552593101,
           1.3563002551880206,
           1.0896210905975072,
           1.085686205202038,
           1.391542755520427,
           1.368503472501542,
           1.741890500300352,
           1.097381274317724,
           1.48410210479176,
           1.0790102018667247,
           1.3990993526597242,
           1.1136939255592075,
           1.2143049075408554,
           1.2536906374817447,
           1.5770554213339194,
           1.33500481000481,
           1.2352715989684075,
           1.5691859406301223,
           1.7837512664640325,
           1.3240867579908677,
           1.9388413242009133,
           1.4130886169818317,
           1.4034166461984092,
           1.2061874431301183,
           1.1526523091963639,
           1.3667014543495828,
           1.1120401944424292,
           1.187405050591911,
           1.5355717137154261,
           1.0687121369175132,
           1.1731643256823112,
           1.2731087470449172,
           1.1523990346832467,
           1.5858309990662933,
           2.0103124052168635,
           1.2187806472703497,
           1.3477521443359952,
           1.2526309507231383,
           1.1947317974578613,
           1.4132196162046908,
           1.4728888888888891,
           1.2831653742713927,
           1.1578416149068322,
           1.1397949413919075,
           1.1563628899835796,
           1.5707815462397303,
           1.3412437797216625,
           1.157841614906832,
           1.736057382333978,
           1.4444339733773117,
           1.4374149086133567,
           1.23592862470595,
           1.4264807162534434,
           1.2553030303030304,
           1.310269842838786,
           1.191524224920429,
           1.3282565130260522,
           1.3086271064296078,
           1.2707147146278115,
           1.3785917207792209,
           1.6240122511485453,
           1.1335512313773182,
           1.07700164482411,
           1.2588452355111786,
           1.1455054028758613,
           1.1886427211334072,
           1.4535275222848592,
           1.139858411807921,
           1.3099530637815477,
           1.22652886646532,
           1.6082237503994699,
           1.4951500112790437,
           1.17219264980459,
           1.2451180885164503,
           1.17175540765391,
           1.023722768662637,
           1.3639928080930617,
           1.280921459492888,
           1.3099530637815477,
           1.060412133623448,
           1.8813197088091898,
           1.2626889512518595,
           1.3069111702652074,
           1.249252255592634,
           1.3590246605707956,
           1.17175540765391,
           1.5379060554612338,
           1.3740190923064477,
           1.1693119413793174,
           1.4412551853338686,
           1.470771546276375,
           1.4374149086133567,
           1.2697830120190368,
           1.226498889711325,
           1.33666346064348,
           1.1870014001497835,
           1.6142835731414868,
           1.1997068587977677,
           1.2325731623764313,
           1.3034030461244996,
           1.2107392358140863,
           1.5612172141583904,
           1.1019118869492937,
           1.0424169982542502,
           1.0387363745794418,
           1.318857741885386,
           1.9880364733305906,
           1.1572260691253826,
           1.5785247686445292,
           1.2183823529411764,
           1.1162425149700599,
           1.6363029785416892,
           1.2957966764418376,
           1.2728129746338226,
           1.744822744822745,
           1.268759571209801,
           1.3740190923064477,
           1.5430477201113146,
           1.271905999055267,
           1.3272635035911675,
           1.0063066429972904,
           1.1403714739126212,
           1.3414134934090942,
           1.5137604202352404,
           1.1721889757757682,
           1.7325005502971602,
           1.3561741937684009,
           1.0580643576818465,
           1.7294645652854608,
           1.145414798109409,
           1.3739205256570712,
           1.17219264980459,
           1.2127870264064295,
           1.4857238925159013,
           1.3726456226020227,
           1.239231841805045,
           1.2241620654794307,
           1.5277304964539007,
           1.4803150414852542,
           1.282397454639264,
           1.235230534123523,
           1.427354517611026,
           1.7469688982604112,
           1.4214460784313723,
           1.2337071887970092,
           1.2083424487712389,
           1.3185026883859452,
           1.1017287234042552,
           1.3554450077520857,
           1.17356524072942,
           1.3389898989898992,
           1.1865877545862382,
           1.6470287986245433,
           1.1665362953692116,
           1.431922274483661,
           1.4462509641537777,
           1.2728129746338226,
           1.1172890128114008,
           1.2864906832298135,
           1.7648781786712822,
           1.530433176318463,
           1.2853501773049647,
           1.2083424487712389,
           1.051322722665408,
           1.1402649913357246,
           1.012447884219102,
           1.0670747374480831,
           1.057506894901192,
           1.229267568913806,
           1.458022774327122,
           1.1571320874499067,
           1.5750069890970086,
           1.5336327752824284,
           1.042116147187993,
           1.7069276332732422,
           1.1832990819573272,
           1.0249259722313613,
           1.500168549606557,
           1.4412551853338684,
           1.3579447055912912,
           1.1789716966318597,
           1.0150076569678408,
           1.2940940560621412,
           1.4388515406162465,
           1.1997186624052296,
           1.3415159476964436,
           1.483554970375247,
           1.4693114349602898,
           1.5299469089032818,
           1.2068910177275194,
           1.3250911649926427,
           1.1523990346832467,
           1.2949550634181373,
           1.2747972725637031,
           1.4504147850478442,
           1.188642721133407,
           1.2451180885164503,
           1.5371057513914657,
           1.2186063614635043,
           1.4665509872539142,
           1.3491288063833249,
           1.165318214067887,
           1.2949550634181373,
           1.2536906374817447,
           1.435393228010525,
           1.4462544335034,
           1.2731992482374075,
           1.0669372900335945,
           1.6711308861698186,
           1.3468396614612437,
           1.1533295432205686,
           1.6151561862447295,
           1.4324035928952523,
           1.1088274095176185,
           1.4504758511883558,
           1.479464285714286,
           1.9891956782713085,
           1.4504758511883558,
           1.3873919132870538,
           1.2421351431041634,
           1.1665362953692116,
           1.2850792569893694,
           1.4073979700174117,
           1.3396896136932817,
           1.5735588522149786,
           1.6055822087774445,
           1.2184225535344775,
           1.426808266360505,
           1.6032725552593101,
           1.1516919798512908,
           1.3554450077520854,
           1.7273268801191362,
           1.232565924052516,
           1.3976897303123317,
           1.058769029248734,
           1.6336721230662161,
           1.0799625239317283,
           1.2415735089733517,
           1.1488264339826841,
           1.1294028025579856,
           1.5640055091642828,
           1.2392535346700382,
           1.0932928219999347,
           1.3346513628791623,
           1.2229785140232903,
           1.1222524787040915,
           1.6452482269503546,
           1.3658335541228765,
           1.1397949413919075,
           1.4665509872539142,
           2.392990489609017,
           1.2903271478757952,
           1.377139443679713,
           1.11167505286954,
           1.1613687899402185,
           1.0893177017375328,
           1.0237227686626367,
           1.3170537843327739,
           1.4672991777356104,
           1.4597905585106383,
           1.3324904203422998,
           1.1017287234042554,
           1.4997063326240383,
           1.302522368390632,
           1.2927580688774718,
           1.2937563438565443,
           1.0870920124651466,
           1.3303512544802867,
           1.5281662306374808,
           1.4381656110720151,
           1.3976897303123315,
           2.6049845101031117,
           1.4672991777356104,
           1.530675534792879,
           1.2643098093810239,
           1.4802194997447675,
           1.4975544922913344,
           1.7505743031583603,
           1.4110811235719527,
           1.4408597767678208,
           1.4529576263152908,
           1.2710588641397629,
           1.2115913770212112,
           1.3366634606434797,
           1.3667014543495828,
           1.4462544335034,
           1.362019775293786,
           1.4210781126803422,
           1.3252750938479598,
           1.7648781786712822,
           1.2577924111166987,
           1.4704381586245148,
           1.4373698820263705,
           1.4388515406162465,
           1.389657659470974,
           1.578172316108235,
           1.1878136200716847,
           1.8561544544016868,
           1.0617804980445014,
           1.30841613476344,
           1.139858411807921,
           1.334651362879162,
           1.5219288174512056,
           1.1662655526291887,
           1.1930211006558311,
           1.2887419793894614,
           1.4981916817359855,
           1.23592862470595,
           1.0921220218214207,
           1.124577943929462,
           1.180384390716494,
           1.0951398404126702,
           1.2298367144977733,
           1.1693119413793174,
           1.2075363813709443,
           1.6256453650221354,
           1.2241620654794307,
           1.429915759194576,
           1.1812090105503277,
           1.2127870264064293,
           1.1450865114360123,
           1.2901854664743502,
           1.3215221601914093,
           1.110164624808576,
           1.187405050591911,
           1.2626889512518595,
           1.2959550287180739,
           1.4586936387561782,
           1.5371057513914657,
           1.2228987403344571,
           1.3234163630010483,
           1.520970627000565,
           1.1152846987695724,
           1.3785917207792209,
           1.7527502417794971,
           1.3354287556415214,
           1.5224471691537558,
           1.1865877545862382,
           1.0827349302508575,
           1.2448461011556222,
           1.3301410396423137,
           1.1408571920362616,
           1.378135396314094,
           1.4174508126603933,
           1.0670747374480831,
           1.0612776859257935,
           1.22297851402329,
           1.3722567287784677,
           1.0444374409076582,
           1.4452439658498129,
           1.1318504247307122,
           1.3277387359097357,
           1.130253686288169,
           1.4721485101060285,
           1.3771609042553192,
           1.2888177411185877,
           1.4794642857142857,
           1.058769029248734,
           1.0683936546466533,
           1.3059659172826097,
           1.5264854905573466,
           1.2099429023457704,
           1.1502740226525392,
           1.2959550287180739,
           1.3237253187377875,
           1.4218063334145017,
           1.4691887099157677,
           1.014619211634137,
           1.2357263494988044,
           1.588420853165093,
           1.207046993150956,
           1.4728888888888891,
           1.4844344904815228,
           1.1730627415120498,
           1.2553030303030301,
           1.274099554836099,
           1.7448227448227447,
           1.8553903406939025,
           1.7895617895617892,
           1.27946887514478,
           1.169536984754376,
           1.1375286041189931,
           1.6137132328749093,
           1.4593837975559503,
           1.0380760128080189,
           2.1934973524473724,
           1.4075175196432363,
           1.4061411808312443,
           1.5304331763184629,
           1.4091933494918567,
           1.2603473019517795,
           1.252650466336345,
           1.2352715989684075,
           1.1213610873491113,
           1.454018954018954,
           1.141446613088404,
           1.1772985636377604,
           1.4953327254439313,
           1.0953029006921222,
           1.5718266437422186,
           1.1647414419269428,
           1.2186063614635043,
           2.1058460421205516,
           1.4416645446057212,
           1.3270933445987576,
           1.6306380186977198,
           1.4214460784313725,
           1.5507061425897566,
           1.2864906832298135,
           2.256860153026479,
           1.313689217758985,
           1.141446613088404,
           1.2710588641397629,
           1.8161088537211292,
           1.2180375804610224,
           1.4447189278009414,
           1.566274299982165,
           1.3609590112640801,
           1.5001685496065569,
           1.5076121570167076,
           1.093292821999935,
           1.5024978614200168,
           1.6214120835006025,
           1.173164325682311,
           1.3595016787036736,
           1.0580643576818465,
           1.2107392358140863,
           1.3774546709329316,
           1.7856616187397198,
           1.1936427896087523,
           1.483554970375247,
           1.3037123226950353,
           1.38014947548512,
           1.4953327254439313,
           1.3244633696173465,
           1.1661838461893912,
           1.3170537843327739,
           1.6082237503994699,
           1.3214796940820417,
           1.4768270944741533,
           1.0249259722313613,
           1.2614867890729962,
           1.2241430260047281,
           1.0072273764571946,
           1.6214120835006023,
           1.7325005502971604,
           1.390767386091127,
           1.3780771789753823,
           1.2603473019517795,
           1.5649929713582853,
           1.2588452355111786,
           1.2458266868516505,
           1.2104707792207792,
           1.3832766208429743,
           1.2068910177275194,
           1.2916819515774027,
           1.1999689636443578,
           1.2506918935238767,
           1.4124366023100199,
           1.4715527119938885,
           1.4920534870109405,
           1.695627215095093,
           1.4003858910575326,
           1.5148828507037464,
           1.2950933564915328,
           1.2287641785075487,
           1.4958007576368177,
           1.1357734405164224,
           1.1488264339826841,
           1.380083288068079,
           1.3896576594709737,
           1.9303355079217146,
           1.2143049075408554,
           1.5787176715858273,
           1.1244096798745542,
           1.1996418183434736,
           1.2054382738078895,
           1.6611528822055137,
           1.2975449735449738,
           1.2478349273288651,
           1.1644027233613754,
           1.5413079235437583,
           1.330351254480287,
           1.4753391597741277,
           1.2957966764418376,
           1.4426756133990828,
           1.1230514345959788,
           1.17356524072942,
           1.1730627415120498,
           1.63063801869772,
           1.534992828113794,
           1.042116147187993,
           1.012447884219102,
           1.1470419396231513,
           1.3250911649926427,
           1.3132264882000704,
           1.2317547772093225,
           1.3185026883859452,
           1.2045807989251962,
           1.4857238925159013,
           1.2178098531307606,
           1.1152846987695721,
           1.2518029234447143,
           1.1450865114360123,
           1.1403714739126212,
           1.2425429095150808,
           1.4416645446057212,
           1.3633945656333715,
           1.3135393207819115,
           1.4264807162534434,
           1.5749453474004371,
           1.3135393207819115,
           1.594035594035594,
           1.3248933901918976,
           1.5584904181526043,
           1.2070469931509562,
           1.1283039196672915,
           1.258348275498365,
           1.918299842884313,
           1.3170537843327739,
           1.1516919798512906,
           1.1213610873491113,
           1.4373698820263703,
           1.1950163097315423,
           1.0953029006921222,
           1.1066206114914667,
           1.2794688751447798,
           1.1450170681482097,
           1.1597324830857765,
           1.263406155297523,
           1.2674481104771356,
           1.2088236701109836,
           1.4313862607980252,
           1.5281662306374808,
           1.2591185410334345,
           1.2099429023457704,
           1.274099554836099,
           1.0150076569678408,
           1.29858934169279,
           2.6050447367812635,
           1.4426756133990828,
           1.1714583894424992,
           1.15225033803361,
           1.5691859406301223,
           1.2649293868628335,
           1.1533295432205684,
           1.5030271068452696,
           1.470771546276375,
           1.4338287692151077,
           1.3596517220158184,
           1.2950933564915328,
           1.4908272986614002,
           1.2157006603081437,
           1.448949719608402,
           1.4890392375422317,
           1.1294028025579859,
           1.4858469417238735,
           1.6956272150950933,
           1.52592639102544,
           1.28123716322339,
           1.6766333768428294,
           1.310269842838786,
           1.4332980126721881,
           1.2674481104771356,
           1.3350048100048097,
           1.2704153208704447,
           1.4593837975559505,
           1.1100160661265874,
           1.222900791527519,
           1.5259263910254397,
           1.3407817751773936,
           1.096020284422886,
           1.2507548309178742,
           1.1337360569694896,
           1.0893177017375328,
           1.0617804980445016,
           1.4936578455991243,
           1.2928280757580393,
           1.3499531549146606,
           1.172237802875262,
           1.258348275498365,
           1.128376772303561,
           1.402837917684513,
           1.368264392979222,
           1.1930211006558311,
           1.1517153303232879,
           1.424040001562561,
           1.2864906832298135,
           1.3056882541246,
           2.6049845101031117,
           1.238350529472257,
           1.2355682594917046,
           1.7069276332732422,
           1.3004785604900462,
           1.313734899538901,
           1.2448461011556224,
           1.506075392269422,
           1.160956470388053,
           1.6895582439992287,
           1.1176054484437716,
           1.1947317974578613,
           1.019099069148936,
           1.060412133623448,
           1.2579020013802622,
           1.4981916817359855,
           1.0790102018667247,
           1.376667103939831,
           1.0214943284563536,
           1.423845327604726,
           1.5750069890970086,
           1.1553442674906902,
           1.057506894901192,
           1.235230534123523,
           1.2091122261576808,
           1.1455054028758613,
           1.5662742999821653,
           1.1876894589872624,
           1.1172890128114008,
           1.349128806383325,
           1.484434490481523,
           1.0637552160598251,
           1.3771609042553192,
           1.2493253968253968,
           1.1876894589872624,
           1.3096089850249584,
           1.432403592895252,
           1.1836318179498952,
           1.7469688982604115,
           1.1571320874499067,
           1.3389898989898992,
           1.4558939438967349,
           1.2707147146278115,
           1.2325731623764313,
           1.6800467957883793,
           1.202685538014879,
           1.1136939255592075,
           1.0870920124651466,
           1.2077259475218658,
           1.2328869047619047,
           1.4689716312056738,
           1.3588650155814332,
           1.5785247686445292,
           1.2501886223027008,
           1.1363742807440118,
           1.4802194997447675,
           1.2864906832298135,
           1.2743797374745798,
           1.2129022315967908,
           1.1439212266550396,
           1.1038555001249082,
           1.402454506982649,
           1.3208449581506574,
           1.2840436773511799,
           1.2054382738078895,
           1.0402664667003818,
           1.2657179119561897,
           1.6440589077404997,
           1.2543738644774913,
           1.2227493147796753,
           1.6291156027071523,
           1.5831210191082803,
           1.2704153208704447,
           2.392990489609017,
           1.2125544370671806,
           1.261486789072996,
           2.6050447367812635,
           1.0380760128080189,
           1.5759215531942803,
           1.0852382549799524,
           1.2317547772093225,
           1.5940355940355937,
           1.0870028700287004,
           1.0376787391712765,
           1.160956470388053,
           1.2579020013802622,
           1.3633945656333715,
           1.2577924111166987,
           1.8813197088091898,
           1.4796530169664497,
           1.3220744680851062,
           1.0799625239317283,
           1.1738280772894936,
           1.9303355079217148,
           1.021268908500656,
           1.250188622302701,
           1.316409071211902,
           1.2187806472703495,
           1.1597324830857765,
           1.2903271478757952,
           1.4641799603305161,
           1.3576859015688802,
           1.363623566609999,
           1.4558939438967347,
           1.271905999055267,
           1.1934969388280086,
           1.2157006603081437,
           1.036921151439299,
           1.6218861645377574,
           1.3301410396423137,
           1.5264854905573466,
           1.0448608233492478,
           2.277472343278579,
           1.3724306964164978,
           1.0190651906519066,
           1.2609312656822014,
           1.3288601368691189,
           1.4693114349602898,
           1.0963046566385801,
           1.4936578455991243,
           1.752750241779497,
           1.2184225535344777,
           1.280278153370678,
           1.3563002551880206,
           1.794205454236082,
           1.1549599214269872,
           1.3288601368691189,
           1.4535275222848592,
           1.588420853165093,
           1.3234163630010483,
           1.2543738644774913,
           1.2609019950575613,
           1.1363742807440118,
           1.213805083770236,
           1.014619211634137,
           1.4689716312056738,
           1.2429085342518178,
           1.169536984754376,
           1.2864906832298135,
           1.8161088537211292,
           1.390767386091127,
           1.3910102094984136,
           1.173660219574332,
           1.1414466130884042,
           1.1524812370600415,
           1.1176054484437719,
           1.5368073679442662,
           1.1017287234042552,
           1.70267166344294,
           1.5642241288887957,
           1.1837222212110732,
           1.0953275580141253,
           1.0046308395095283,
           1.213805083770236,
           1.1123371583209214,
           1.4218063334145015,
           1.036921151439299,
           1.2062188019966722,
           1.2328869047619047,
           1.2531619090528754,
           1.2421351431041634,
           1.368264392979222,
           1.4447189278009414,
           1.4654999927505765,
           1.6142835731414868,
           1.4749387155341107,
           1.6064442543484458,
           1.6800467957883791,
           1.5400326426984632,
           1.249252255592634,
           1.445243965849813,
           2.193497352447372,
           1.124577943929462,
           1.3009729339741756,
           1.1832990819573272,
           1.6773946643951458,
           1.110164624808576,
           1.0612776859257935,
           1.1394357342135248,
           1.4275921486365,
           1.3015240877521774,
           1.2731992482374075,
           1.2183823529411766,
           1.3264162561576358,
           1.3722567287784677,
           1.1402649913357246,
           1.268759571209801,
           1.3955230496453899,
           1.529354824186214,
           1.5189889994761654,
           1.141446613088404,
           1.3249548046168822,
           1.3661671274067608,
           1.482442406620443,
           1.1725476695928245,
           1.1000436982134152,
           1.2508897180941698,
           1.2591185410334345,
           1.092505357034415,
           1.1517153303232879,
           1.2180375804610224,
           1.3771609042553192,
           1.3955230496453899,
           1.2887419793894612,
           2.027102056180304,
           1.2635809607150672,
           1.6752553561605137,
           1.3069111702652074,
           1.0683936546466533,
           1.6045912191509661,
           1.1088274095176185,
           1.1778908203597644,
           1.07700164482411,
           1.238923689945382,
           1.2425429095150808,
           1.3330763364536107,
           1.4958007576368177,
           1.520970627000565,
           1.0687121369175134,
           1.30596591728261,
           1.2526309507231383,
           1.1978457571777974,
           1.0190990691489363,
           1.2178098531307606,
           1.2635809607150672,
           1.0402664667003818,
           1.540032642698463,
           1.193452703644615,
           1.1302536862881691,
           1.3215221601914093,
           1.1321012537150275,
           1.1721889757757682,
           1.1677008906724087,
           1.4916729182295574,
           1.3620197752937862,
           1.172237802875262,
           1.2860413675346347,
           1.2937563438565443,
           1.4338287692151075,
           1.256950139412826,
           1.2896580205537111,
           1.2543284161490684,
           1.5966412581516598,
           1.5812616227855538,
           1.29858934169279,
           1.918299842884313,
           2.2774723432785784,
           1.6200253048079134,
           2.1024779817883266,
           1.4484932137106048,
           1.1222524787040917,
           1.1891135470675829,
           1.2478349273288651,
           1.0168058909695554,
           1.3303894018466478,
           1.5232307240529601,
           1.3576859015688802,
           1.1075023595212652,
           1.232565924052516,
           1.3272635035911675,
           1.0387363745794418,
           1.2619080587094986,
           1.3270346320346322,
           1.355047317763395,
           1.4849484704061264,
           1.1137113528045948,
           1.0293614327910356,
           1.2640470450564547,
           1.139289966628096,
           1.6743111816820337,
           1.4597905585106383,
           1.1248707851974264,
           1.409193349491857,
           1.0637552160598254,
           1.2740856192851207,
           1.3773017902813298,
           1.2091122261576808,
           1.2860413675346345,
           1.5413079235437581,
           1.736057382333978,
           1.48410210479176,
           1.2219403557417186,
           1.284430371415826,
           1.3990993526597242,
           1.4529576263152908,
           1.4484932137106048,
           1.3277387359097357,
           1.287240240823461,
           1.321371610845295,
           1.0784951835459515,
           1.43733601773418,
           1.288591647873085,
           1.2619080587094986,
           1.1486255226046833,
           1.4313862607980254,
           1.1557105492589363,
           1.1870014001497835,
           1.0190651906519066,
           1.4851813331303956,
           1.291681951577403,
           1.1936427896087525,
           1.5735588522149788,
           1.3726456226020227,
           1.2697830120190368,
           1.578172316108235,
           1.4241178860518173,
           1.0784951835459515,
           1.7505743031583603,
           1.1679044180849238,
           1.2853501773049647,
           1.453795705292711,
           1.4075175196432363,
           1.3400631097054638,
           1.4975544922913342,
           1.1708448540706606,
           1.448949719608402,
           1.882565585622805,
           1.2927580688774718,
           1.1321012537150275,
           1.0066001746037507,
           1.3296441251504576,
           1.3296441251504574,
           1.5997704750801514,
           1.4130886169818317,
           1.5693314391493394,
           1.373920525657071,
           1.810759335581366,
           1.4381656110720151,
           1.092505357034415,
           1.426808266360505,
           1.8523475738715331,
           1.127786285519823,
           1.0063066429972904,
           1.1439212266550396,
           1.4851813331303956
          ],
          "coloraxis": "coloraxis",
          "size": [
           0.014785757392878697,
           0.018406759203379603,
           0.020820760410380206,
           0.07815328907664454,
           0.01056125528062764,
           0.027459263729631866,
           0.010259505129752565,
           0.010863005431502716,
           0.012673506336753168,
           0.010863005431502716,
           0.011164755582377792,
           0.015992757996378996,
           0.015691007845503924,
           0.012070006035003017,
           0.021424260712130355,
           0.011768255884127943,
           0.010863005431502716,
           0.01780325890162945,
           0.012673506336753168,
           0.01056125528062764,
           0.012070006035003017,
           0.013277006638503319,
           0.011164755582377792,
           0.012371756185878094,
           0.011466505733252867,
           0.01056125528062764,
           0.013578756789378395,
           0.012673506336753168,
           0.016898008449004225,
           0.015087507543753771,
           0.019915509957754977,
           0.02172601086300543,
           0.011466505733252867,
           0.011466505733252867,
           0.010259505129752565,
           0.011768255884127943,
           0.013277006638503319,
           0.01448400724200362,
           0.01388050694025347,
           0.02383826191913096,
           0.011768255884127943,
           0.012673506336753168,
           0.010863005431502716,
           0.013578756789378395,
           0.011466505733252867,
           0.01056125528062764,
           0.010863005431502716,
           0.013578756789378395,
           0.011164755582377792,
           0.010259505129752565,
           0.010863005431502716,
           0.016898008449004225,
           0.010863005431502716,
           0.011164755582377792,
           0.01388050694025347,
           0.028062764031382016,
           0.015389257694628847,
           0.010259505129752565,
           0.020217260108630054,
           0.02323476161738081,
           0.013277006638503319,
           0.010259505129752565,
           0.012070006035003017,
           0.012371756185878094,
           0.016898008449004225,
           0.01780325890162945,
           0.011768255884127943,
           0.010259505129752565,
           0.010259505129752565,
           0.010259505129752565,
           0.011768255884127943,
           0.015992757996378996,
           0.047978273989136996,
           0.012371756185878094,
           0.026554013277006638,
           0.011466505733252867,
           0.013578756789378395,
           0.010259505129752565,
           0.06970428485214243,
           0.011466505733252867,
           0.010259505129752565,
           0.02323476161738081,
           0.014785757392878697,
           0.01448400724200362,
           0.01931200965600483,
           0.018105009052504527,
           0.011768255884127943,
           0.012371756185878094,
           0.013578756789378395,
           0.02595051297525649,
           0.015691007845503924,
           0.020217260108630054,
           0.011164755582377792,
           0.015691007845503924,
           0.010259505129752565,
           0.014785757392878697,
           0.012371756185878094,
           0.01388050694025347,
           0.015087507543753771,
           0.01448400724200362,
           0.011164755582377792,
           0.014785757392878697,
           0.011164755582377792,
           0.015087507543753771,
           0.011768255884127943,
           0.016898008449004225,
           0.018708509354254676,
           0.011768255884127943,
           0.015087507543753771,
           0.012371756185878094,
           0.013277006638503319,
           0.013578756789378395,
           0.013277006638503319,
           0.011466505733252867,
           0.0503922751961376,
           0.011768255884127943,
           0.010259505129752565,
           0.011164755582377792,
           0.016294508147254073,
           0.011164755582377792,
           0.015389257694628847,
           0.010863005431502716,
           0.013277006638503319,
           0.016294508147254073,
           0.011768255884127943,
           0.011164755582377792,
           0.010863005431502716,
           0.015691007845503924,
           0.01056125528062764,
           0.015389257694628847,
           0.015691007845503924,
           0.018406759203379603,
           0.014785757392878697,
           0.012070006035003017,
           0.015992757996378996,
           0.012371756185878094,
           0.01448400724200362,
           0.019010259505129752,
           0.029571514785757393,
           0.01056125528062764,
           0.019613759806879905,
           0.06155703077851539,
           0.010259505129752565,
           0.03108026554013277,
           0.047978273989136996,
           0.03198551599275799,
           0.012371756185878094,
           0.018105009052504527,
           0.018406759203379603,
           0.04767652383826192,
           0.010259505129752565,
           0.013277006638503319,
           0.0171997585998793,
           0.030175015087507542,
           0.047978273989136996,
           0.01659625829812915,
           0.010259505129752565,
           0.015691007845503924,
           0.01448400724200362,
           0.018406759203379603,
           0.011164755582377792,
           0.010259505129752565,
           0.012371756185878094,
           0.024743512371756187,
           0.05190102595051298,
           0.015691007845503924,
           0.01388050694025347,
           0.010863005431502716,
           0.0171997585998793,
           0.013277006638503319,
           0.027459263729631866,
           0.013277006638503319,
           0.011768255884127943,
           0.012371756185878094,
           0.022933011466505733,
           0.012070006035003017,
           0.024743512371756187,
           0.011164755582377792,
           0.016898008449004225,
           0.024140012070006035,
           0.028364514182257092,
           0.012371756185878094,
           0.01056125528062764,
           0.014182257091128546,
           0.014785757392878697,
           0.014182257091128546,
           0.019010259505129752,
           0.011164755582377792,
           0.012673506336753168,
           0.026554013277006638,
           0.025347012673506336,
           0.010259505129752565,
           0.024743512371756187,
           0.012975256487628244,
           0.011768255884127943,
           0.018105009052504527,
           0.023536511768255886,
           0.025648762824381412,
           0.015992757996378996,
           0.010863005431502716,
           0.011164755582377792,
           0.011466505733252867,
           0.010863005431502716,
           0.03138201569100785,
           0.012070006035003017,
           0.04828002414001207,
           0.03198551599275799,
           0.018406759203379603,
           0.015389257694628847,
           0.01448400724200362,
           0.011466505733252867,
           0.01780325890162945,
           0.011466505733252867,
           0.015691007845503924,
           0.02625226312613156,
           0.010863005431502716,
           0.012070006035003017,
           0.013578756789378395,
           0.010259505129752565,
           0.01056125528062764,
           0.014182257091128546,
           0.01659625829812915,
           0.01056125528062764,
           0.014785757392878697,
           0.012975256487628244,
           0.057332528666264336,
           0.016898008449004225,
           0.010259505129752565,
           0.011164755582377792,
           0.010863005431502716,
           0.01056125528062764,
           0.012975256487628244,
           0.026554013277006638,
           0.011164755582377792,
           0.010259505129752565,
           0.01448400724200362,
           0.01056125528062764,
           0.014785757392878697,
           0.01659625829812915,
           0.012371756185878094,
           0.05823777911888956,
           0.030778515389257695,
           0.02987326493663247,
           0.016898008449004225,
           0.02112251056125528,
           0.010259505129752565,
           0.026554013277006638,
           0.010259505129752565,
           0.010259505129752565,
           0.0356065178032589,
           0.012673506336753168,
           0.013578756789378395,
           0.014182257091128546,
           0.014182257091128546,
           0.015691007845503924,
           0.015992757996378996,
           0.043753771876885936,
           0.028062764031382016,
           0.011164755582377792,
           0.018708509354254676,
           0.01056125528062764,
           0.015992757996378996,
           0.015389257694628847,
           0.01388050694025347,
           0.010259505129752565,
           0.01780325890162945,
           0.015087507543753771,
           0.015087507543753771,
           0.011164755582377792,
           0.018708509354254676,
           0.013277006638503319,
           0.06155703077851539,
           0.04767652383826192,
           0.01448400724200362,
           0.012070006035003017,
           0.022933011466505733,
           0.02112251056125528,
           0.03409776704888352,
           0.011164755582377792,
           0.02595051297525649,
           0.012070006035003017,
           0.01659625829812915,
           0.011164755582377792,
           0.01388050694025347,
           0.010259505129752565,
           0.012070006035003017,
           0.07905853952926976,
           0.012975256487628244,
           0.01931200965600483,
           0.01056125528062764,
           0.012975256487628244,
           0.013277006638503319,
           0.012070006035003017,
           0.012975256487628244,
           0.01659625829812915,
           0.022631261315630657,
           0.010863005431502716,
           0.012371756185878094,
           0.02112251056125528,
           0.012371756185878094,
           0.011164755582377792,
           0.012371756185878094,
           0.023536511768255886,
           0.019010259505129752,
           0.013578756789378395,
           0.027459263729631866,
           0.012975256487628244,
           0.012673506336753168,
           0.012070006035003017,
           0.010863005431502716,
           0.012070006035003017,
           0.010259505129752565,
           0.01448400724200362,
           0.018708509354254676,
           0.012371756185878094,
           0.010259505129752565,
           0.014785757392878697,
           0.012673506336753168,
           0.04888352444176222,
           0.013277006638503319,
           0.04073627036813519,
           0.029269764634882317,
           0.016898008449004225,
           0.012673506336753168,
           0.011164755582377792,
           0.022933011466505733,
           0.012371756185878094,
           0.026554013277006638,
           0.01448400724200362,
           0.02776101388050694,
           0.010259505129752565,
           0.03892576946288473,
           0.013277006638503319,
           0.013578756789378395,
           0.02112251056125528,
           0.015992757996378996,
           0.02504526252263126,
           0.014785757392878697,
           0.014182257091128546,
           0.015389257694628847,
           0.026554013277006638,
           0.036210018105009054,
           0.011466505733252867,
           0.012673506336753168,
           0.014785757392878697,
           0.011164755582377792,
           0.010863005431502716,
           0.010259505129752565,
           0.02112251056125528,
           0.01056125528062764,
           0.0171997585998793,
           0.01056125528062764,
           0.010259505129752565,
           0.012975256487628244,
           0.019613759806879905,
           0.01931200965600483,
           0.011164755582377792,
           0.012070006035003017,
           0.0171997585998793,
           0.027459263729631866,
           0.014785757392878697,
           0.01659625829812915,
           0.02595051297525649,
           0.018708509354254676,
           0.028062764031382016,
           0.01448400724200362,
           0.012070006035003017,
           0.012070006035003017,
           0.02112251056125528,
           0.018708509354254676,
           0.015087507543753771,
           0.011768255884127943,
           0.012070006035003017,
           0.010259505129752565,
           0.06125528062764032,
           0.012673506336753168,
           0.03108026554013277,
           0.013277006638503319,
           0.012070006035003017,
           0.018708509354254676,
           0.03047676523838262,
           0.012673506336753168,
           0.013277006638503319,
           0.015691007845503924,
           0.011164755582377792,
           0.018105009052504527,
           0.015087507543753771,
           0.012371756185878094,
           0.010863005431502716,
           0.05190102595051298,
           0.019613759806879905,
           0.012070006035003017,
           0.0171997585998793,
           0.019010259505129752,
           0.01056125528062764,
           0.015389257694628847,
           0.020217260108630054,
           0.018406759203379603,
           0.027459263729631866,
           0.012673506336753168,
           0.015087507543753771,
           0.015691007845503924,
           0.01448400724200362,
           0.01448400724200362,
           0.01448400724200362,
           0.026554013277006638,
           0.016898008449004225,
           0.011768255884127943,
           0.0171997585998793,
           0.012371756185878094,
           0.01056125528062764,
           0.02112251056125528,
           0.02625226312613156,
           0.010259505129752565,
           0.04284852142426071,
           0.010259505129752565,
           0.012975256487628244,
           0.010863005431502716,
           0.019010259505129752,
           0.014785757392878697,
           0.02987326493663247,
           0.02595051297525649,
           0.04073627036813519,
           0.012070006035003017,
           0.014785757392878697,
           0.015691007845503924,
           0.011768255884127943,
           0.011164755582377792,
           0.014182257091128546,
           0.022933011466505733,
           0.018105009052504527,
           0.012975256487628244,
           0.01388050694025347,
           0.012070006035003017,
           0.010259505129752565,
           0.012371756185878094,
           0.012673506336753168,
           0.010863005431502716,
           0.011466505733252867,
           0.01448400724200362,
           0.011164755582377792,
           0.011164755582377792,
           0.011768255884127943,
           0.018105009052504527,
           0.010259505129752565,
           0.012975256487628244,
           0.01388050694025347,
           0.010259505129752565,
           0.01931200965600483,
           0.02172601086300543,
           0.015389257694628847,
           0.0171997585998793,
           0.025347012673506336,
           0.010259505129752565,
           0.012070006035003017,
           0.015389257694628847,
           0.02715751357875679,
           0.012673506336753168,
           0.011164755582377792,
           0.016898008449004225,
           0.02444176222088111,
           0.012371756185878094,
           0.012070006035003017,
           0.02625226312613156,
           0.01056125528062764,
           0.02112251056125528,
           0.015992757996378996,
           0.02504526252263126,
           0.011164755582377792,
           0.026855763427881714,
           0.013578756789378395,
           0.02172601086300543,
           0.022329511164755584,
           0.01448400724200362,
           0.010259505129752565,
           0.016898008449004225,
           0.022631261315630657,
           0.012070006035003017,
           0.01056125528062764,
           0.012371756185878094,
           0.027459263729631866,
           0.012673506336753168,
           0.01056125528062764,
           0.013277006638503319,
           0.014182257091128546,
           0.010259505129752565,
           0.012673506336753168,
           0.01448400724200362,
           0.012070006035003017,
           0.012371756185878094,
           0.03409776704888352,
           0.011768255884127943,
           0.015992757996378996,
           0.019010259505129752,
           0.014182257091128546,
           0.022027761013880508,
           0.04888352444176222,
           0.015992757996378996,
           0.011768255884127943,
           0.018708509354254676,
           0.011466505733252867,
           0.03138201569100785,
           0.024743512371756187,
           0.015992757996378996,
           0.011466505733252867,
           0.024140012070006035,
           0.015389257694628847,
           0.021424260712130355,
           0.011164755582377792,
           0.01448400724200362,
           0.01659625829812915,
           0.02987326493663247,
           0.013578756789378395,
           0.012371756185878094,
           0.011768255884127943,
           0.016898008449004225,
           0.014182257091128546,
           0.010259505129752565,
           0.01056125528062764,
           0.01780325890162945,
           0.011768255884127943,
           0.011466505733252867,
           0.012673506336753168,
           0.01056125528062764,
           0.015992757996378996,
           0.012975256487628244,
           0.01056125528062764,
           0.011164755582377792,
           0.010863005431502716,
           0.01388050694025347,
           0.01780325890162945,
           0.030778515389257695,
           0.012673506336753168,
           0.018105009052504527,
           0.012070006035003017,
           0.028062764031382016,
           0.012070006035003017,
           0.012371756185878094,
           0.015992757996378996,
           0.012975256487628244,
           0.02172601086300543,
           0.08056729028364513,
           0.016898008449004225,
           0.02383826191913096,
           0.012371756185878094,
           0.01388050694025347,
           0.015087507543753771,
           0.01056125528062764,
           0.013578756789378395,
           0.028062764031382016,
           0.07815328907664454,
           0.0171997585998793,
           0.015992757996378996,
           0.012070006035003017,
           0.011164755582377792,
           0.012070006035003017,
           0.015992757996378996,
           0.012371756185878094,
           0.012673506336753168,
           0.022933011466505733,
           0.012673506336753168,
           0.017501508750754374,
           0.013578756789378395,
           0.057332528666264336,
           0.02172601086300543,
           0.011768255884127943,
           0.028062764031382016,
           0.0356065178032589,
           0.030778515389257695,
           0.012371756185878094,
           0.015087507543753771,
           0.019010259505129752,
           0.010259505129752565,
           0.01056125528062764,
           0.02383826191913096,
           0.01448400724200362,
           0.018406759203379603,
           0.0171997585998793,
           0.022933011466505733,
           0.020217260108630054,
           0.025648762824381412,
           0.013578756789378395,
           0.012371756185878094,
           0.012975256487628244,
           0.026554013277006638,
           0.01056125528062764,
           0.013578756789378395,
           0.026554013277006638,
           0.012070006035003017,
           0.011768255884127943,
           0.010863005431502716,
           0.01388050694025347,
           0.02383826191913096,
           0.010863005431502716,
           0.014785757392878697,
           0.02987326493663247,
           0.027459263729631866,
           0.026855763427881714,
           0.02112251056125528,
           0.02625226312613156,
           0.010259505129752565,
           0.10259505129752565,
           0.015389257694628847,
           0.015087507543753771,
           0.03530476765238383,
           0.01780325890162945,
           0.011164755582377792,
           0.018406759203379603,
           0.012673506336753168,
           0.014785757392878697,
           0.011466505733252867,
           0.010863005431502716,
           0.0171997585998793,
           0.028062764031382016,
           0.025347012673506336,
           0.010259505129752565,
           0.017501508750754374,
           0.019010259505129752,
           0.057030778515389256,
           0.015691007845503924,
           0.013277006638503319,
           0.07905853952926976,
           0.012975256487628244,
           0.01388050694025347,
           0.02051901025950513,
           0.010863005431502716,
           0.02172601086300543,
           0.012371756185878094,
           0.01448400724200362,
           0.01388050694025347,
           0.015691007845503924,
           0.010259505129752565,
           0.013578756789378395,
           0.012371756185878094,
           0.013277006638503319,
           0.01448400724200362,
           0.015087507543753771,
           0.015691007845503924,
           0.012070006035003017,
           0.011164755582377792,
           0.020217260108630054,
           0.014182257091128546,
           0.016898008449004225,
           0.01780325890162945,
           0.012070006035003017,
           0.013277006638503319,
           0.011768255884127943,
           0.01448400724200362,
           0.01056125528062764,
           0.011466505733252867,
           0.03892576946288473,
           0.06125528062764032,
           0.014785757392878697,
           0.015389257694628847,
           0.018105009052504527,
           0.029571514785757393,
           0.010863005431502716,
           0.015992757996378996,
           0.01448400724200362,
           0.012975256487628244,
           0.03047676523838262,
           0.03711526855763428,
           0.013277006638503319,
           0.010259505129752565,
           0.01448400724200362,
           0.010259505129752565,
           0.036511768255884126,
           0.01448400724200362,
           0.012673506336753168,
           0.012371756185878094,
           0.011466505733252867,
           0.010259505129752565,
           0.011466505733252867,
           0.01056125528062764,
           0.011164755582377792,
           0.012371756185878094,
           0.0503922751961376,
           0.011164755582377792,
           0.01659625829812915,
           0.01659625829812915,
           0.013277006638503319,
           0.018105009052504527,
           0.011466505733252867,
           0.013578756789378395,
           0.010259505129752565,
           0.010259505129752565,
           0.026554013277006638,
           0.016898008449004225,
           0.012070006035003017,
           0.026855763427881714,
           0.019613759806879905,
           0.015992757996378996,
           0.05069402534701267,
           0.011164755582377792,
           0.02112251056125528,
           0.01931200965600483,
           0.011164755582377792,
           0.013578756789378395,
           0.011466505733252867,
           0.05069402534701267,
           0.011466505733252867,
           0.01931200965600483,
           0.03379601689800845,
           0.010259505129752565,
           0.026554013277006638,
           0.016898008449004225,
           0.010259505129752565,
           0.015992757996378996,
           0.022933011466505733,
           0.011768255884127943,
           0.012673506336753168,
           0.012371756185878094,
           0.011466505733252867,
           0.013277006638503319,
           0.01659625829812915,
           0.010863005431502716,
           0.01056125528062764,
           0.014785757392878697,
           0.012070006035003017,
           0.012371756185878094,
           0.01056125528062764,
           0.010259505129752565,
           0.015691007845503924,
           0.011466505733252867,
           0.0171997585998793,
           0.013277006638503319,
           0.018105009052504527,
           0.020217260108630054,
           0.02323476161738081,
           0.015992757996378996,
           0.010863005431502716,
           0.019613759806879905,
           0.01056125528062764,
           0.013578756789378395,
           0.01056125528062764,
           0.012975256487628244,
           0.010863005431502716,
           0.014182257091128546,
           0.012371756185878094,
           0.012371756185878094,
           0.010259505129752565,
           0.010259505129752565,
           0.02444176222088111,
           0.017501508750754374,
           0.012371756185878094,
           0.010259505129752565,
           0.012070006035003017,
           0.012070006035003017,
           0.0171997585998793,
           0.01056125528062764,
           0.01659625829812915,
           0.012975256487628244,
           0.012070006035003017,
           0.010259505129752565,
           0.019010259505129752,
           0.011768255884127943,
           0.01448400724200362,
           0.0700060350030175,
           0.01056125528062764,
           0.017501508750754374,
           0.012070006035003017,
           0.013277006638503319,
           0.013578756789378395,
           0.03530476765238383,
           0.026554013277006638,
           0.014182257091128546,
           0.018406759203379603,
           0.011466505733252867,
           0.010259505129752565,
           0.011768255884127943,
           0.01056125528062764,
           0.01448400724200362,
           0.022933011466505733,
           0.012070006035003017,
           0.012975256487628244,
           0.012673506336753168,
           0.01056125528062764,
           0.012371756185878094,
           0.014785757392878697,
           0.017501508750754374,
           0.011164755582377792,
           0.022631261315630657,
           0.01388050694025347,
           0.010259505129752565,
           0.014785757392878697,
           0.01056125528062764,
           0.023536511768255886,
           0.012673506336753168,
           0.010259505129752565,
           0.01056125528062764,
           0.013277006638503319,
           0.022631261315630657,
           0.010259505129752565,
           0.012975256487628244,
           0.016898008449004225,
           0.013578756789378395,
           0.03047676523838262,
           0.012371756185878094,
           0.01056125528062764,
           0.018105009052504527,
           0.019010259505129752,
           0.014785757392878697,
           0.02715751357875679,
           0.014182257091128546,
           0.012371756185878094,
           0.012673506336753168,
           0.010259505129752565,
           0.018708509354254676,
           0.013578756789378395,
           0.012975256487628244,
           0.012371756185878094,
           0.012975256487628244,
           0.03168376584188292,
           0.010259505129752565,
           0.013578756789378395,
           0.09474954737477369,
           0.011466505733252867,
           0.017501508750754374,
           0.01056125528062764,
           0.01931200965600483,
           0.011164755582377792,
           0.022933011466505733,
           0.01056125528062764,
           0.01659625829812915,
           0.014182257091128546,
           0.022631261315630657,
           0.012975256487628244,
           0.011768255884127943,
           0.018406759203379603,
           0.011768255884127943,
           0.019010259505129752,
           0.010259505129752565,
           0.011768255884127943,
           0.012371756185878094,
           0.018406759203379603,
           0.015691007845503924,
           0.012371756185878094,
           0.018105009052504527,
           0.011164755582377792,
           0.013578756789378395,
           0.012371756185878094,
           0.012673506336753168,
           0.02595051297525649,
           0.01056125528062764,
           0.01388050694025347,
           0.0171997585998793,
           0.011164755582377792,
           0.014182257091128546,
           0.011768255884127943,
           0.012070006035003017,
           0.05823777911888956,
           0.010259505129752565,
           0.011466505733252867,
           0.012371756185878094,
           0.014785757392878697,
           0.013578756789378395,
           0.01388050694025347,
           0.010259505129752565,
           0.012070006035003017,
           0.022329511164755584,
           0.02383826191913096,
           0.01056125528062764,
           0.011466505733252867,
           0.011466505733252867,
           0.03711526855763428,
           0.03409776704888352,
           0.018105009052504527,
           0.011466505733252867,
           0.012673506336753168,
           0.011768255884127943,
           0.018406759203379603,
           0.010259505129752565,
           0.01448400724200362,
           0.010259505129752565,
           0.010259505129752565,
           0.01056125528062764,
           0.04254677127338564,
           0.029571514785757393,
           0.012371756185878094,
           0.013578756789378395,
           0.01448400724200362,
           0.016898008449004225,
           0.011768255884127943,
           0.016898008449004225,
           0.012371756185878094,
           0.011466505733252867,
           0.018105009052504527,
           0.011164755582377792,
           0.018406759203379603,
           0.018406759203379603,
           0.010863005431502716,
           0.012371756185878094,
           0.028062764031382016,
           0.014182257091128546,
           0.027459263729631866,
           0.012070006035003017,
           0.011164755582377792,
           0.010863005431502716,
           0.010863005431502716,
           0.02595051297525649,
           0.029571514785757393,
           0.012070006035003017,
           0.036210018105009054,
           0.02051901025950513,
           0.011164755582377792,
           0.014785757392878697,
           0.011768255884127943,
           0.025347012673506336,
           0.011768255884127943,
           0.025347012673506336,
           0.014785757392878697,
           0.012371756185878094,
           0.010259505129752565,
           0.010259505129752565,
           0.011466505733252867,
           0.029269764634882317,
           0.018105009052504527,
           0.012070006035003017,
           0.028062764031382016,
           0.01448400724200362,
           0.010863005431502716,
           0.018406759203379603,
           0.027459263729631866,
           0.012070006035003017,
           0.018105009052504527,
           0.028364514182257092,
           0.02323476161738081,
           0.011164755582377792,
           0.022933011466505733,
           0.013277006638503319,
           0.013277006638503319,
           0.015992757996378996,
           0.03108026554013277,
           0.012371756185878094,
           0.016898008449004225,
           0.015992757996378996,
           0.05974652987326494,
           0.02112251056125528,
           0.011164755582377792,
           0.011164755582377792,
           0.027459263729631866,
           0.026855763427881714,
           0.012070006035003017,
           0.012371756185878094,
           0.011768255884127943,
           0.010863005431502716,
           0.045262522631261314,
           0.03198551599275799,
           0.011768255884127943,
           0.011164755582377792,
           0.011466505733252867,
           0.011164755582377792,
           0.013277006638503319,
           0.01056125528062764,
           0.01056125528062764,
           0.02444176222088111,
           0.012070006035003017,
           0.02323476161738081,
           0.01448400724200362,
           0.012673506336753168,
           0.012673506336753168,
           0.013277006638503319,
           0.017501508750754374,
           0.015992757996378996,
           0.030778515389257695,
           0.026554013277006638,
           0.011164755582377792,
           0.011466505733252867,
           0.0171997585998793,
           0.011768255884127943,
           0.01659625829812915,
           0.01056125528062764,
           0.012975256487628244,
           0.012371756185878094,
           0.014785757392878697,
           0.012070006035003017,
           0.012070006035003017,
           0.016898008449004225,
           0.010259505129752565,
           0.020820760410380206,
           0.01388050694025347,
           0.013277006638503319,
           0.026554013277006638,
           0.012070006035003017,
           0.047978273989136996,
           0.015992757996378996,
           0.015992757996378996,
           0.015992757996378996,
           0.01388050694025347,
           0.013277006638503319,
           0.03198551599275799,
           0.01056125528062764,
           0.011164755582377792,
           0.011466505733252867,
           0.019010259505129752,
           0.011164755582377792,
           0.012673506336753168,
           0.023536511768255886,
           0.0171997585998793,
           0.015992757996378996
          ],
          "sizemode": "area",
          "sizeref": 0.00025648762824381413,
          "symbol": "circle"
         },
         "mode": "markers",
         "name": "",
         "orientation": "v",
         "showlegend": false,
         "type": "scatter",
         "x": [
          1.741890500300352,
          1.1915242249204292,
          1.1708448540706606,
          1.124409679874554,
          1.2507548309178742,
          1.2513392060613857,
          1.0551768055139348,
          1.48410210479176,
          1.1381332025021462,
          1.335676940473125,
          1.1120401944424292,
          1.1647270243566024,
          1.4441660311580782,
          1.6218861645377574,
          1.3037123226950353,
          1.131850424730712,
          1.1408571920362616,
          1.239231841805045,
          1.1999689636443578,
          1.0798305637015313,
          1.7350558238766507,
          1.882565585622805,
          1.115865533370948,
          1.0852382549799524,
          1.2326334850486957,
          1.5749453474004371,
          1.5691783200227278,
          1.4174508126603935,
          1.2245404278343035,
          1.2500094297633504,
          1.0511382477184583,
          1.141446613088404,
          1.3636235666099987,
          1.0483849483849483,
          1.2753367289190718,
          1.3746064834510336,
          1.4794642857142857,
          1.3663162234590807,
          1.1237210673743183,
          1.203993598469519,
          1.3248933901918976,
          1.2501279874976423,
          1.5831210191082803,
          1.7196725092250922,
          1.2298527286222116,
          1.9411902530459229,
          1.3596517220158184,
          1.1577966693839525,
          1.115865533370948,
          2.3127257799671592,
          1.5137604202352402,
          1.3400631097054638,
          1.5707815462397303,
          1.444433973377312,
          1.0375633826782373,
          1.3876097429201746,
          1.1646820474654758,
          1.6200253048079134,
          1.0674288021844893,
          1.2840436773511799,
          1.7324398821404807,
          2.256860153026479,
          1.3185588954980403,
          1.199706858797768,
          1.674311181682034,
          1.0072273764571946,
          1.4132196162046908,
          1.618721985978623,
          2.0583098900295935,
          1.7026716634429402,
          1.3220744680851062,
          1.717669378813957,
          1.0880426523060658,
          1.3004785604900462,
          1.2730963491987268,
          1.0483849483849483,
          1.6032725552593101,
          1.3563002551880206,
          1.0896210905975072,
          1.085686205202038,
          1.391542755520427,
          1.368503472501542,
          1.741890500300352,
          1.097381274317724,
          1.48410210479176,
          1.0790102018667247,
          1.3990993526597242,
          1.1136939255592075,
          1.2143049075408554,
          1.2536906374817447,
          1.5770554213339194,
          1.33500481000481,
          1.2352715989684075,
          1.5691859406301223,
          1.7837512664640325,
          1.3240867579908677,
          1.9388413242009133,
          1.4130886169818317,
          1.4034166461984092,
          1.2061874431301183,
          1.1526523091963639,
          1.3667014543495828,
          1.1120401944424292,
          1.187405050591911,
          1.5355717137154261,
          1.0687121369175132,
          1.1731643256823112,
          1.2731087470449172,
          1.1523990346832467,
          1.5858309990662933,
          2.0103124052168635,
          1.2187806472703497,
          1.3477521443359952,
          1.2526309507231383,
          1.1947317974578613,
          1.4132196162046908,
          1.4728888888888891,
          1.2831653742713927,
          1.1578416149068322,
          1.1397949413919075,
          1.1563628899835796,
          1.5707815462397303,
          1.3412437797216625,
          1.157841614906832,
          1.736057382333978,
          1.4444339733773117,
          1.4374149086133567,
          1.23592862470595,
          1.4264807162534434,
          1.2553030303030304,
          1.310269842838786,
          1.191524224920429,
          1.3282565130260522,
          1.3086271064296078,
          1.2707147146278115,
          1.3785917207792209,
          1.6240122511485453,
          1.1335512313773182,
          1.07700164482411,
          1.2588452355111786,
          1.1455054028758613,
          1.1886427211334072,
          1.4535275222848592,
          1.139858411807921,
          1.3099530637815477,
          1.22652886646532,
          1.6082237503994699,
          1.4951500112790437,
          1.17219264980459,
          1.2451180885164503,
          1.17175540765391,
          1.023722768662637,
          1.3639928080930617,
          1.280921459492888,
          1.3099530637815477,
          1.060412133623448,
          1.8813197088091898,
          1.2626889512518595,
          1.3069111702652074,
          1.249252255592634,
          1.3590246605707956,
          1.17175540765391,
          1.5379060554612338,
          1.3740190923064477,
          1.1693119413793174,
          1.4412551853338686,
          1.470771546276375,
          1.4374149086133567,
          1.2697830120190368,
          1.226498889711325,
          1.33666346064348,
          1.1870014001497835,
          1.6142835731414868,
          1.1997068587977677,
          1.2325731623764313,
          1.3034030461244996,
          1.2107392358140863,
          1.5612172141583904,
          1.1019118869492937,
          1.0424169982542502,
          1.0387363745794418,
          1.318857741885386,
          1.9880364733305906,
          1.1572260691253826,
          1.5785247686445292,
          1.2183823529411764,
          1.1162425149700599,
          1.6363029785416892,
          1.2957966764418376,
          1.2728129746338226,
          1.744822744822745,
          1.268759571209801,
          1.3740190923064477,
          1.5430477201113146,
          1.271905999055267,
          1.3272635035911675,
          1.0063066429972904,
          1.1403714739126212,
          1.3414134934090942,
          1.5137604202352404,
          1.1721889757757682,
          1.7325005502971602,
          1.3561741937684009,
          1.0580643576818465,
          1.7294645652854608,
          1.145414798109409,
          1.3739205256570712,
          1.17219264980459,
          1.2127870264064295,
          1.4857238925159013,
          1.3726456226020227,
          1.239231841805045,
          1.2241620654794307,
          1.5277304964539007,
          1.4803150414852542,
          1.282397454639264,
          1.235230534123523,
          1.427354517611026,
          1.7469688982604112,
          1.4214460784313723,
          1.2337071887970092,
          1.2083424487712389,
          1.3185026883859452,
          1.1017287234042552,
          1.3554450077520857,
          1.17356524072942,
          1.3389898989898992,
          1.1865877545862382,
          1.6470287986245433,
          1.1665362953692116,
          1.431922274483661,
          1.4462509641537777,
          1.2728129746338226,
          1.1172890128114008,
          1.2864906832298135,
          1.7648781786712822,
          1.530433176318463,
          1.2853501773049647,
          1.2083424487712389,
          1.051322722665408,
          1.1402649913357246,
          1.012447884219102,
          1.0670747374480831,
          1.057506894901192,
          1.229267568913806,
          1.458022774327122,
          1.1571320874499067,
          1.5750069890970086,
          1.5336327752824284,
          1.042116147187993,
          1.7069276332732422,
          1.1832990819573272,
          1.0249259722313613,
          1.500168549606557,
          1.4412551853338684,
          1.3579447055912912,
          1.1789716966318597,
          1.0150076569678408,
          1.2940940560621412,
          1.4388515406162465,
          1.1997186624052296,
          1.3415159476964436,
          1.483554970375247,
          1.4693114349602898,
          1.5299469089032818,
          1.2068910177275194,
          1.3250911649926427,
          1.1523990346832467,
          1.2949550634181373,
          1.2747972725637031,
          1.4504147850478442,
          1.188642721133407,
          1.2451180885164503,
          1.5371057513914657,
          1.2186063614635043,
          1.4665509872539142,
          1.3491288063833249,
          1.165318214067887,
          1.2949550634181373,
          1.2536906374817447,
          1.435393228010525,
          1.4462544335034,
          1.2731992482374075,
          1.0669372900335945,
          1.6711308861698186,
          1.3468396614612437,
          1.1533295432205686,
          1.6151561862447295,
          1.4324035928952523,
          1.1088274095176185,
          1.4504758511883558,
          1.479464285714286,
          1.9891956782713085,
          1.4504758511883558,
          1.3873919132870538,
          1.2421351431041634,
          1.1665362953692116,
          1.2850792569893694,
          1.4073979700174117,
          1.3396896136932817,
          1.5735588522149786,
          1.6055822087774445,
          1.2184225535344775,
          1.426808266360505,
          1.6032725552593101,
          1.1516919798512908,
          1.3554450077520854,
          1.7273268801191362,
          1.232565924052516,
          1.3976897303123317,
          1.058769029248734,
          1.6336721230662161,
          1.0799625239317283,
          1.2415735089733517,
          1.1488264339826841,
          1.1294028025579856,
          1.5640055091642828,
          1.2392535346700382,
          1.0932928219999347,
          1.3346513628791623,
          1.2229785140232903,
          1.1222524787040915,
          1.6452482269503546,
          1.3658335541228765,
          1.1397949413919075,
          1.4665509872539142,
          2.392990489609017,
          1.2903271478757952,
          1.377139443679713,
          1.11167505286954,
          1.1613687899402185,
          1.0893177017375328,
          1.0237227686626367,
          1.3170537843327739,
          1.4672991777356104,
          1.4597905585106383,
          1.3324904203422998,
          1.1017287234042554,
          1.4997063326240383,
          1.302522368390632,
          1.2927580688774718,
          1.2937563438565443,
          1.0870920124651466,
          1.3303512544802867,
          1.5281662306374808,
          1.4381656110720151,
          1.3976897303123315,
          2.6049845101031117,
          1.4672991777356104,
          1.530675534792879,
          1.2643098093810239,
          1.4802194997447675,
          1.4975544922913344,
          1.7505743031583603,
          1.4110811235719527,
          1.4408597767678208,
          1.4529576263152908,
          1.2710588641397629,
          1.2115913770212112,
          1.3366634606434797,
          1.3667014543495828,
          1.4462544335034,
          1.362019775293786,
          1.4210781126803422,
          1.3252750938479598,
          1.7648781786712822,
          1.2577924111166987,
          1.4704381586245148,
          1.4373698820263705,
          1.4388515406162465,
          1.389657659470974,
          1.578172316108235,
          1.1878136200716847,
          1.8561544544016868,
          1.0617804980445014,
          1.30841613476344,
          1.139858411807921,
          1.334651362879162,
          1.5219288174512056,
          1.1662655526291887,
          1.1930211006558311,
          1.2887419793894614,
          1.4981916817359855,
          1.23592862470595,
          1.0921220218214207,
          1.124577943929462,
          1.180384390716494,
          1.0951398404126702,
          1.2298367144977733,
          1.1693119413793174,
          1.2075363813709443,
          1.6256453650221354,
          1.2241620654794307,
          1.429915759194576,
          1.1812090105503277,
          1.2127870264064293,
          1.1450865114360123,
          1.2901854664743502,
          1.3215221601914093,
          1.110164624808576,
          1.187405050591911,
          1.2626889512518595,
          1.2959550287180739,
          1.4586936387561782,
          1.5371057513914657,
          1.2228987403344571,
          1.3234163630010483,
          1.520970627000565,
          1.1152846987695724,
          1.3785917207792209,
          1.7527502417794971,
          1.3354287556415214,
          1.5224471691537558,
          1.1865877545862382,
          1.0827349302508575,
          1.2448461011556222,
          1.3301410396423137,
          1.1408571920362616,
          1.378135396314094,
          1.4174508126603933,
          1.0670747374480831,
          1.0612776859257935,
          1.22297851402329,
          1.3722567287784677,
          1.0444374409076582,
          1.4452439658498129,
          1.1318504247307122,
          1.3277387359097357,
          1.130253686288169,
          1.4721485101060285,
          1.3771609042553192,
          1.2888177411185877,
          1.4794642857142857,
          1.058769029248734,
          1.0683936546466533,
          1.3059659172826097,
          1.5264854905573466,
          1.2099429023457704,
          1.1502740226525392,
          1.2959550287180739,
          1.3237253187377875,
          1.4218063334145017,
          1.4691887099157677,
          1.014619211634137,
          1.2357263494988044,
          1.588420853165093,
          1.207046993150956,
          1.4728888888888891,
          1.4844344904815228,
          1.1730627415120498,
          1.2553030303030301,
          1.274099554836099,
          1.7448227448227447,
          1.8553903406939025,
          1.7895617895617892,
          1.27946887514478,
          1.169536984754376,
          1.1375286041189931,
          1.6137132328749093,
          1.4593837975559503,
          1.0380760128080189,
          2.1934973524473724,
          1.4075175196432363,
          1.4061411808312443,
          1.5304331763184629,
          1.4091933494918567,
          1.2603473019517795,
          1.252650466336345,
          1.2352715989684075,
          1.1213610873491113,
          1.454018954018954,
          1.141446613088404,
          1.1772985636377604,
          1.4953327254439313,
          1.0953029006921222,
          1.5718266437422186,
          1.1647414419269428,
          1.2186063614635043,
          2.1058460421205516,
          1.4416645446057212,
          1.3270933445987576,
          1.6306380186977198,
          1.4214460784313725,
          1.5507061425897566,
          1.2864906832298135,
          2.256860153026479,
          1.313689217758985,
          1.141446613088404,
          1.2710588641397629,
          1.8161088537211292,
          1.2180375804610224,
          1.4447189278009414,
          1.566274299982165,
          1.3609590112640801,
          1.5001685496065569,
          1.5076121570167076,
          1.093292821999935,
          1.5024978614200168,
          1.6214120835006025,
          1.173164325682311,
          1.3595016787036736,
          1.0580643576818465,
          1.2107392358140863,
          1.3774546709329316,
          1.7856616187397198,
          1.1936427896087523,
          1.483554970375247,
          1.3037123226950353,
          1.38014947548512,
          1.4953327254439313,
          1.3244633696173465,
          1.1661838461893912,
          1.3170537843327739,
          1.6082237503994699,
          1.3214796940820417,
          1.4768270944741533,
          1.0249259722313613,
          1.2614867890729962,
          1.2241430260047281,
          1.0072273764571946,
          1.6214120835006023,
          1.7325005502971604,
          1.390767386091127,
          1.3780771789753823,
          1.2603473019517795,
          1.5649929713582853,
          1.2588452355111786,
          1.2458266868516505,
          1.2104707792207792,
          1.3832766208429743,
          1.2068910177275194,
          1.2916819515774027,
          1.1999689636443578,
          1.2506918935238767,
          1.4124366023100199,
          1.4715527119938885,
          1.4920534870109405,
          1.695627215095093,
          1.4003858910575326,
          1.5148828507037464,
          1.2950933564915328,
          1.2287641785075487,
          1.4958007576368177,
          1.1357734405164224,
          1.1488264339826841,
          1.380083288068079,
          1.3896576594709737,
          1.9303355079217146,
          1.2143049075408554,
          1.5787176715858273,
          1.1244096798745542,
          1.1996418183434736,
          1.2054382738078895,
          1.6611528822055137,
          1.2975449735449738,
          1.2478349273288651,
          1.1644027233613754,
          1.5413079235437583,
          1.330351254480287,
          1.4753391597741277,
          1.2957966764418376,
          1.4426756133990828,
          1.1230514345959788,
          1.17356524072942,
          1.1730627415120498,
          1.63063801869772,
          1.534992828113794,
          1.042116147187993,
          1.012447884219102,
          1.1470419396231513,
          1.3250911649926427,
          1.3132264882000704,
          1.2317547772093225,
          1.3185026883859452,
          1.2045807989251962,
          1.4857238925159013,
          1.2178098531307606,
          1.1152846987695721,
          1.2518029234447143,
          1.1450865114360123,
          1.1403714739126212,
          1.2425429095150808,
          1.4416645446057212,
          1.3633945656333715,
          1.3135393207819115,
          1.4264807162534434,
          1.5749453474004371,
          1.3135393207819115,
          1.594035594035594,
          1.3248933901918976,
          1.5584904181526043,
          1.2070469931509562,
          1.1283039196672915,
          1.258348275498365,
          1.918299842884313,
          1.3170537843327739,
          1.1516919798512906,
          1.1213610873491113,
          1.4373698820263703,
          1.1950163097315423,
          1.0953029006921222,
          1.1066206114914667,
          1.2794688751447798,
          1.1450170681482097,
          1.1597324830857765,
          1.263406155297523,
          1.2674481104771356,
          1.2088236701109836,
          1.4313862607980252,
          1.5281662306374808,
          1.2591185410334345,
          1.2099429023457704,
          1.274099554836099,
          1.0150076569678408,
          1.29858934169279,
          2.6050447367812635,
          1.4426756133990828,
          1.1714583894424992,
          1.15225033803361,
          1.5691859406301223,
          1.2649293868628335,
          1.1533295432205684,
          1.5030271068452696,
          1.470771546276375,
          1.4338287692151077,
          1.3596517220158184,
          1.2950933564915328,
          1.4908272986614002,
          1.2157006603081437,
          1.448949719608402,
          1.4890392375422317,
          1.1294028025579859,
          1.4858469417238735,
          1.6956272150950933,
          1.52592639102544,
          1.28123716322339,
          1.6766333768428294,
          1.310269842838786,
          1.4332980126721881,
          1.2674481104771356,
          1.3350048100048097,
          1.2704153208704447,
          1.4593837975559505,
          1.1100160661265874,
          1.222900791527519,
          1.5259263910254397,
          1.3407817751773936,
          1.096020284422886,
          1.2507548309178742,
          1.1337360569694896,
          1.0893177017375328,
          1.0617804980445016,
          1.4936578455991243,
          1.2928280757580393,
          1.3499531549146606,
          1.172237802875262,
          1.258348275498365,
          1.128376772303561,
          1.402837917684513,
          1.368264392979222,
          1.1930211006558311,
          1.1517153303232879,
          1.424040001562561,
          1.2864906832298135,
          1.3056882541246,
          2.6049845101031117,
          1.238350529472257,
          1.2355682594917046,
          1.7069276332732422,
          1.3004785604900462,
          1.313734899538901,
          1.2448461011556224,
          1.506075392269422,
          1.160956470388053,
          1.6895582439992287,
          1.1176054484437716,
          1.1947317974578613,
          1.019099069148936,
          1.060412133623448,
          1.2579020013802622,
          1.4981916817359855,
          1.0790102018667247,
          1.376667103939831,
          1.0214943284563536,
          1.423845327604726,
          1.5750069890970086,
          1.1553442674906902,
          1.057506894901192,
          1.235230534123523,
          1.2091122261576808,
          1.1455054028758613,
          1.5662742999821653,
          1.1876894589872624,
          1.1172890128114008,
          1.349128806383325,
          1.484434490481523,
          1.0637552160598251,
          1.3771609042553192,
          1.2493253968253968,
          1.1876894589872624,
          1.3096089850249584,
          1.432403592895252,
          1.1836318179498952,
          1.7469688982604115,
          1.1571320874499067,
          1.3389898989898992,
          1.4558939438967349,
          1.2707147146278115,
          1.2325731623764313,
          1.6800467957883793,
          1.202685538014879,
          1.1136939255592075,
          1.0870920124651466,
          1.2077259475218658,
          1.2328869047619047,
          1.4689716312056738,
          1.3588650155814332,
          1.5785247686445292,
          1.2501886223027008,
          1.1363742807440118,
          1.4802194997447675,
          1.2864906832298135,
          1.2743797374745798,
          1.2129022315967908,
          1.1439212266550396,
          1.1038555001249082,
          1.402454506982649,
          1.3208449581506574,
          1.2840436773511799,
          1.2054382738078895,
          1.0402664667003818,
          1.2657179119561897,
          1.6440589077404997,
          1.2543738644774913,
          1.2227493147796753,
          1.6291156027071523,
          1.5831210191082803,
          1.2704153208704447,
          2.392990489609017,
          1.2125544370671806,
          1.261486789072996,
          2.6050447367812635,
          1.0380760128080189,
          1.5759215531942803,
          1.0852382549799524,
          1.2317547772093225,
          1.5940355940355937,
          1.0870028700287004,
          1.0376787391712765,
          1.160956470388053,
          1.2579020013802622,
          1.3633945656333715,
          1.2577924111166987,
          1.8813197088091898,
          1.4796530169664497,
          1.3220744680851062,
          1.0799625239317283,
          1.1738280772894936,
          1.9303355079217148,
          1.021268908500656,
          1.250188622302701,
          1.316409071211902,
          1.2187806472703495,
          1.1597324830857765,
          1.2903271478757952,
          1.4641799603305161,
          1.3576859015688802,
          1.363623566609999,
          1.4558939438967347,
          1.271905999055267,
          1.1934969388280086,
          1.2157006603081437,
          1.036921151439299,
          1.6218861645377574,
          1.3301410396423137,
          1.5264854905573466,
          1.0448608233492478,
          2.277472343278579,
          1.3724306964164978,
          1.0190651906519066,
          1.2609312656822014,
          1.3288601368691189,
          1.4693114349602898,
          1.0963046566385801,
          1.4936578455991243,
          1.752750241779497,
          1.2184225535344777,
          1.280278153370678,
          1.3563002551880206,
          1.794205454236082,
          1.1549599214269872,
          1.3288601368691189,
          1.4535275222848592,
          1.588420853165093,
          1.3234163630010483,
          1.2543738644774913,
          1.2609019950575613,
          1.1363742807440118,
          1.213805083770236,
          1.014619211634137,
          1.4689716312056738,
          1.2429085342518178,
          1.169536984754376,
          1.2864906832298135,
          1.8161088537211292,
          1.390767386091127,
          1.3910102094984136,
          1.173660219574332,
          1.1414466130884042,
          1.1524812370600415,
          1.1176054484437719,
          1.5368073679442662,
          1.1017287234042552,
          1.70267166344294,
          1.5642241288887957,
          1.1837222212110732,
          1.0953275580141253,
          1.0046308395095283,
          1.213805083770236,
          1.1123371583209214,
          1.4218063334145015,
          1.036921151439299,
          1.2062188019966722,
          1.2328869047619047,
          1.2531619090528754,
          1.2421351431041634,
          1.368264392979222,
          1.4447189278009414,
          1.4654999927505765,
          1.6142835731414868,
          1.4749387155341107,
          1.6064442543484458,
          1.6800467957883791,
          1.5400326426984632,
          1.249252255592634,
          1.445243965849813,
          2.193497352447372,
          1.124577943929462,
          1.3009729339741756,
          1.1832990819573272,
          1.6773946643951458,
          1.110164624808576,
          1.0612776859257935,
          1.1394357342135248,
          1.4275921486365,
          1.3015240877521774,
          1.2731992482374075,
          1.2183823529411766,
          1.3264162561576358,
          1.3722567287784677,
          1.1402649913357246,
          1.268759571209801,
          1.3955230496453899,
          1.529354824186214,
          1.5189889994761654,
          1.141446613088404,
          1.3249548046168822,
          1.3661671274067608,
          1.482442406620443,
          1.1725476695928245,
          1.1000436982134152,
          1.2508897180941698,
          1.2591185410334345,
          1.092505357034415,
          1.1517153303232879,
          1.2180375804610224,
          1.3771609042553192,
          1.3955230496453899,
          1.2887419793894612,
          2.027102056180304,
          1.2635809607150672,
          1.6752553561605137,
          1.3069111702652074,
          1.0683936546466533,
          1.6045912191509661,
          1.1088274095176185,
          1.1778908203597644,
          1.07700164482411,
          1.238923689945382,
          1.2425429095150808,
          1.3330763364536107,
          1.4958007576368177,
          1.520970627000565,
          1.0687121369175134,
          1.30596591728261,
          1.2526309507231383,
          1.1978457571777974,
          1.0190990691489363,
          1.2178098531307606,
          1.2635809607150672,
          1.0402664667003818,
          1.540032642698463,
          1.193452703644615,
          1.1302536862881691,
          1.3215221601914093,
          1.1321012537150275,
          1.1721889757757682,
          1.1677008906724087,
          1.4916729182295574,
          1.3620197752937862,
          1.172237802875262,
          1.2860413675346347,
          1.2937563438565443,
          1.4338287692151075,
          1.256950139412826,
          1.2896580205537111,
          1.2543284161490684,
          1.5966412581516598,
          1.5812616227855538,
          1.29858934169279,
          1.918299842884313,
          2.2774723432785784,
          1.6200253048079134,
          2.1024779817883266,
          1.4484932137106048,
          1.1222524787040917,
          1.1891135470675829,
          1.2478349273288651,
          1.0168058909695554,
          1.3303894018466478,
          1.5232307240529601,
          1.3576859015688802,
          1.1075023595212652,
          1.232565924052516,
          1.3272635035911675,
          1.0387363745794418,
          1.2619080587094986,
          1.3270346320346322,
          1.355047317763395,
          1.4849484704061264,
          1.1137113528045948,
          1.0293614327910356,
          1.2640470450564547,
          1.139289966628096,
          1.6743111816820337,
          1.4597905585106383,
          1.1248707851974264,
          1.409193349491857,
          1.0637552160598254,
          1.2740856192851207,
          1.3773017902813298,
          1.2091122261576808,
          1.2860413675346345,
          1.5413079235437581,
          1.736057382333978,
          1.48410210479176,
          1.2219403557417186,
          1.284430371415826,
          1.3990993526597242,
          1.4529576263152908,
          1.4484932137106048,
          1.3277387359097357,
          1.287240240823461,
          1.321371610845295,
          1.0784951835459515,
          1.43733601773418,
          1.288591647873085,
          1.2619080587094986,
          1.1486255226046833,
          1.4313862607980254,
          1.1557105492589363,
          1.1870014001497835,
          1.0190651906519066,
          1.4851813331303956,
          1.291681951577403,
          1.1936427896087525,
          1.5735588522149788,
          1.3726456226020227,
          1.2697830120190368,
          1.578172316108235,
          1.4241178860518173,
          1.0784951835459515,
          1.7505743031583603,
          1.1679044180849238,
          1.2853501773049647,
          1.453795705292711,
          1.4075175196432363,
          1.3400631097054638,
          1.4975544922913342,
          1.1708448540706606,
          1.448949719608402,
          1.882565585622805,
          1.2927580688774718,
          1.1321012537150275,
          1.0066001746037507,
          1.3296441251504576,
          1.3296441251504574,
          1.5997704750801514,
          1.4130886169818317,
          1.5693314391493394,
          1.373920525657071,
          1.810759335581366,
          1.4381656110720151,
          1.092505357034415,
          1.426808266360505,
          1.8523475738715331,
          1.127786285519823,
          1.0063066429972904,
          1.1439212266550396,
          1.4851813331303956
         ],
         "xaxis": "x",
         "y": [
          0.0904059040590406,
          0.12224448897795592,
          0.14838709677419357,
          0.39663093415007655,
          0.05434782608695651,
          0.22693266832917708,
          0.04521276595744681,
          0.15584415584415584,
          0.15969581749049427,
          0.2011173184357542,
          0.20670391061452517,
          0.04533789563729683,
          0.3795620437956205,
          0.20408163265306123,
          0.29583333333333334,
          0.20526315789473684,
          0.20689655172413796,
          0.09161490683229813,
          0.21761658031088082,
          0.07526881720430108,
          0.06125574272588055,
          0.42718446601941745,
          0.39361702127659576,
          0.07564575645756458,
          0.09112709832134291,
          0.02994011976047904,
          0.18987341772151897,
          0.03592814371257485,
          0.32183908045977017,
          0.07656967840735068,
          0.13226452905811623,
          0.08266360505166474,
          0.4810126582278481,
          0.09047619047619047,
          0.07311827956989247,
          0.06055900621118012,
          0.07142857142857142,
          0.07792207792207792,
          0.14241486068111456,
          0.22379603399433426,
          0.3482142857142857,
          0.10071942446043164,
          0.11464968152866242,
          0.08302583025830258,
          0.05900621118012422,
          0.05681818181818181,
          0.2465753424657534,
          0.1624548736462094,
          0.03165098374679213,
          0.14166666666666666,
          0.08633093525179855,
          0.0642939150401837,
          0.3564356435643564,
          0.056661562021439515,
          0.20444444444444446,
          0.4894736842105263,
          0.12230215827338128,
          0.3148148148148148,
          0.20743034055727555,
          0.45294117647058824,
          0.611111111111111,
          0.21383647798742136,
          0.46511627906976744,
          0.14335664335664336,
          0.178343949044586,
          0.09816971713810316,
          0.37142857142857144,
          0.05519480519480519,
          0.33663366336633666,
          0.04521276595744681,
          0.3,
          0.3192771084337349,
          0.21143617021276595,
          0.25625000000000003,
          0.33460076045627374,
          0.13286713286713286,
          0.07305194805194805,
          0.05279503105590062,
          0.19760479041916168,
          0.0632279534109817,
          0.05206738131699847,
          0.16559139784946236,
          0.28488372093023256,
          0.04106073567151411,
          0.10389610389610389,
          0.11070110701107012,
          0.13636363636363635,
          0.06821963394342763,
          0.3191489361702128,
          0.24362606232294617,
          0.1656050955414013,
          0.16919191919191917,
          0.28030303030303033,
          0.16099071207430343,
          0.40476190476190477,
          0.1678082191780822,
          0.1404109589041096,
          0.19827586206896552,
          0.042771599657827196,
          0.11428571428571428,
          0.03165098374679213,
          0.06515957446808511,
          0.06006493506493507,
          0.12468827930174563,
          0.033361847733105215,
          0.11222444889779559,
          0.14761904761904762,
          0.05186170212765957,
          0.4065040650406504,
          0.20098039215686275,
          0.14012738853503184,
          0.23684210526315788,
          0.06832298136645962,
          0.032506415739948676,
          0.2220744680851064,
          0.04477611940298507,
          0.15111111111111114,
          0.23270440251572327,
          0.08385093167701863,
          0.0615640599001664,
          0.12142857142857143,
          0.047872340425531915,
          0.037639007698887936,
          0.22499999999999998,
          0.3939393939393939,
          0.2846153846153846,
          0.5070422535211268,
          0.2241379310344828,
          0.26515151515151514,
          0.12878787878787878,
          0.3443708609271523,
          0.17941176470588235,
          0.09819639278557114,
          0.19704433497536944,
          0.10621242484969938,
          0.06655844155844157,
          0.32,
          0.09782608695652173,
          0.13031914893617022,
          0.06457564575645756,
          0.10093167701863354,
          0.23421354764638347,
          0.38202247191011235,
          0.15993788819875776,
          0.25811688311688313,
          0.09067579127459366,
          0.4226804123711341,
          0.2097902097902098,
          0.30808080808080807,
          0.24196018376722817,
          0.2125,
          0.07321131447587355,
          0.3584905660377359,
          0.23809523809523808,
          0.24349157733537521,
          0.1923076923076923,
          0.3655913978494624,
          0.07963246554364473,
          0.07453416149068322,
          0.13118279569892474,
          0.09226932668329178,
          0.056572379367720464,
          0.0881720430107527,
          0.311787072243346,
          0.41247002398081534,
          0.06914893617021277,
          0.05281285878300803,
          0.030795551753635585,
          0.08850931677018634,
          0.07142857142857142,
          0.07784431137724551,
          0.12643678160919541,
          0.20312500000000003,
          0.10353535353535354,
          0.1264559068219634,
          0.45977011494252873,
          0.07014542343883662,
          0.10882352941176471,
          0.13965087281795513,
          0.09184845005740527,
          0.18837675350701402,
          0.29927007299270075,
          0.12237762237762236,
          0.07298136645962733,
          0.5568181818181819,
          0.0625,
          0.39375,
          0.15948275862068967,
          0.09032258064516129,
          0.4489795918367347,
          0.32432432432432434,
          0.25,
          0.10904255319148937,
          0.036783575705731396,
          0.13356164383561644,
          0.06888633754305395,
          0.12662337662337664,
          0.137987012987013,
          0.16878980891719744,
          0.1904761904761905,
          0.1917098445595855,
          0.3220338983050847,
          0.04133180252583237,
          0.1918819188191882,
          0.04592422502870264,
          0.13686911890504705,
          0.14095744680851063,
          0.07003444316877153,
          0.31875000000000003,
          0.1797752808988764,
          0.31147540983606553,
          0.24081632653061225,
          0.4318181818181818,
          0.3466666666666667,
          0.3359073359073359,
          0.08977556109725686,
          0.20202020202020202,
          0.28125,
          0.06273062730627306,
          0.14583333333333331,
          0.04020530367835757,
          0.08422664624808576,
          0.3465346534653465,
          0.25,
          0.0658499234303216,
          0.21814006888633755,
          0.24888888888888894,
          0.056572379367720464,
          0.04920212765957447,
          0.2647058823529412,
          0.3763440860215054,
          0.281045751633987,
          0.07527801539777587,
          0.29365079365079366,
          0.25,
          0.13793103448275862,
          0.18518518518518517,
          0.2916666666666667,
          0.23809523809523808,
          0.15830115830115832,
          0.2996894409937888,
          0.16558441558441558,
          0.11366245694603903,
          0.1917808219178082,
          0.22292993630573246,
          0.2833333333333333,
          0.16236162361623616,
          0.13877551020408163,
          0.21518987341772153,
          0.15691489361702127,
          0.1818181818181818,
          0.23316062176165803,
          0.36153846153846153,
          0.29559748427672955,
          0.3270440251572327,
          0.30813953488372087,
          0.26752767527675275,
          0.14241960183767227,
          0.04920212765957447,
          0.14761904761904762,
          0.04018369690011481,
          0.47321428571428564,
          0.10967741935483871,
          0.17557251908396945,
          0.5396825396825397,
          0.09577922077922077,
          0.08116883116883117,
          0.042771599657827196,
          0.03165098374679213,
          0.19195046439628483,
          0.5116279069767441,
          0.3124042879019908,
          0.24534161490683226,
          0.2857142857142857,
          0.15444015444015444,
          0.2889733840304182,
          0.26217228464419473,
          0.22645290581162322,
          0.45679012345679015,
          0.13354037267080746,
          0.03421727972626176,
          0.08422664624808576,
          0.1917098445595855,
          0.061170212765957445,
          0.23448275862068968,
          0.35398230088495575,
          0.40683229813664595,
          0.31386861313868614,
          0.07347876004592423,
          0.18134715025906734,
          0.17551020408163268,
          0.275,
          0.11764705882352941,
          0.10723192019950126,
          0.2696078431372549,
          0.18703241895261843,
          0.047872340425531915,
          0.10353535353535354,
          0.05988023952095808,
          0.1305732484076433,
          0.05745341614906832,
          0.15648854961832062,
          0.2209631728045326,
          0.07233065442020666,
          0.29801324503311255,
          0.22693266832917708,
          0.2670807453416149,
          0.17721518987341772,
          0.23952095808383234,
          0.3673469387755102,
          0.07380073800738007,
          0.576271186440678,
          0.04106073567151411,
          0.07118254879448908,
          0.06655844155844157,
          0.056572379367720464,
          0.3081761006289308,
          0.2441860465116279,
          0.2154255319148936,
          0.16793893129770993,
          0.15499425947187143,
          0.15746753246753245,
          0.07446808510638298,
          0.048220436280137766,
          0.20670391061452517,
          0.11638591117917305,
          0.24550898203592814,
          0.16236162361623616,
          0.17328519855595667,
          0.14088820826952528,
          0.08095238095238096,
          0.19754977029096477,
          0.18565400843881855,
          0.34615384615384615,
          0.15053763440860216,
          0.33125,
          0.35021097046413496,
          0.06515957446808511,
          0.1172069825436409,
          0.4594594594594595,
          0.33976833976833976,
          0.24048096192384769,
          0.2857142857142857,
          0.09032258064516129,
          0.4016393442622951,
          0.1510204081632653,
          0.04133180252583237,
          0.12734082397003746,
          0.20588235294117646,
          0.40229885057471265,
          0.24568965517241384,
          0.29166666666666663,
          0.17894736842105263,
          0.21182266009852216,
          0.08643617021276596,
          0.15347721822541965,
          0.06006493506493507,
          0.19138755980861247,
          0.06544202066590127,
          0.47150259067357514,
          0.31012658227848106,
          0.2849740932642487,
          0.4804469273743017,
          0.37349397590361444,
          0.34831460674157305,
          0.18532818532818532,
          0.3305785123966942,
          0.26666666666666666,
          0.26717557251908397,
          0.18235294117647058,
          0.49019607843137253,
          0.1104815864022663,
          0.08602150537634409,
          0.30357142857142855,
          0.3745387453874539,
          0.4615384615384615,
          0.22150537634408604,
          0.105515587529976,
          0.4,
          0.10064935064935064,
          0.08639863130881094,
          0.16216216216216217,
          0.27848101265822783,
          0.08652246256239601,
          0.07414829659318638,
          0.29556650246305416,
          0.09225092250922509,
          0.21578947368421053,
          0.27906976744186046,
          0.14713430282292558,
          0.10093167701863354,
          0.17316017316017315,
          0.04875962360992301,
          0.13548387096774195,
          0.41666666666666663,
          0.05855338691159587,
          0.16067146282973618,
          0.12224448897795592,
          0.3473282442748092,
          0.21875,
          0.14367816091954022,
          0.24880382775119622,
          0.04106073567151411,
          0.2874251497005988,
          0.07792207792207792,
          0.07527801539777587,
          0.0642939150401837,
          0.05186170212765957,
          0.2167300380228137,
          0.25625000000000003,
          0.04654255319148936,
          0.303030303030303,
          0.07442258340461932,
          0.21518987341772153,
          0.2845691382765531,
          0.06273062730627306,
          0.34959349593495936,
          0.059900166389351084,
          0.27155172413793105,
          0.041916167664670656,
          0.2804532577903683,
          0.13354037267080746,
          0.32142857142857145,
          0.26666666666666666,
          0.3684210526315789,
          0.04448246364414029,
          0.06489184692179702,
          0.4683544303797469,
          0.13505747126436782,
          0.2900763358778626,
          0.3125,
          0.2107843137254902,
          0.07142857142857142,
          0.17316017316017315,
          0.08478802992518704,
          0.4606741573033708,
          0.5384615384615384,
          0.23841059602649006,
          0.05900621118012422,
          0.45714285714285713,
          0.09226932668329178,
          0.13857677902621726,
          0.04477611940298507,
          0.2666666666666667,
          0.029084687767322495,
          0.04936854190585534,
          0.05281285878300803,
          0.1,
          0.0851063829787234,
          0.06159110350727117,
          0.15,
          0.13571428571428573,
          0.13636363636363635,
          0.3655913978494624,
          0.13986013986013984,
          0.4513274336283186,
          0.22727272727272727,
          0.06521739130434782,
          0.03165098374679213,
          0.3835616438356164,
          0.20454545454545453,
          0.1767241379310345,
          0.1444043321299639,
          0.2770700636942675,
          0.08728179551122194,
          0.37037037037037035,
          0.06084959816303099,
          0.1103723404255319,
          0.04920212765957447,
          0.07613344739093242,
          0.17374517374517376,
          0.3,
          0.09840425531914894,
          0.5274725274725274,
          0.38636363636363635,
          0.5544554455445545,
          0.08610792192881744,
          0.09523809523809523,
          0.21604938271604937,
          0.06655844155844157,
          0.26149425287356326,
          0.048220436280137766,
          0.10294117647058823,
          0.3055555555555555,
          0.2919254658385093,
          0.10828025477707007,
          0.06818181818181818,
          0.05510907003444317,
          0.08016032064128256,
          0.03507271171941831,
          0.42965779467680604,
          0.28467153284671537,
          0.19850187265917602,
          0.08377659574468085,
          0.07197549770290965,
          0.12146422628951747,
          0.24808575803981625,
          0.5299999999999999,
          0.3679245283018869,
          0.14868105515587526,
          0.09476309226932668,
          0.17304492512479203,
          0.42708333333333337,
          0.08229813664596272,
          0.35185185185185186,
          0.42105263157894735,
          0.20816326530612247,
          0.09441489361702127,
          0.4868421052631579,
          0.04106073567151411,
          0.06314580941446613,
          0.11366245694603903,
          0.051664753157290466,
          0.04707233065442021,
          0.07815631262525051,
          0.27450980392156865,
          0.04020530367835757,
          0.23448275862068968,
          0.04654255319148936,
          0.1826625386996904,
          0.05186170212765957,
          0.06168831168831169,
          0.10071942446043164,
          0.48611111111111105,
          0.33125,
          0.255952380952381,
          0.20588235294117646,
          0.3274336283185841,
          0.05844155844155844,
          0.1940928270042194,
          0.22433460076045625,
          0.1356382978723404,
          0.06988352745424292,
          0.05132591958939264,
          0.16877637130801687,
          0.15097402597402598,
          0.03421727972626176,
          0.4456521739130435,
          0.06084959816303099,
          0.3981481481481482,
          0.09574468085106383,
          0.22840034217279723,
          0.29473684210526313,
          0.22379603399433426,
          0.21354166666666669,
          0.17490494296577946,
          0.042771599657827196,
          0.13513513513513511,
          0.051664753157290466,
          0.07955517536355859,
          0.2215568862275449,
          0.21755725190839698,
          0.18150684931506847,
          0.09523809523809523,
          0.0880952380952381,
          0.07380073800738007,
          0.08116385911179172,
          0.06278713629402757,
          0.18666666666666668,
          0.3877551020408163,
          0.1818181818181818,
          0.11623246492985971,
          0.1836734693877551,
          0.30844155844155846,
          0.4137931034482759,
          0.42857142857142855,
          0.12367021276595744,
          0.23647294589178355,
          0.1881918819188192,
          0.04707233065442021,
          0.2463054187192118,
          0.05389221556886227,
          0.14718614718614717,
          0.04018369690011481,
          0.14575645756457564,
          0.11970074812967581,
          0.42957746478873243,
          0.08850931677018634,
          0.32900432900432897,
          0.14408602150537633,
          0.2119700748129676,
          0.1323529411764706,
          0.2679738562091504,
          0.35833333333333334,
          0.2588235294117647,
          0.05681818181818181,
          0.03849443969204448,
          0.13476263399693722,
          0.2962962962962963,
          0.04477611940298507,
          0.1518987341772152,
          0.31724137931034485,
          0.15831663326653306,
          0.1894736842105263,
          0.11750599520383692,
          0.11366245694603903,
          0.13935681470137826,
          0.3955555555555556,
          0.11363636363636362,
          0.09988518943742823,
          0.029084687767322495,
          0.3903559127439724,
          0.04362703165098374,
          0.18726591760299627,
          0.10008554319931566,
          0.0903522205206738,
          0.15948275862068967,
          0.31770833333333337,
          0.12352941176470587,
          0.05625717566016073,
          0.05053191489361702,
          0.055130168453292494,
          0.1614730878186969,
          0.2,
          0.2413793103448276,
          0.20359281437125748,
          0.21722846441947566,
          0.08377659574468085,
          0.4064516129032258,
          0.15294117647058825,
          0.06832298136645962,
          0.22412318220701452,
          0.22631578947368422,
          0.3865546218487395,
          0.09042553191489362,
          0.059900166389351084,
          0.2938775510204082,
          0.20918367346938777,
          0.27586206896551724,
          0.5111111111111111,
          0.5252525252525253,
          0.20481927710843376,
          0.2694610778443114,
          0.04707233065442021,
          0.07321131447587355,
          0.1797752808988764,
          0.1199040767386091,
          0.05970149253731343,
          0.15267175572519084,
          0.08872901678657075,
          0.1595238095238095,
          0.2303921568627451,
          0.0642939150401837,
          0.11823647294589178,
          0.24096385542168675,
          0.27672955974842767,
          0.1120689655172414,
          0.06382978723404255,
          0.24305555555555552,
          0.1371841155234657,
          0.2146422628951747,
          0.17365269461077845,
          0.5268817204301075,
          0.07919254658385093,
          0.05132591958939264,
          0.08383233532934131,
          0.07214428857715431,
          0.0881863560732113,
          0.04106073567151411,
          0.1634980988593156,
          0.42083333333333334,
          0.22693726937269373,
          0.27672955974842767,
          0.05279503105590062,
          0.183206106870229,
          0.20987654320987653,
          0.10350727117194182,
          0.22966507177033493,
          0.11898016997167138,
          0.06278713629402757,
          0.46341463414634143,
          0.20359281437125748,
          0.39583333333333337,
          0.05359877488514548,
          0.14122137404580154,
          0.3942307692307692,
          0.2711038961038961,
          0.23125,
          0.09151414309484193,
          0.24444444444444446,
          0.07142857142857142,
          0.17647058823529413,
          0.16450216450216448,
          0.18987341772151897,
          0.13877551020408163,
          0.11643835616438356,
          0.20952380952380953,
          0.09317803660565724,
          0.07380073800738007,
          0.22474747474747475,
          0.2226027397260274,
          0.1261904761904762,
          0.1437125748502994,
          0.04247990815154994,
          0.10869565217391303,
          0.3368421052631579,
          0.16017316017316016,
          0.3125,
          0.09047619047619047,
          0.41895261845386533,
          0.0632279534109817,
          0.3764705882352941,
          0.2685851318944844,
          0.28571428571428575,
          0.18924731182795698,
          0.09090909090909091,
          0.08478802992518704,
          0.19133574007220217,
          0.22352941176470587,
          0.15918367346938778,
          0.4242424242424242,
          0.2019704433497537,
          0.04362801377726751,
          0.22448979591836735,
          0.22916666666666666,
          0.047872340425531915,
          0.04018369690011481,
          0.041916167664670656,
          0.2836879432624113,
          0.05452127659574468,
          0.05359877488514548,
          0.05279503105590062,
          0.23111111111111116,
          0.05819295558958652,
          0.14393939393939395,
          0.3893805309734513,
          0.14388489208633093,
          0.07692307692307691,
          0.06586826347305388,
          0.10621242484969938,
          0.12587412587412586,
          0.11992619926199263,
          0.04018369690011481,
          0.07305194805194805,
          0.07526881720430108,
          0.30281690140845074,
          0.15,
          0.07820299500831947,
          0.12058823529411765,
          0.06366459627329192,
          0.05519480519480519,
          0.13127413127413126,
          0.12404287901990813,
          0.09415584415584415,
          0.17748917748917747,
          0.08585858585858586,
          0.06493506493506493,
          0.07380073800738007,
          0.27272727272727276,
          0.22875816993464052,
          0.08540372670807453,
          0.04936854190585534,
          0.04592422502870264,
          0.05279503105590062,
          0.07233065442020666,
          0.05186170212765957,
          0.38095238095238093,
          0.30851063829787234,
          0.15086206896551724,
          0.04961505560307955,
          0.05319148936170213,
          0.25581395348837205,
          0.06987577639751552,
          0.4090909090909091,
          0.211031175059952,
          0.04020530367835757,
          0.08111702127659574,
          0.032506415739948676,
          0.17616580310880828,
          0.1120689655172414,
          0.07526881720430108,
          0.06382978723404255,
          0.10106382978723404,
          0.09592326139088728,
          0.04936854190585534,
          0.03592814371257485,
          0.05359877488514548,
          0.21578947368421053,
          0.14080459770114945,
          0.16666666666666666,
          0.05745341614906832,
          0.0641573994867408,
          0.11616161616161615,
          0.288135593220339,
          0.041916167664670656,
          0.3977272727272727,
          0.12978369384359403,
          0.45161290322580644,
          0.26356589147286824,
          0.3535353535353535,
          0.40740740740740744,
          0.46875,
          0.03903559127439724,
          0.4174757281553398,
          0.34782608695652173,
          0.23316062176165803,
          0.13430851063829788,
          0.2578616352201258,
          0.05823627287853577,
          0.06888633754305395,
          0.08377659574468085,
          0.05625717566016073,
          0.13975155279503104,
          0.0625,
          0.640625,
          0.175,
          0.03903559127439724,
          0.19195046439628483,
          0.30000000000000004,
          0.06677018633540373,
          0.03507271171941831,
          0.0658499234303216,
          0.25,
          0.38636363636363635,
          0.3082191780821918,
          0.4175531914893617,
          0.2878787878787879,
          0.1070110701107011,
          0.220125786163522,
          0.2191780821917808,
          0.11455108359133129,
          0.23529411764705882,
          0.05823627287853577,
          0.08928571428571429,
          0.07298136645962733,
          0.1503006012024048,
          0.10858585858585859,
          0.059724349157733544,
          0.05218135158254919,
          0.09352517985611511,
          0.17847025495750707,
          0.5666666666666667,
          0.12420382165605096,
          0.29927007299270075,
          0.17528735632183912,
          0.5098039215686275,
          0.15355805243445694,
          0.06888633754305395,
          0.1048158640226629,
          0.06891271056661562,
          0.04707233065442021,
          0.06431852986217458,
          0.20623501199040767,
          0.07014028056112223,
          0.061170212765957445,
          0.07579787234042554,
          0.07414829659318638,
          0.27647058823529413,
          0.1681034482758621,
          0.06211180124223602,
          0.22158438576349024,
          0.05206738131699847,
          0.05053191489361702,
          0.5394736842105263,
          0.07608695652173912,
          0.051664753157290466,
          0.061170212765957445,
          0.09770114942528736,
          0.1520912547528517,
          0.1231281198003328,
          0.1314475873544093,
          0.05359877488514548,
          0.2857142857142857,
          0.16450216450216448,
          0.1883614088820827,
          0.09666381522668947,
          0.0797872340425532,
          0.31666666666666665,
          0.10071942446043164,
          0.24528301886792453,
          0.24897959183673474,
          0.33009708737864074,
          0.25396825396825395,
          0.12927756653992395,
          0.12734082397003746,
          0.06457564575645756,
          0.2288961038961039,
          0.24438902743142146,
          0.155893536121673,
          0.1274787535410765,
          0.35036496350364965,
          0.08575803981623277,
          0.3451327433628319,
          0.16091954022988508,
          0.03507271171941831,
          0.441860465116279,
          0.4225352112676057,
          0.04920212765957447,
          0.05218135158254919,
          0.09341500765696785,
          0.08977556109725686,
          0.06366459627329192,
          0.23192019950124687,
          0.11868686868686869,
          0.1044776119402985,
          0.136986301369863,
          0.06826568265682657,
          0.21176470588235294,
          0.20930232558139533,
          0.07356715141146279,
          0.41350210970464135,
          0.11331444759206799,
          0.19480519480519481,
          0.3253588516746412,
          0.04247990815154994,
          0.15605095541401273,
          0.24375000000000002,
          0.12863705972434916,
          0.06489184692179702,
          0.13636363636363635,
          0.24137931034482757,
          0.1305732484076433,
          0.05279503105590062,
          0.39080459770114945,
          0.28148148148148144,
          0.20860215053763442,
          0.14388489208633093,
          0.20408163265306123,
          0.26724137931034486,
          0.3018867924528302,
          0.030795551753635585,
          0.30808080808080807,
          0.2182254196642686,
          0.06211180124223602,
          0.3488372093023256,
          0.15640599001663893,
          0.24522292993630573,
          0.06006493506493507,
          0.06501283147989735,
          0.5238095238095238,
          0.037639007698887936,
          0.19133574007220217,
          0.08810949529512403,
          0.09832134292565947,
          0.15864022662889518,
          0.07047872340425532,
          0.3967935871743487,
          0.08036739380022961,
          0.07414829659318638,
          0.15416666666666667,
          0.14130434782608695,
          0.1444805194805195,
          0.136986301369863,
          0.3037037037037037,
          0.05186170212765957,
          0.10344827586206898,
          0.1283147989734816,
          0.12169919632606198,
          0.12074303405572756,
          0.27007299270073,
          0.05900621118012422,
          0.03165098374679213,
          0.08118081180811808,
          0.1674641148325359,
          0.3804347826086956,
          0.28321678321678323,
          0.03421727972626176,
          0.11956521739130434,
          0.3018867924528302,
          0.14685314685314685,
          0.09032258064516129,
          0.12464589235127478,
          0.1070110701107011,
          0.10621242484969938,
          0.2931034482758621,
          0.4210526315789474,
          0.3057851239669422,
          0.05053191489361702,
          0.24675324675324675,
          0.1681034482758621,
          0.28061224489795916,
          0.02994011976047904,
          0.10723192019950126,
          0.09761904761904763,
          0.06515957446808511,
          0.5128205128205128,
          0.11764705882352941,
          0.3522012578616352,
          0.08585858585858586,
          0.16428571428571428,
          0.03934987168520102,
          0.058510638297872335,
          0.1010332950631458,
          0.09975062344139651,
          0.182548794489093,
          0.04533789563729683,
          0.4690265486725663,
          0.36301369863013694,
          0.0989247311827957,
          0.12643678160919541,
          0.3117647058823529,
          0.11146496815286623,
          0.10632183908045978,
          0.07615230460921843,
          0.375,
          0.04247990815154994,
          0.2222222222222222,
          0.18705035971223022,
          0.1366906474820144,
          0.22362869198312232
         ],
         "yaxis": "y"
        }
       ],
       "layout": {
        "coloraxis": {
         "colorbar": {
          "title": {
           "text": "Lift"
          }
         },
         "colorscale": [
          [
           0,
           "#0d0887"
          ],
          [
           0.1111111111111111,
           "#46039f"
          ],
          [
           0.2222222222222222,
           "#7201a8"
          ],
          [
           0.3333333333333333,
           "#9c179e"
          ],
          [
           0.4444444444444444,
           "#bd3786"
          ],
          [
           0.5555555555555556,
           "#d8576b"
          ],
          [
           0.6666666666666666,
           "#ed7953"
          ],
          [
           0.7777777777777778,
           "#fb9f3a"
          ],
          [
           0.8888888888888888,
           "#fdca26"
          ],
          [
           1,
           "#f0f921"
          ]
         ]
        },
        "legend": {
         "itemsizing": "constant",
         "tracegroupgap": 0
        },
        "template": {
         "data": {
          "bar": [
           {
            "error_x": {
             "color": "#f2f5fa"
            },
            "error_y": {
             "color": "#f2f5fa"
            },
            "marker": {
             "line": {
              "color": "rgb(17,17,17)",
              "width": 0.5
             },
             "pattern": {
              "fillmode": "overlay",
              "size": 10,
              "solidity": 0.2
             }
            },
            "type": "bar"
           }
          ],
          "barpolar": [
           {
            "marker": {
             "line": {
              "color": "rgb(17,17,17)",
              "width": 0.5
             },
             "pattern": {
              "fillmode": "overlay",
              "size": 10,
              "solidity": 0.2
             }
            },
            "type": "barpolar"
           }
          ],
          "carpet": [
           {
            "aaxis": {
             "endlinecolor": "#A2B1C6",
             "gridcolor": "#506784",
             "linecolor": "#506784",
             "minorgridcolor": "#506784",
             "startlinecolor": "#A2B1C6"
            },
            "baxis": {
             "endlinecolor": "#A2B1C6",
             "gridcolor": "#506784",
             "linecolor": "#506784",
             "minorgridcolor": "#506784",
             "startlinecolor": "#A2B1C6"
            },
            "type": "carpet"
           }
          ],
          "choropleth": [
           {
            "colorbar": {
             "outlinewidth": 0,
             "ticks": ""
            },
            "type": "choropleth"
           }
          ],
          "contour": [
           {
            "colorbar": {
             "outlinewidth": 0,
             "ticks": ""
            },
            "colorscale": [
             [
              0,
              "#0d0887"
             ],
             [
              0.1111111111111111,
              "#46039f"
             ],
             [
              0.2222222222222222,
              "#7201a8"
             ],
             [
              0.3333333333333333,
              "#9c179e"
             ],
             [
              0.4444444444444444,
              "#bd3786"
             ],
             [
              0.5555555555555556,
              "#d8576b"
             ],
             [
              0.6666666666666666,
              "#ed7953"
             ],
             [
              0.7777777777777778,
              "#fb9f3a"
             ],
             [
              0.8888888888888888,
              "#fdca26"
             ],
             [
              1,
              "#f0f921"
             ]
            ],
            "type": "contour"
           }
          ],
          "contourcarpet": [
           {
            "colorbar": {
             "outlinewidth": 0,
             "ticks": ""
            },
            "type": "contourcarpet"
           }
          ],
          "heatmap": [
           {
            "colorbar": {
             "outlinewidth": 0,
             "ticks": ""
            },
            "colorscale": [
             [
              0,
              "#0d0887"
             ],
             [
              0.1111111111111111,
              "#46039f"
             ],
             [
              0.2222222222222222,
              "#7201a8"
             ],
             [
              0.3333333333333333,
              "#9c179e"
             ],
             [
              0.4444444444444444,
              "#bd3786"
             ],
             [
              0.5555555555555556,
              "#d8576b"
             ],
             [
              0.6666666666666666,
              "#ed7953"
             ],
             [
              0.7777777777777778,
              "#fb9f3a"
             ],
             [
              0.8888888888888888,
              "#fdca26"
             ],
             [
              1,
              "#f0f921"
             ]
            ],
            "type": "heatmap"
           }
          ],
          "heatmapgl": [
           {
            "colorbar": {
             "outlinewidth": 0,
             "ticks": ""
            },
            "colorscale": [
             [
              0,
              "#0d0887"
             ],
             [
              0.1111111111111111,
              "#46039f"
             ],
             [
              0.2222222222222222,
              "#7201a8"
             ],
             [
              0.3333333333333333,
              "#9c179e"
             ],
             [
              0.4444444444444444,
              "#bd3786"
             ],
             [
              0.5555555555555556,
              "#d8576b"
             ],
             [
              0.6666666666666666,
              "#ed7953"
             ],
             [
              0.7777777777777778,
              "#fb9f3a"
             ],
             [
              0.8888888888888888,
              "#fdca26"
             ],
             [
              1,
              "#f0f921"
             ]
            ],
            "type": "heatmapgl"
           }
          ],
          "histogram": [
           {
            "marker": {
             "pattern": {
              "fillmode": "overlay",
              "size": 10,
              "solidity": 0.2
             }
            },
            "type": "histogram"
           }
          ],
          "histogram2d": [
           {
            "colorbar": {
             "outlinewidth": 0,
             "ticks": ""
            },
            "colorscale": [
             [
              0,
              "#0d0887"
             ],
             [
              0.1111111111111111,
              "#46039f"
             ],
             [
              0.2222222222222222,
              "#7201a8"
             ],
             [
              0.3333333333333333,
              "#9c179e"
             ],
             [
              0.4444444444444444,
              "#bd3786"
             ],
             [
              0.5555555555555556,
              "#d8576b"
             ],
             [
              0.6666666666666666,
              "#ed7953"
             ],
             [
              0.7777777777777778,
              "#fb9f3a"
             ],
             [
              0.8888888888888888,
              "#fdca26"
             ],
             [
              1,
              "#f0f921"
             ]
            ],
            "type": "histogram2d"
           }
          ],
          "histogram2dcontour": [
           {
            "colorbar": {
             "outlinewidth": 0,
             "ticks": ""
            },
            "colorscale": [
             [
              0,
              "#0d0887"
             ],
             [
              0.1111111111111111,
              "#46039f"
             ],
             [
              0.2222222222222222,
              "#7201a8"
             ],
             [
              0.3333333333333333,
              "#9c179e"
             ],
             [
              0.4444444444444444,
              "#bd3786"
             ],
             [
              0.5555555555555556,
              "#d8576b"
             ],
             [
              0.6666666666666666,
              "#ed7953"
             ],
             [
              0.7777777777777778,
              "#fb9f3a"
             ],
             [
              0.8888888888888888,
              "#fdca26"
             ],
             [
              1,
              "#f0f921"
             ]
            ],
            "type": "histogram2dcontour"
           }
          ],
          "mesh3d": [
           {
            "colorbar": {
             "outlinewidth": 0,
             "ticks": ""
            },
            "type": "mesh3d"
           }
          ],
          "parcoords": [
           {
            "line": {
             "colorbar": {
              "outlinewidth": 0,
              "ticks": ""
             }
            },
            "type": "parcoords"
           }
          ],
          "pie": [
           {
            "automargin": true,
            "type": "pie"
           }
          ],
          "scatter": [
           {
            "marker": {
             "line": {
              "color": "#283442"
             }
            },
            "type": "scatter"
           }
          ],
          "scatter3d": [
           {
            "line": {
             "colorbar": {
              "outlinewidth": 0,
              "ticks": ""
             }
            },
            "marker": {
             "colorbar": {
              "outlinewidth": 0,
              "ticks": ""
             }
            },
            "type": "scatter3d"
           }
          ],
          "scattercarpet": [
           {
            "marker": {
             "colorbar": {
              "outlinewidth": 0,
              "ticks": ""
             }
            },
            "type": "scattercarpet"
           }
          ],
          "scattergeo": [
           {
            "marker": {
             "colorbar": {
              "outlinewidth": 0,
              "ticks": ""
             }
            },
            "type": "scattergeo"
           }
          ],
          "scattergl": [
           {
            "marker": {
             "line": {
              "color": "#283442"
             }
            },
            "type": "scattergl"
           }
          ],
          "scattermapbox": [
           {
            "marker": {
             "colorbar": {
              "outlinewidth": 0,
              "ticks": ""
             }
            },
            "type": "scattermapbox"
           }
          ],
          "scatterpolar": [
           {
            "marker": {
             "colorbar": {
              "outlinewidth": 0,
              "ticks": ""
             }
            },
            "type": "scatterpolar"
           }
          ],
          "scatterpolargl": [
           {
            "marker": {
             "colorbar": {
              "outlinewidth": 0,
              "ticks": ""
             }
            },
            "type": "scatterpolargl"
           }
          ],
          "scatterternary": [
           {
            "marker": {
             "colorbar": {
              "outlinewidth": 0,
              "ticks": ""
             }
            },
            "type": "scatterternary"
           }
          ],
          "surface": [
           {
            "colorbar": {
             "outlinewidth": 0,
             "ticks": ""
            },
            "colorscale": [
             [
              0,
              "#0d0887"
             ],
             [
              0.1111111111111111,
              "#46039f"
             ],
             [
              0.2222222222222222,
              "#7201a8"
             ],
             [
              0.3333333333333333,
              "#9c179e"
             ],
             [
              0.4444444444444444,
              "#bd3786"
             ],
             [
              0.5555555555555556,
              "#d8576b"
             ],
             [
              0.6666666666666666,
              "#ed7953"
             ],
             [
              0.7777777777777778,
              "#fb9f3a"
             ],
             [
              0.8888888888888888,
              "#fdca26"
             ],
             [
              1,
              "#f0f921"
             ]
            ],
            "type": "surface"
           }
          ],
          "table": [
           {
            "cells": {
             "fill": {
              "color": "#506784"
             },
             "line": {
              "color": "rgb(17,17,17)"
             }
            },
            "header": {
             "fill": {
              "color": "#2a3f5f"
             },
             "line": {
              "color": "rgb(17,17,17)"
             }
            },
            "type": "table"
           }
          ]
         },
         "layout": {
          "annotationdefaults": {
           "arrowcolor": "#f2f5fa",
           "arrowhead": 0,
           "arrowwidth": 1
          },
          "autotypenumbers": "strict",
          "coloraxis": {
           "colorbar": {
            "outlinewidth": 0,
            "ticks": ""
           }
          },
          "colorscale": {
           "diverging": [
            [
             0,
             "#8e0152"
            ],
            [
             0.1,
             "#c51b7d"
            ],
            [
             0.2,
             "#de77ae"
            ],
            [
             0.3,
             "#f1b6da"
            ],
            [
             0.4,
             "#fde0ef"
            ],
            [
             0.5,
             "#f7f7f7"
            ],
            [
             0.6,
             "#e6f5d0"
            ],
            [
             0.7,
             "#b8e186"
            ],
            [
             0.8,
             "#7fbc41"
            ],
            [
             0.9,
             "#4d9221"
            ],
            [
             1,
             "#276419"
            ]
           ],
           "sequential": [
            [
             0,
             "#0d0887"
            ],
            [
             0.1111111111111111,
             "#46039f"
            ],
            [
             0.2222222222222222,
             "#7201a8"
            ],
            [
             0.3333333333333333,
             "#9c179e"
            ],
            [
             0.4444444444444444,
             "#bd3786"
            ],
            [
             0.5555555555555556,
             "#d8576b"
            ],
            [
             0.6666666666666666,
             "#ed7953"
            ],
            [
             0.7777777777777778,
             "#fb9f3a"
            ],
            [
             0.8888888888888888,
             "#fdca26"
            ],
            [
             1,
             "#f0f921"
            ]
           ],
           "sequentialminus": [
            [
             0,
             "#0d0887"
            ],
            [
             0.1111111111111111,
             "#46039f"
            ],
            [
             0.2222222222222222,
             "#7201a8"
            ],
            [
             0.3333333333333333,
             "#9c179e"
            ],
            [
             0.4444444444444444,
             "#bd3786"
            ],
            [
             0.5555555555555556,
             "#d8576b"
            ],
            [
             0.6666666666666666,
             "#ed7953"
            ],
            [
             0.7777777777777778,
             "#fb9f3a"
            ],
            [
             0.8888888888888888,
             "#fdca26"
            ],
            [
             1,
             "#f0f921"
            ]
           ]
          },
          "colorway": [
           "#636efa",
           "#EF553B",
           "#00cc96",
           "#ab63fa",
           "#FFA15A",
           "#19d3f3",
           "#FF6692",
           "#B6E880",
           "#FF97FF",
           "#FECB52"
          ],
          "font": {
           "color": "#f2f5fa"
          },
          "geo": {
           "bgcolor": "rgb(17,17,17)",
           "lakecolor": "rgb(17,17,17)",
           "landcolor": "rgb(17,17,17)",
           "showlakes": true,
           "showland": true,
           "subunitcolor": "#506784"
          },
          "hoverlabel": {
           "align": "left"
          },
          "hovermode": "closest",
          "mapbox": {
           "style": "dark"
          },
          "paper_bgcolor": "rgb(17,17,17)",
          "plot_bgcolor": "rgb(17,17,17)",
          "polar": {
           "angularaxis": {
            "gridcolor": "#506784",
            "linecolor": "#506784",
            "ticks": ""
           },
           "bgcolor": "rgb(17,17,17)",
           "radialaxis": {
            "gridcolor": "#506784",
            "linecolor": "#506784",
            "ticks": ""
           }
          },
          "scene": {
           "xaxis": {
            "backgroundcolor": "rgb(17,17,17)",
            "gridcolor": "#506784",
            "gridwidth": 2,
            "linecolor": "#506784",
            "showbackground": true,
            "ticks": "",
            "zerolinecolor": "#C8D4E3"
           },
           "yaxis": {
            "backgroundcolor": "rgb(17,17,17)",
            "gridcolor": "#506784",
            "gridwidth": 2,
            "linecolor": "#506784",
            "showbackground": true,
            "ticks": "",
            "zerolinecolor": "#C8D4E3"
           },
           "zaxis": {
            "backgroundcolor": "rgb(17,17,17)",
            "gridcolor": "#506784",
            "gridwidth": 2,
            "linecolor": "#506784",
            "showbackground": true,
            "ticks": "",
            "zerolinecolor": "#C8D4E3"
           }
          },
          "shapedefaults": {
           "line": {
            "color": "#f2f5fa"
           }
          },
          "sliderdefaults": {
           "bgcolor": "#C8D4E3",
           "bordercolor": "rgb(17,17,17)",
           "borderwidth": 1,
           "tickwidth": 0
          },
          "ternary": {
           "aaxis": {
            "gridcolor": "#506784",
            "linecolor": "#506784",
            "ticks": ""
           },
           "baxis": {
            "gridcolor": "#506784",
            "linecolor": "#506784",
            "ticks": ""
           },
           "bgcolor": "rgb(17,17,17)",
           "caxis": {
            "gridcolor": "#506784",
            "linecolor": "#506784",
            "ticks": ""
           }
          },
          "title": {
           "x": 0.05
          },
          "updatemenudefaults": {
           "bgcolor": "#506784",
           "borderwidth": 0
          },
          "xaxis": {
           "automargin": true,
           "gridcolor": "#283442",
           "linecolor": "#506784",
           "ticks": "",
           "title": {
            "standoff": 15
           },
           "zerolinecolor": "#283442",
           "zerolinewidth": 2
          },
          "yaxis": {
           "automargin": true,
           "gridcolor": "#283442",
           "linecolor": "#506784",
           "ticks": "",
           "title": {
            "standoff": 15
           },
           "zerolinecolor": "#283442",
           "zerolinewidth": 2
          }
         }
        },
        "title": {
         "text": "Scatter Plot dari Aturan Asosiasi"
        },
        "xaxis": {
         "anchor": "y",
         "domain": [
          0,
          1
         ],
         "title": {
          "text": "Lift"
         }
        },
        "yaxis": {
         "anchor": "x",
         "domain": [
          0,
          1
         ],
         "title": {
          "text": "Confidence"
         }
        }
       }
      }
     },
     "metadata": {},
     "output_type": "display_data"
    }
   ],
   "source": [
    "import plotly.express as px\n",
    "\n",
    "\n",
    "# Mengonversi frozenset menjadi string untuk menghindari masalah serialisasi\n",
    "rules_lift['antecedents'] = rules_lift['antecedents'].apply(lambda x: ', '.join(list(x)) if isinstance(x, frozenset) else x)\n",
    "rules_lift['consequents'] = rules_lift['consequents'].apply(lambda x: ', '.join(list(x)) if isinstance(x, frozenset) else x)\n",
    "\n",
    "# Sampling data hanya jika jumlah aturan > 1000, jika tidak gunakan data asli\n",
    "sampled_data = rules_lift.sample(1000, random_state=42) if len(rules_lift) > 1000 else rules_lift\n",
    "# Scatter plot untuk visualisasi tambahan\n",
    "fig_scatter = px.scatter(\n",
    "    sampled_data,\n",
    "    x='lift',\n",
    "    y='confidence',\n",
    "    size='support',\n",
    "    color='lift',\n",
    "    hover_name='antecedents',\n",
    "    hover_data={'support': True, 'confidence': True, 'lift': True, 'consequents': True},\n",
    "    title='Scatter Plot dari Aturan Asosiasi',\n",
    "    labels={'lift': 'Lift', 'confidence': 'Confidence', 'support': 'Support'},\n",
    "    template='plotly_dark'\n",
    ")\n",
    "\n",
    "# Menampilkan grafik\n",
    "fig_scatter.show()"
   ]
  },
  {
   "cell_type": "markdown",
   "metadata": {},
   "source": [
    "Heatmap untuk melihat korelasi antar metrik"
   ]
  },
  {
   "cell_type": "code",
   "execution_count": 43,
   "metadata": {},
   "outputs": [
    {
     "data": {
      "application/vnd.plotly.v1+json": {
       "config": {
        "plotlyServerURL": "https://plot.ly"
       },
       "data": [
        {
         "coloraxis": "coloraxis",
         "hovertemplate": "Metrik: %{x}<br>Metrik: %{y}<br>color: %{z}<extra></extra>",
         "name": "0",
         "type": "heatmap",
         "x": [
          "lift",
          "confidence",
          "support"
         ],
         "xaxis": "x",
         "y": [
          "lift",
          "confidence",
          "support"
         ],
         "yaxis": "y",
         "z": [
          [
           1,
           0.07356710829600087,
           -0.2814176926682177
          ],
          [
           0.07356710829600087,
           1,
           0.17642527206302988
          ],
          [
           -0.2814176926682177,
           0.17642527206302988,
           1
          ]
         ]
        }
       ],
       "layout": {
        "coloraxis": {
         "colorscale": [
          [
           0,
           "#0d0887"
          ],
          [
           0.1111111111111111,
           "#46039f"
          ],
          [
           0.2222222222222222,
           "#7201a8"
          ],
          [
           0.3333333333333333,
           "#9c179e"
          ],
          [
           0.4444444444444444,
           "#bd3786"
          ],
          [
           0.5555555555555556,
           "#d8576b"
          ],
          [
           0.6666666666666666,
           "#ed7953"
          ],
          [
           0.7777777777777778,
           "#fb9f3a"
          ],
          [
           0.8888888888888888,
           "#fdca26"
          ],
          [
           1,
           "#f0f921"
          ]
         ]
        },
        "template": {
         "data": {
          "bar": [
           {
            "error_x": {
             "color": "#f2f5fa"
            },
            "error_y": {
             "color": "#f2f5fa"
            },
            "marker": {
             "line": {
              "color": "rgb(17,17,17)",
              "width": 0.5
             },
             "pattern": {
              "fillmode": "overlay",
              "size": 10,
              "solidity": 0.2
             }
            },
            "type": "bar"
           }
          ],
          "barpolar": [
           {
            "marker": {
             "line": {
              "color": "rgb(17,17,17)",
              "width": 0.5
             },
             "pattern": {
              "fillmode": "overlay",
              "size": 10,
              "solidity": 0.2
             }
            },
            "type": "barpolar"
           }
          ],
          "carpet": [
           {
            "aaxis": {
             "endlinecolor": "#A2B1C6",
             "gridcolor": "#506784",
             "linecolor": "#506784",
             "minorgridcolor": "#506784",
             "startlinecolor": "#A2B1C6"
            },
            "baxis": {
             "endlinecolor": "#A2B1C6",
             "gridcolor": "#506784",
             "linecolor": "#506784",
             "minorgridcolor": "#506784",
             "startlinecolor": "#A2B1C6"
            },
            "type": "carpet"
           }
          ],
          "choropleth": [
           {
            "colorbar": {
             "outlinewidth": 0,
             "ticks": ""
            },
            "type": "choropleth"
           }
          ],
          "contour": [
           {
            "colorbar": {
             "outlinewidth": 0,
             "ticks": ""
            },
            "colorscale": [
             [
              0,
              "#0d0887"
             ],
             [
              0.1111111111111111,
              "#46039f"
             ],
             [
              0.2222222222222222,
              "#7201a8"
             ],
             [
              0.3333333333333333,
              "#9c179e"
             ],
             [
              0.4444444444444444,
              "#bd3786"
             ],
             [
              0.5555555555555556,
              "#d8576b"
             ],
             [
              0.6666666666666666,
              "#ed7953"
             ],
             [
              0.7777777777777778,
              "#fb9f3a"
             ],
             [
              0.8888888888888888,
              "#fdca26"
             ],
             [
              1,
              "#f0f921"
             ]
            ],
            "type": "contour"
           }
          ],
          "contourcarpet": [
           {
            "colorbar": {
             "outlinewidth": 0,
             "ticks": ""
            },
            "type": "contourcarpet"
           }
          ],
          "heatmap": [
           {
            "colorbar": {
             "outlinewidth": 0,
             "ticks": ""
            },
            "colorscale": [
             [
              0,
              "#0d0887"
             ],
             [
              0.1111111111111111,
              "#46039f"
             ],
             [
              0.2222222222222222,
              "#7201a8"
             ],
             [
              0.3333333333333333,
              "#9c179e"
             ],
             [
              0.4444444444444444,
              "#bd3786"
             ],
             [
              0.5555555555555556,
              "#d8576b"
             ],
             [
              0.6666666666666666,
              "#ed7953"
             ],
             [
              0.7777777777777778,
              "#fb9f3a"
             ],
             [
              0.8888888888888888,
              "#fdca26"
             ],
             [
              1,
              "#f0f921"
             ]
            ],
            "type": "heatmap"
           }
          ],
          "heatmapgl": [
           {
            "colorbar": {
             "outlinewidth": 0,
             "ticks": ""
            },
            "colorscale": [
             [
              0,
              "#0d0887"
             ],
             [
              0.1111111111111111,
              "#46039f"
             ],
             [
              0.2222222222222222,
              "#7201a8"
             ],
             [
              0.3333333333333333,
              "#9c179e"
             ],
             [
              0.4444444444444444,
              "#bd3786"
             ],
             [
              0.5555555555555556,
              "#d8576b"
             ],
             [
              0.6666666666666666,
              "#ed7953"
             ],
             [
              0.7777777777777778,
              "#fb9f3a"
             ],
             [
              0.8888888888888888,
              "#fdca26"
             ],
             [
              1,
              "#f0f921"
             ]
            ],
            "type": "heatmapgl"
           }
          ],
          "histogram": [
           {
            "marker": {
             "pattern": {
              "fillmode": "overlay",
              "size": 10,
              "solidity": 0.2
             }
            },
            "type": "histogram"
           }
          ],
          "histogram2d": [
           {
            "colorbar": {
             "outlinewidth": 0,
             "ticks": ""
            },
            "colorscale": [
             [
              0,
              "#0d0887"
             ],
             [
              0.1111111111111111,
              "#46039f"
             ],
             [
              0.2222222222222222,
              "#7201a8"
             ],
             [
              0.3333333333333333,
              "#9c179e"
             ],
             [
              0.4444444444444444,
              "#bd3786"
             ],
             [
              0.5555555555555556,
              "#d8576b"
             ],
             [
              0.6666666666666666,
              "#ed7953"
             ],
             [
              0.7777777777777778,
              "#fb9f3a"
             ],
             [
              0.8888888888888888,
              "#fdca26"
             ],
             [
              1,
              "#f0f921"
             ]
            ],
            "type": "histogram2d"
           }
          ],
          "histogram2dcontour": [
           {
            "colorbar": {
             "outlinewidth": 0,
             "ticks": ""
            },
            "colorscale": [
             [
              0,
              "#0d0887"
             ],
             [
              0.1111111111111111,
              "#46039f"
             ],
             [
              0.2222222222222222,
              "#7201a8"
             ],
             [
              0.3333333333333333,
              "#9c179e"
             ],
             [
              0.4444444444444444,
              "#bd3786"
             ],
             [
              0.5555555555555556,
              "#d8576b"
             ],
             [
              0.6666666666666666,
              "#ed7953"
             ],
             [
              0.7777777777777778,
              "#fb9f3a"
             ],
             [
              0.8888888888888888,
              "#fdca26"
             ],
             [
              1,
              "#f0f921"
             ]
            ],
            "type": "histogram2dcontour"
           }
          ],
          "mesh3d": [
           {
            "colorbar": {
             "outlinewidth": 0,
             "ticks": ""
            },
            "type": "mesh3d"
           }
          ],
          "parcoords": [
           {
            "line": {
             "colorbar": {
              "outlinewidth": 0,
              "ticks": ""
             }
            },
            "type": "parcoords"
           }
          ],
          "pie": [
           {
            "automargin": true,
            "type": "pie"
           }
          ],
          "scatter": [
           {
            "marker": {
             "line": {
              "color": "#283442"
             }
            },
            "type": "scatter"
           }
          ],
          "scatter3d": [
           {
            "line": {
             "colorbar": {
              "outlinewidth": 0,
              "ticks": ""
             }
            },
            "marker": {
             "colorbar": {
              "outlinewidth": 0,
              "ticks": ""
             }
            },
            "type": "scatter3d"
           }
          ],
          "scattercarpet": [
           {
            "marker": {
             "colorbar": {
              "outlinewidth": 0,
              "ticks": ""
             }
            },
            "type": "scattercarpet"
           }
          ],
          "scattergeo": [
           {
            "marker": {
             "colorbar": {
              "outlinewidth": 0,
              "ticks": ""
             }
            },
            "type": "scattergeo"
           }
          ],
          "scattergl": [
           {
            "marker": {
             "line": {
              "color": "#283442"
             }
            },
            "type": "scattergl"
           }
          ],
          "scattermapbox": [
           {
            "marker": {
             "colorbar": {
              "outlinewidth": 0,
              "ticks": ""
             }
            },
            "type": "scattermapbox"
           }
          ],
          "scatterpolar": [
           {
            "marker": {
             "colorbar": {
              "outlinewidth": 0,
              "ticks": ""
             }
            },
            "type": "scatterpolar"
           }
          ],
          "scatterpolargl": [
           {
            "marker": {
             "colorbar": {
              "outlinewidth": 0,
              "ticks": ""
             }
            },
            "type": "scatterpolargl"
           }
          ],
          "scatterternary": [
           {
            "marker": {
             "colorbar": {
              "outlinewidth": 0,
              "ticks": ""
             }
            },
            "type": "scatterternary"
           }
          ],
          "surface": [
           {
            "colorbar": {
             "outlinewidth": 0,
             "ticks": ""
            },
            "colorscale": [
             [
              0,
              "#0d0887"
             ],
             [
              0.1111111111111111,
              "#46039f"
             ],
             [
              0.2222222222222222,
              "#7201a8"
             ],
             [
              0.3333333333333333,
              "#9c179e"
             ],
             [
              0.4444444444444444,
              "#bd3786"
             ],
             [
              0.5555555555555556,
              "#d8576b"
             ],
             [
              0.6666666666666666,
              "#ed7953"
             ],
             [
              0.7777777777777778,
              "#fb9f3a"
             ],
             [
              0.8888888888888888,
              "#fdca26"
             ],
             [
              1,
              "#f0f921"
             ]
            ],
            "type": "surface"
           }
          ],
          "table": [
           {
            "cells": {
             "fill": {
              "color": "#506784"
             },
             "line": {
              "color": "rgb(17,17,17)"
             }
            },
            "header": {
             "fill": {
              "color": "#2a3f5f"
             },
             "line": {
              "color": "rgb(17,17,17)"
             }
            },
            "type": "table"
           }
          ]
         },
         "layout": {
          "annotationdefaults": {
           "arrowcolor": "#f2f5fa",
           "arrowhead": 0,
           "arrowwidth": 1
          },
          "autotypenumbers": "strict",
          "coloraxis": {
           "colorbar": {
            "outlinewidth": 0,
            "ticks": ""
           }
          },
          "colorscale": {
           "diverging": [
            [
             0,
             "#8e0152"
            ],
            [
             0.1,
             "#c51b7d"
            ],
            [
             0.2,
             "#de77ae"
            ],
            [
             0.3,
             "#f1b6da"
            ],
            [
             0.4,
             "#fde0ef"
            ],
            [
             0.5,
             "#f7f7f7"
            ],
            [
             0.6,
             "#e6f5d0"
            ],
            [
             0.7,
             "#b8e186"
            ],
            [
             0.8,
             "#7fbc41"
            ],
            [
             0.9,
             "#4d9221"
            ],
            [
             1,
             "#276419"
            ]
           ],
           "sequential": [
            [
             0,
             "#0d0887"
            ],
            [
             0.1111111111111111,
             "#46039f"
            ],
            [
             0.2222222222222222,
             "#7201a8"
            ],
            [
             0.3333333333333333,
             "#9c179e"
            ],
            [
             0.4444444444444444,
             "#bd3786"
            ],
            [
             0.5555555555555556,
             "#d8576b"
            ],
            [
             0.6666666666666666,
             "#ed7953"
            ],
            [
             0.7777777777777778,
             "#fb9f3a"
            ],
            [
             0.8888888888888888,
             "#fdca26"
            ],
            [
             1,
             "#f0f921"
            ]
           ],
           "sequentialminus": [
            [
             0,
             "#0d0887"
            ],
            [
             0.1111111111111111,
             "#46039f"
            ],
            [
             0.2222222222222222,
             "#7201a8"
            ],
            [
             0.3333333333333333,
             "#9c179e"
            ],
            [
             0.4444444444444444,
             "#bd3786"
            ],
            [
             0.5555555555555556,
             "#d8576b"
            ],
            [
             0.6666666666666666,
             "#ed7953"
            ],
            [
             0.7777777777777778,
             "#fb9f3a"
            ],
            [
             0.8888888888888888,
             "#fdca26"
            ],
            [
             1,
             "#f0f921"
            ]
           ]
          },
          "colorway": [
           "#636efa",
           "#EF553B",
           "#00cc96",
           "#ab63fa",
           "#FFA15A",
           "#19d3f3",
           "#FF6692",
           "#B6E880",
           "#FF97FF",
           "#FECB52"
          ],
          "font": {
           "color": "#f2f5fa"
          },
          "geo": {
           "bgcolor": "rgb(17,17,17)",
           "lakecolor": "rgb(17,17,17)",
           "landcolor": "rgb(17,17,17)",
           "showlakes": true,
           "showland": true,
           "subunitcolor": "#506784"
          },
          "hoverlabel": {
           "align": "left"
          },
          "hovermode": "closest",
          "mapbox": {
           "style": "dark"
          },
          "paper_bgcolor": "rgb(17,17,17)",
          "plot_bgcolor": "rgb(17,17,17)",
          "polar": {
           "angularaxis": {
            "gridcolor": "#506784",
            "linecolor": "#506784",
            "ticks": ""
           },
           "bgcolor": "rgb(17,17,17)",
           "radialaxis": {
            "gridcolor": "#506784",
            "linecolor": "#506784",
            "ticks": ""
           }
          },
          "scene": {
           "xaxis": {
            "backgroundcolor": "rgb(17,17,17)",
            "gridcolor": "#506784",
            "gridwidth": 2,
            "linecolor": "#506784",
            "showbackground": true,
            "ticks": "",
            "zerolinecolor": "#C8D4E3"
           },
           "yaxis": {
            "backgroundcolor": "rgb(17,17,17)",
            "gridcolor": "#506784",
            "gridwidth": 2,
            "linecolor": "#506784",
            "showbackground": true,
            "ticks": "",
            "zerolinecolor": "#C8D4E3"
           },
           "zaxis": {
            "backgroundcolor": "rgb(17,17,17)",
            "gridcolor": "#506784",
            "gridwidth": 2,
            "linecolor": "#506784",
            "showbackground": true,
            "ticks": "",
            "zerolinecolor": "#C8D4E3"
           }
          },
          "shapedefaults": {
           "line": {
            "color": "#f2f5fa"
           }
          },
          "sliderdefaults": {
           "bgcolor": "#C8D4E3",
           "bordercolor": "rgb(17,17,17)",
           "borderwidth": 1,
           "tickwidth": 0
          },
          "ternary": {
           "aaxis": {
            "gridcolor": "#506784",
            "linecolor": "#506784",
            "ticks": ""
           },
           "baxis": {
            "gridcolor": "#506784",
            "linecolor": "#506784",
            "ticks": ""
           },
           "bgcolor": "rgb(17,17,17)",
           "caxis": {
            "gridcolor": "#506784",
            "linecolor": "#506784",
            "ticks": ""
           }
          },
          "title": {
           "x": 0.05
          },
          "updatemenudefaults": {
           "bgcolor": "#506784",
           "borderwidth": 0
          },
          "xaxis": {
           "automargin": true,
           "gridcolor": "#283442",
           "linecolor": "#506784",
           "ticks": "",
           "title": {
            "standoff": 15
           },
           "zerolinecolor": "#283442",
           "zerolinewidth": 2
          },
          "yaxis": {
           "automargin": true,
           "gridcolor": "#283442",
           "linecolor": "#506784",
           "ticks": "",
           "title": {
            "standoff": 15
           },
           "zerolinecolor": "#283442",
           "zerolinewidth": 2
          }
         }
        },
        "title": {
         "text": "Heatmap dari Metrik Aturan Asosiasi"
        },
        "xaxis": {
         "anchor": "y",
         "constrain": "domain",
         "domain": [
          0,
          1
         ],
         "scaleanchor": "y",
         "title": {
          "text": "Metrik"
         }
        },
        "yaxis": {
         "anchor": "x",
         "autorange": "reversed",
         "constrain": "domain",
         "domain": [
          0,
          1
         ],
         "title": {
          "text": "Metrik"
         }
        }
       }
      }
     },
     "metadata": {},
     "output_type": "display_data"
    }
   ],
   "source": [
    "# Heatmap untuk melihat korelasi antar metrik\n",
    "fig_heatmap = px.imshow(\n",
    "    sampled_data[['lift', 'confidence', 'support']].corr(),\n",
    "    title='Heatmap dari Metrik Aturan Asosiasi',\n",
    "    labels={'x': 'Metrik', 'y': 'Metrik'},\n",
    "    template='plotly_dark'\n",
    ")\n",
    "\n",
    "# Menampilkan grafik\n",
    "fig_heatmap.show()"
   ]
  }
 ],
 "metadata": {
  "kernelspec": {
   "display_name": "Python 3",
   "language": "python",
   "name": "python3"
  },
  "language_info": {
   "codemirror_mode": {
    "name": "ipython",
    "version": 3
   },
   "file_extension": ".py",
   "mimetype": "text/x-python",
   "name": "python",
   "nbconvert_exporter": "python",
   "pygments_lexer": "ipython3",
   "version": "3.12.4"
  }
 },
 "nbformat": 4,
 "nbformat_minor": 2
}
